{
 "cells": [
  {
   "cell_type": "markdown",
   "id": "fb444c20-e387-4d23-b5f4-b798a644494c",
   "metadata": {
    "jp-MarkdownHeadingCollapsed": true,
    "tags": []
   },
   "source": [
    "# Isolation Forest"
   ]
  },
  {
   "cell_type": "markdown",
   "id": "50d716ea-9623-4698-9047-7123bc85ebd7",
   "metadata": {},
   "source": [
    "**Este algoritmo es super robusto, ya que no necesita que los datos tengan distribuciones normales. Tampoco es un problema si nuestro conjunto de datos es grande, ya que es eficiente desde el punto de vista computacional.**\n",
    "\n",
    "**Aislamiento es la palabra clave de este algoritmo debido a que aísla las anomalías del resto de las observaciones utilizando un conjunto de árboles. Este procedimiento de aislamiento separa todos los puntos de datos dividiendo aleatoriamente la región en partes más pequeñas. Identifica anomalías como las observaciones con longitudes de ruta promedio cortas en los árboles de aislamiento(puntuación de anomalía). Dado que el algoritmo Isolation Forest se basa en el principio de que las anomalías son observaciones escasas y diferentes, esto debería facilitar su identificación.**\n",
    "* Se selecciona aleatoriamente un punto \"a\" para aislarlo.\n",
    "* Se selecciona un punto de datos aleatorio \"b\" que esté entre el valor mínimo y el máximo y sea diferente de \"a\".\n",
    "* Si el valor de \"b\" es inferior al valor de \"a\", el valor de \"b\" se convierte en el nuevo límite inferior.\n",
    "* Si el valor de \"b\" es mayor que el valor de \"a\", el valor de \"b\" se convierte en el nuevo límite superior.\n",
    "\n",
    "**Este procedimiento se repite mientras haya puntos de datos distintos de \"a\" entre el límite superior y el inferior.**\n",
    "\n",
    "**Un concepto importante en este método es el número de aislamiento. El número de aislamiento es el número de divisiones necesarias para aislar un punto de datos. Este número de divisiones se determina siguiendo los pasos previamente descritos**"
   ]
  },
  {
   "cell_type": "markdown",
   "id": "b0c41032-36a2-4742-8b96-e85a53332d79",
   "metadata": {},
   "source": [
    "<img src=\"Isolation11.jpg\">"
   ]
  },
  {
   "cell_type": "markdown",
   "id": "e36826fc-2fbb-4690-8d80-0ecc14ed9a53",
   "metadata": {},
   "source": [
    "**Antes de continuar con el modelo hay que hablar un poco sobre sus hyperparámetros, Como mencione antes es un modelo similar a random forest por lo que constan de hyperparametros en común. El numero de estimadores, las muestras máximas y las características máximas. Pero el hyperparametro mas importante en este modelo es la contaminación.**\n",
    "\n",
    "**La contaminación se refiere a la proporción esperada de valores atípicos en el conjunto de datos. Se utiliza en el ajuste para definir el umbral de las puntuaciones de las muestras y se establece entre 0 y 1.**"
   ]
  },
  {
   "cell_type": "code",
   "execution_count": 3,
   "id": "389d00d7-c1ab-4be6-88b1-2dfcd67c88fe",
   "metadata": {},
   "outputs": [],
   "source": [
    "import pandas as pd\n",
    "from IPython.display import display\n",
    "import warnings\n",
    "warnings.filterwarnings(\"ignore\")\n",
    "import plotly.express as px\n",
    "from sklearn.ensemble import IsolationForest"
   ]
  },
  {
   "cell_type": "code",
   "execution_count": 10,
   "id": "dea7bd4b-3744-4b6a-9c80-9d36832e3de8",
   "metadata": {},
   "outputs": [],
   "source": [
    "iforest = IsolationForest(n_estimators=100, max_samples='auto', \n",
    "                          contamination='auto', max_features=4, \n",
    "                          bootstrap=False, n_jobs=-1, random_state=1)"
   ]
  },
  {
   "cell_type": "code",
   "execution_count": 11,
   "id": "c2b161c7-d0dc-4c38-be99-5a60f85cb83d",
   "metadata": {},
   "outputs": [
    {
     "data": {
      "text/html": [
       "<div>\n",
       "<style scoped>\n",
       "    .dataframe tbody tr th:only-of-type {\n",
       "        vertical-align: middle;\n",
       "    }\n",
       "\n",
       "    .dataframe tbody tr th {\n",
       "        vertical-align: top;\n",
       "    }\n",
       "\n",
       "    .dataframe thead th {\n",
       "        text-align: right;\n",
       "    }\n",
       "</style>\n",
       "<table border=\"1\" class=\"dataframe\">\n",
       "  <thead>\n",
       "    <tr style=\"text-align: right;\">\n",
       "      <th></th>\n",
       "      <th>SepalLengthCm</th>\n",
       "      <th>SepalWidthCm</th>\n",
       "      <th>PetalLengthCm</th>\n",
       "      <th>PetalWidthCm</th>\n",
       "    </tr>\n",
       "  </thead>\n",
       "  <tbody>\n",
       "    <tr>\n",
       "      <th>0</th>\n",
       "      <td>5.1</td>\n",
       "      <td>3.5</td>\n",
       "      <td>1.4</td>\n",
       "      <td>0.2</td>\n",
       "    </tr>\n",
       "    <tr>\n",
       "      <th>1</th>\n",
       "      <td>4.9</td>\n",
       "      <td>3.0</td>\n",
       "      <td>1.4</td>\n",
       "      <td>0.2</td>\n",
       "    </tr>\n",
       "    <tr>\n",
       "      <th>2</th>\n",
       "      <td>4.7</td>\n",
       "      <td>3.2</td>\n",
       "      <td>1.3</td>\n",
       "      <td>0.2</td>\n",
       "    </tr>\n",
       "    <tr>\n",
       "      <th>3</th>\n",
       "      <td>4.6</td>\n",
       "      <td>3.1</td>\n",
       "      <td>1.5</td>\n",
       "      <td>0.2</td>\n",
       "    </tr>\n",
       "    <tr>\n",
       "      <th>4</th>\n",
       "      <td>5.0</td>\n",
       "      <td>3.6</td>\n",
       "      <td>1.4</td>\n",
       "      <td>0.2</td>\n",
       "    </tr>\n",
       "    <tr>\n",
       "      <th>...</th>\n",
       "      <td>...</td>\n",
       "      <td>...</td>\n",
       "      <td>...</td>\n",
       "      <td>...</td>\n",
       "    </tr>\n",
       "    <tr>\n",
       "      <th>145</th>\n",
       "      <td>6.7</td>\n",
       "      <td>3.0</td>\n",
       "      <td>5.2</td>\n",
       "      <td>2.3</td>\n",
       "    </tr>\n",
       "    <tr>\n",
       "      <th>146</th>\n",
       "      <td>6.3</td>\n",
       "      <td>2.5</td>\n",
       "      <td>5.0</td>\n",
       "      <td>1.9</td>\n",
       "    </tr>\n",
       "    <tr>\n",
       "      <th>147</th>\n",
       "      <td>6.5</td>\n",
       "      <td>3.0</td>\n",
       "      <td>5.2</td>\n",
       "      <td>2.0</td>\n",
       "    </tr>\n",
       "    <tr>\n",
       "      <th>148</th>\n",
       "      <td>6.2</td>\n",
       "      <td>3.4</td>\n",
       "      <td>5.4</td>\n",
       "      <td>2.3</td>\n",
       "    </tr>\n",
       "    <tr>\n",
       "      <th>149</th>\n",
       "      <td>5.9</td>\n",
       "      <td>3.0</td>\n",
       "      <td>5.1</td>\n",
       "      <td>1.8</td>\n",
       "    </tr>\n",
       "  </tbody>\n",
       "</table>\n",
       "<p>150 rows × 4 columns</p>\n",
       "</div>"
      ],
      "text/plain": [
       "     SepalLengthCm  SepalWidthCm  PetalLengthCm  PetalWidthCm\n",
       "0              5.1           3.5            1.4           0.2\n",
       "1              4.9           3.0            1.4           0.2\n",
       "2              4.7           3.2            1.3           0.2\n",
       "3              4.6           3.1            1.5           0.2\n",
       "4              5.0           3.6            1.4           0.2\n",
       "..             ...           ...            ...           ...\n",
       "145            6.7           3.0            5.2           2.3\n",
       "146            6.3           2.5            5.0           1.9\n",
       "147            6.5           3.0            5.2           2.0\n",
       "148            6.2           3.4            5.4           2.3\n",
       "149            5.9           3.0            5.1           1.8\n",
       "\n",
       "[150 rows x 4 columns]"
      ]
     },
     "execution_count": 11,
     "metadata": {},
     "output_type": "execute_result"
    }
   ],
   "source": [
    "df_iris = pd.read_csv(\"Iris.csv\")\n",
    "X = df_iris.drop(['Id', 'Species'], axis=1)\n",
    "X"
   ]
  },
  {
   "cell_type": "code",
   "execution_count": 12,
   "id": "93d5ce8e-9e1c-4c78-9b64-ec9d6bf50c2e",
   "metadata": {},
   "outputs": [
    {
     "data": {
      "text/html": [
       "<div>\n",
       "<style scoped>\n",
       "    .dataframe tbody tr th:only-of-type {\n",
       "        vertical-align: middle;\n",
       "    }\n",
       "\n",
       "    .dataframe tbody tr th {\n",
       "        vertical-align: top;\n",
       "    }\n",
       "\n",
       "    .dataframe thead th {\n",
       "        text-align: right;\n",
       "    }\n",
       "</style>\n",
       "<table border=\"1\" class=\"dataframe\">\n",
       "  <thead>\n",
       "    <tr style=\"text-align: right;\">\n",
       "      <th></th>\n",
       "      <th>SepalLengthCm</th>\n",
       "      <th>SepalWidthCm</th>\n",
       "      <th>PetalLengthCm</th>\n",
       "      <th>PetalWidthCm</th>\n",
       "      <th>scores</th>\n",
       "      <th>anomaly_label</th>\n",
       "    </tr>\n",
       "  </thead>\n",
       "  <tbody>\n",
       "    <tr>\n",
       "      <th>0</th>\n",
       "      <td>5.1</td>\n",
       "      <td>3.5</td>\n",
       "      <td>1.4</td>\n",
       "      <td>0.2</td>\n",
       "      <td>0.091238</td>\n",
       "      <td>1</td>\n",
       "    </tr>\n",
       "    <tr>\n",
       "      <th>1</th>\n",
       "      <td>4.9</td>\n",
       "      <td>3.0</td>\n",
       "      <td>1.4</td>\n",
       "      <td>0.2</td>\n",
       "      <td>0.061452</td>\n",
       "      <td>1</td>\n",
       "    </tr>\n",
       "    <tr>\n",
       "      <th>2</th>\n",
       "      <td>4.7</td>\n",
       "      <td>3.2</td>\n",
       "      <td>1.3</td>\n",
       "      <td>0.2</td>\n",
       "      <td>0.045621</td>\n",
       "      <td>1</td>\n",
       "    </tr>\n",
       "    <tr>\n",
       "      <th>3</th>\n",
       "      <td>4.6</td>\n",
       "      <td>3.1</td>\n",
       "      <td>1.5</td>\n",
       "      <td>0.2</td>\n",
       "      <td>0.034028</td>\n",
       "      <td>1</td>\n",
       "    </tr>\n",
       "    <tr>\n",
       "      <th>4</th>\n",
       "      <td>5.0</td>\n",
       "      <td>3.6</td>\n",
       "      <td>1.4</td>\n",
       "      <td>0.2</td>\n",
       "      <td>0.081412</td>\n",
       "      <td>1</td>\n",
       "    </tr>\n",
       "    <tr>\n",
       "      <th>...</th>\n",
       "      <td>...</td>\n",
       "      <td>...</td>\n",
       "      <td>...</td>\n",
       "      <td>...</td>\n",
       "      <td>...</td>\n",
       "      <td>...</td>\n",
       "    </tr>\n",
       "    <tr>\n",
       "      <th>145</th>\n",
       "      <td>6.7</td>\n",
       "      <td>3.0</td>\n",
       "      <td>5.2</td>\n",
       "      <td>2.3</td>\n",
       "      <td>0.042338</td>\n",
       "      <td>1</td>\n",
       "    </tr>\n",
       "    <tr>\n",
       "      <th>146</th>\n",
       "      <td>6.3</td>\n",
       "      <td>2.5</td>\n",
       "      <td>5.0</td>\n",
       "      <td>1.9</td>\n",
       "      <td>0.031853</td>\n",
       "      <td>1</td>\n",
       "    </tr>\n",
       "    <tr>\n",
       "      <th>147</th>\n",
       "      <td>6.5</td>\n",
       "      <td>3.0</td>\n",
       "      <td>5.2</td>\n",
       "      <td>2.0</td>\n",
       "      <td>0.079236</td>\n",
       "      <td>1</td>\n",
       "    </tr>\n",
       "    <tr>\n",
       "      <th>148</th>\n",
       "      <td>6.2</td>\n",
       "      <td>3.4</td>\n",
       "      <td>5.4</td>\n",
       "      <td>2.3</td>\n",
       "      <td>0.003387</td>\n",
       "      <td>1</td>\n",
       "    </tr>\n",
       "    <tr>\n",
       "      <th>149</th>\n",
       "      <td>5.9</td>\n",
       "      <td>3.0</td>\n",
       "      <td>5.1</td>\n",
       "      <td>1.8</td>\n",
       "      <td>0.082345</td>\n",
       "      <td>1</td>\n",
       "    </tr>\n",
       "  </tbody>\n",
       "</table>\n",
       "<p>150 rows × 6 columns</p>\n",
       "</div>"
      ],
      "text/plain": [
       "     SepalLengthCm  SepalWidthCm  PetalLengthCm  PetalWidthCm    scores  \\\n",
       "0              5.1           3.5            1.4           0.2  0.091238   \n",
       "1              4.9           3.0            1.4           0.2  0.061452   \n",
       "2              4.7           3.2            1.3           0.2  0.045621   \n",
       "3              4.6           3.1            1.5           0.2  0.034028   \n",
       "4              5.0           3.6            1.4           0.2  0.081412   \n",
       "..             ...           ...            ...           ...       ...   \n",
       "145            6.7           3.0            5.2           2.3  0.042338   \n",
       "146            6.3           2.5            5.0           1.9  0.031853   \n",
       "147            6.5           3.0            5.2           2.0  0.079236   \n",
       "148            6.2           3.4            5.4           2.3  0.003387   \n",
       "149            5.9           3.0            5.1           1.8  0.082345   \n",
       "\n",
       "     anomaly_label  \n",
       "0                1  \n",
       "1                1  \n",
       "2                1  \n",
       "3                1  \n",
       "4                1  \n",
       "..             ...  \n",
       "145              1  \n",
       "146              1  \n",
       "147              1  \n",
       "148              1  \n",
       "149              1  \n",
       "\n",
       "[150 rows x 6 columns]"
      ]
     },
     "execution_count": 12,
     "metadata": {},
     "output_type": "execute_result"
    }
   ],
   "source": [
    "pred = iforest.fit_predict(X)\n",
    "X['scores']=iforest.decision_function(X)\n",
    "X['anomaly_label']=pred\n",
    "X"
   ]
  },
  {
   "cell_type": "code",
   "execution_count": 13,
   "id": "d867b456-af69-4f76-87ff-e2709d7952b0",
   "metadata": {},
   "outputs": [
    {
     "data": {
      "text/html": [
       "<div>\n",
       "<style scoped>\n",
       "    .dataframe tbody tr th:only-of-type {\n",
       "        vertical-align: middle;\n",
       "    }\n",
       "\n",
       "    .dataframe tbody tr th {\n",
       "        vertical-align: top;\n",
       "    }\n",
       "\n",
       "    .dataframe thead th {\n",
       "        text-align: right;\n",
       "    }\n",
       "</style>\n",
       "<table border=\"1\" class=\"dataframe\">\n",
       "  <thead>\n",
       "    <tr style=\"text-align: right;\">\n",
       "      <th></th>\n",
       "      <th>SepalLengthCm</th>\n",
       "      <th>SepalWidthCm</th>\n",
       "      <th>PetalLengthCm</th>\n",
       "      <th>PetalWidthCm</th>\n",
       "      <th>scores</th>\n",
       "      <th>anomaly_label</th>\n",
       "    </tr>\n",
       "  </thead>\n",
       "  <tbody>\n",
       "    <tr>\n",
       "      <th>8</th>\n",
       "      <td>4.4</td>\n",
       "      <td>2.9</td>\n",
       "      <td>1.4</td>\n",
       "      <td>0.2</td>\n",
       "      <td>-0.012226</td>\n",
       "      <td>-1</td>\n",
       "    </tr>\n",
       "    <tr>\n",
       "      <th>12</th>\n",
       "      <td>4.8</td>\n",
       "      <td>3.0</td>\n",
       "      <td>1.4</td>\n",
       "      <td>0.1</td>\n",
       "      <td>-0.006835</td>\n",
       "      <td>-1</td>\n",
       "    </tr>\n",
       "    <tr>\n",
       "      <th>13</th>\n",
       "      <td>4.3</td>\n",
       "      <td>3.0</td>\n",
       "      <td>1.1</td>\n",
       "      <td>0.1</td>\n",
       "      <td>-0.123747</td>\n",
       "      <td>-1</td>\n",
       "    </tr>\n",
       "    <tr>\n",
       "      <th>14</th>\n",
       "      <td>5.8</td>\n",
       "      <td>4.0</td>\n",
       "      <td>1.2</td>\n",
       "      <td>0.2</td>\n",
       "      <td>-0.084520</td>\n",
       "      <td>-1</td>\n",
       "    </tr>\n",
       "    <tr>\n",
       "      <th>15</th>\n",
       "      <td>5.7</td>\n",
       "      <td>4.4</td>\n",
       "      <td>1.5</td>\n",
       "      <td>0.4</td>\n",
       "      <td>-0.093904</td>\n",
       "      <td>-1</td>\n",
       "    </tr>\n",
       "    <tr>\n",
       "      <th>18</th>\n",
       "      <td>5.7</td>\n",
       "      <td>3.8</td>\n",
       "      <td>1.7</td>\n",
       "      <td>0.3</td>\n",
       "      <td>-0.017857</td>\n",
       "      <td>-1</td>\n",
       "    </tr>\n",
       "    <tr>\n",
       "      <th>22</th>\n",
       "      <td>4.6</td>\n",
       "      <td>3.6</td>\n",
       "      <td>1.0</td>\n",
       "      <td>0.2</td>\n",
       "      <td>-0.068918</td>\n",
       "      <td>-1</td>\n",
       "    </tr>\n",
       "    <tr>\n",
       "      <th>24</th>\n",
       "      <td>4.8</td>\n",
       "      <td>3.4</td>\n",
       "      <td>1.9</td>\n",
       "      <td>0.2</td>\n",
       "      <td>-0.010076</td>\n",
       "      <td>-1</td>\n",
       "    </tr>\n",
       "    <tr>\n",
       "      <th>32</th>\n",
       "      <td>5.2</td>\n",
       "      <td>4.1</td>\n",
       "      <td>1.5</td>\n",
       "      <td>0.1</td>\n",
       "      <td>-0.058535</td>\n",
       "      <td>-1</td>\n",
       "    </tr>\n",
       "    <tr>\n",
       "      <th>33</th>\n",
       "      <td>5.5</td>\n",
       "      <td>4.2</td>\n",
       "      <td>1.4</td>\n",
       "      <td>0.2</td>\n",
       "      <td>-0.042829</td>\n",
       "      <td>-1</td>\n",
       "    </tr>\n",
       "    <tr>\n",
       "      <th>41</th>\n",
       "      <td>4.5</td>\n",
       "      <td>2.3</td>\n",
       "      <td>1.3</td>\n",
       "      <td>0.3</td>\n",
       "      <td>-0.122379</td>\n",
       "      <td>-1</td>\n",
       "    </tr>\n",
       "    <tr>\n",
       "      <th>43</th>\n",
       "      <td>5.0</td>\n",
       "      <td>3.5</td>\n",
       "      <td>1.6</td>\n",
       "      <td>0.6</td>\n",
       "      <td>-0.020334</td>\n",
       "      <td>-1</td>\n",
       "    </tr>\n",
       "    <tr>\n",
       "      <th>44</th>\n",
       "      <td>5.1</td>\n",
       "      <td>3.8</td>\n",
       "      <td>1.9</td>\n",
       "      <td>0.4</td>\n",
       "      <td>-0.016118</td>\n",
       "      <td>-1</td>\n",
       "    </tr>\n",
       "    <tr>\n",
       "      <th>57</th>\n",
       "      <td>4.9</td>\n",
       "      <td>2.4</td>\n",
       "      <td>3.3</td>\n",
       "      <td>1.0</td>\n",
       "      <td>-0.041152</td>\n",
       "      <td>-1</td>\n",
       "    </tr>\n",
       "    <tr>\n",
       "      <th>59</th>\n",
       "      <td>5.2</td>\n",
       "      <td>2.7</td>\n",
       "      <td>3.9</td>\n",
       "      <td>1.4</td>\n",
       "      <td>-0.001113</td>\n",
       "      <td>-1</td>\n",
       "    </tr>\n",
       "    <tr>\n",
       "      <th>60</th>\n",
       "      <td>5.0</td>\n",
       "      <td>2.0</td>\n",
       "      <td>3.5</td>\n",
       "      <td>1.0</td>\n",
       "      <td>-0.094156</td>\n",
       "      <td>-1</td>\n",
       "    </tr>\n",
       "    <tr>\n",
       "      <th>62</th>\n",
       "      <td>6.0</td>\n",
       "      <td>2.2</td>\n",
       "      <td>4.0</td>\n",
       "      <td>1.0</td>\n",
       "      <td>-0.035150</td>\n",
       "      <td>-1</td>\n",
       "    </tr>\n",
       "    <tr>\n",
       "      <th>93</th>\n",
       "      <td>5.0</td>\n",
       "      <td>2.3</td>\n",
       "      <td>3.3</td>\n",
       "      <td>1.0</td>\n",
       "      <td>-0.028117</td>\n",
       "      <td>-1</td>\n",
       "    </tr>\n",
       "    <tr>\n",
       "      <th>98</th>\n",
       "      <td>5.1</td>\n",
       "      <td>2.5</td>\n",
       "      <td>3.0</td>\n",
       "      <td>1.1</td>\n",
       "      <td>-0.039596</td>\n",
       "      <td>-1</td>\n",
       "    </tr>\n",
       "    <tr>\n",
       "      <th>100</th>\n",
       "      <td>6.3</td>\n",
       "      <td>3.3</td>\n",
       "      <td>6.0</td>\n",
       "      <td>2.5</td>\n",
       "      <td>-0.033219</td>\n",
       "      <td>-1</td>\n",
       "    </tr>\n",
       "    <tr>\n",
       "      <th>105</th>\n",
       "      <td>7.6</td>\n",
       "      <td>3.0</td>\n",
       "      <td>6.6</td>\n",
       "      <td>2.1</td>\n",
       "      <td>-0.063557</td>\n",
       "      <td>-1</td>\n",
       "    </tr>\n",
       "    <tr>\n",
       "      <th>106</th>\n",
       "      <td>4.9</td>\n",
       "      <td>2.5</td>\n",
       "      <td>4.5</td>\n",
       "      <td>1.7</td>\n",
       "      <td>-0.049035</td>\n",
       "      <td>-1</td>\n",
       "    </tr>\n",
       "    <tr>\n",
       "      <th>107</th>\n",
       "      <td>7.3</td>\n",
       "      <td>2.9</td>\n",
       "      <td>6.3</td>\n",
       "      <td>1.8</td>\n",
       "      <td>-0.020267</td>\n",
       "      <td>-1</td>\n",
       "    </tr>\n",
       "    <tr>\n",
       "      <th>108</th>\n",
       "      <td>6.7</td>\n",
       "      <td>2.5</td>\n",
       "      <td>5.8</td>\n",
       "      <td>1.8</td>\n",
       "      <td>-0.011673</td>\n",
       "      <td>-1</td>\n",
       "    </tr>\n",
       "    <tr>\n",
       "      <th>109</th>\n",
       "      <td>7.2</td>\n",
       "      <td>3.6</td>\n",
       "      <td>6.1</td>\n",
       "      <td>2.5</td>\n",
       "      <td>-0.101438</td>\n",
       "      <td>-1</td>\n",
       "    </tr>\n",
       "    <tr>\n",
       "      <th>114</th>\n",
       "      <td>5.8</td>\n",
       "      <td>2.8</td>\n",
       "      <td>5.1</td>\n",
       "      <td>2.4</td>\n",
       "      <td>-0.018443</td>\n",
       "      <td>-1</td>\n",
       "    </tr>\n",
       "    <tr>\n",
       "      <th>117</th>\n",
       "      <td>7.7</td>\n",
       "      <td>3.8</td>\n",
       "      <td>6.7</td>\n",
       "      <td>2.2</td>\n",
       "      <td>-0.133312</td>\n",
       "      <td>-1</td>\n",
       "    </tr>\n",
       "    <tr>\n",
       "      <th>118</th>\n",
       "      <td>7.7</td>\n",
       "      <td>2.6</td>\n",
       "      <td>6.9</td>\n",
       "      <td>2.3</td>\n",
       "      <td>-0.134362</td>\n",
       "      <td>-1</td>\n",
       "    </tr>\n",
       "    <tr>\n",
       "      <th>119</th>\n",
       "      <td>6.0</td>\n",
       "      <td>2.2</td>\n",
       "      <td>5.0</td>\n",
       "      <td>1.5</td>\n",
       "      <td>-0.005360</td>\n",
       "      <td>-1</td>\n",
       "    </tr>\n",
       "    <tr>\n",
       "      <th>122</th>\n",
       "      <td>7.7</td>\n",
       "      <td>2.8</td>\n",
       "      <td>6.7</td>\n",
       "      <td>2.0</td>\n",
       "      <td>-0.069522</td>\n",
       "      <td>-1</td>\n",
       "    </tr>\n",
       "    <tr>\n",
       "      <th>125</th>\n",
       "      <td>7.2</td>\n",
       "      <td>3.2</td>\n",
       "      <td>6.0</td>\n",
       "      <td>1.8</td>\n",
       "      <td>-0.005678</td>\n",
       "      <td>-1</td>\n",
       "    </tr>\n",
       "    <tr>\n",
       "      <th>129</th>\n",
       "      <td>7.2</td>\n",
       "      <td>3.0</td>\n",
       "      <td>5.8</td>\n",
       "      <td>1.6</td>\n",
       "      <td>-0.004063</td>\n",
       "      <td>-1</td>\n",
       "    </tr>\n",
       "    <tr>\n",
       "      <th>130</th>\n",
       "      <td>7.4</td>\n",
       "      <td>2.8</td>\n",
       "      <td>6.1</td>\n",
       "      <td>1.9</td>\n",
       "      <td>-0.025913</td>\n",
       "      <td>-1</td>\n",
       "    </tr>\n",
       "    <tr>\n",
       "      <th>131</th>\n",
       "      <td>7.9</td>\n",
       "      <td>3.8</td>\n",
       "      <td>6.4</td>\n",
       "      <td>2.0</td>\n",
       "      <td>-0.148877</td>\n",
       "      <td>-1</td>\n",
       "    </tr>\n",
       "    <tr>\n",
       "      <th>135</th>\n",
       "      <td>7.7</td>\n",
       "      <td>3.0</td>\n",
       "      <td>6.1</td>\n",
       "      <td>2.3</td>\n",
       "      <td>-0.061608</td>\n",
       "      <td>-1</td>\n",
       "    </tr>\n",
       "    <tr>\n",
       "      <th>144</th>\n",
       "      <td>6.7</td>\n",
       "      <td>3.3</td>\n",
       "      <td>5.7</td>\n",
       "      <td>2.5</td>\n",
       "      <td>-0.003789</td>\n",
       "      <td>-1</td>\n",
       "    </tr>\n",
       "  </tbody>\n",
       "</table>\n",
       "</div>"
      ],
      "text/plain": [
       "     SepalLengthCm  SepalWidthCm  PetalLengthCm  PetalWidthCm    scores  \\\n",
       "8              4.4           2.9            1.4           0.2 -0.012226   \n",
       "12             4.8           3.0            1.4           0.1 -0.006835   \n",
       "13             4.3           3.0            1.1           0.1 -0.123747   \n",
       "14             5.8           4.0            1.2           0.2 -0.084520   \n",
       "15             5.7           4.4            1.5           0.4 -0.093904   \n",
       "18             5.7           3.8            1.7           0.3 -0.017857   \n",
       "22             4.6           3.6            1.0           0.2 -0.068918   \n",
       "24             4.8           3.4            1.9           0.2 -0.010076   \n",
       "32             5.2           4.1            1.5           0.1 -0.058535   \n",
       "33             5.5           4.2            1.4           0.2 -0.042829   \n",
       "41             4.5           2.3            1.3           0.3 -0.122379   \n",
       "43             5.0           3.5            1.6           0.6 -0.020334   \n",
       "44             5.1           3.8            1.9           0.4 -0.016118   \n",
       "57             4.9           2.4            3.3           1.0 -0.041152   \n",
       "59             5.2           2.7            3.9           1.4 -0.001113   \n",
       "60             5.0           2.0            3.5           1.0 -0.094156   \n",
       "62             6.0           2.2            4.0           1.0 -0.035150   \n",
       "93             5.0           2.3            3.3           1.0 -0.028117   \n",
       "98             5.1           2.5            3.0           1.1 -0.039596   \n",
       "100            6.3           3.3            6.0           2.5 -0.033219   \n",
       "105            7.6           3.0            6.6           2.1 -0.063557   \n",
       "106            4.9           2.5            4.5           1.7 -0.049035   \n",
       "107            7.3           2.9            6.3           1.8 -0.020267   \n",
       "108            6.7           2.5            5.8           1.8 -0.011673   \n",
       "109            7.2           3.6            6.1           2.5 -0.101438   \n",
       "114            5.8           2.8            5.1           2.4 -0.018443   \n",
       "117            7.7           3.8            6.7           2.2 -0.133312   \n",
       "118            7.7           2.6            6.9           2.3 -0.134362   \n",
       "119            6.0           2.2            5.0           1.5 -0.005360   \n",
       "122            7.7           2.8            6.7           2.0 -0.069522   \n",
       "125            7.2           3.2            6.0           1.8 -0.005678   \n",
       "129            7.2           3.0            5.8           1.6 -0.004063   \n",
       "130            7.4           2.8            6.1           1.9 -0.025913   \n",
       "131            7.9           3.8            6.4           2.0 -0.148877   \n",
       "135            7.7           3.0            6.1           2.3 -0.061608   \n",
       "144            6.7           3.3            5.7           2.5 -0.003789   \n",
       "\n",
       "     anomaly_label  \n",
       "8               -1  \n",
       "12              -1  \n",
       "13              -1  \n",
       "14              -1  \n",
       "15              -1  \n",
       "18              -1  \n",
       "22              -1  \n",
       "24              -1  \n",
       "32              -1  \n",
       "33              -1  \n",
       "41              -1  \n",
       "43              -1  \n",
       "44              -1  \n",
       "57              -1  \n",
       "59              -1  \n",
       "60              -1  \n",
       "62              -1  \n",
       "93              -1  \n",
       "98              -1  \n",
       "100             -1  \n",
       "105             -1  \n",
       "106             -1  \n",
       "107             -1  \n",
       "108             -1  \n",
       "109             -1  \n",
       "114             -1  \n",
       "117             -1  \n",
       "118             -1  \n",
       "119             -1  \n",
       "122             -1  \n",
       "125             -1  \n",
       "129             -1  \n",
       "130             -1  \n",
       "131             -1  \n",
       "135             -1  \n",
       "144             -1  "
      ]
     },
     "execution_count": 13,
     "metadata": {},
     "output_type": "execute_result"
    }
   ],
   "source": [
    "X[X.anomaly_label==-1]"
   ]
  },
  {
   "cell_type": "code",
   "execution_count": 14,
   "id": "7b42f860-7ed7-4ad3-adca-96dca48f7388",
   "metadata": {},
   "outputs": [
    {
     "data": {
      "application/vnd.plotly.v1+json": {
       "config": {
        "plotlyServerURL": "https://plot.ly"
       },
       "data": [
        {
         "alignmentgroup": "True",
         "bingroup": "x",
         "hovertemplate": "anomaly=inlier<br>scores=%{x}<br>count=%{y}<extra></extra>",
         "legendgroup": "inlier",
         "marker": {
          "color": "#636efa",
          "pattern": {
           "shape": ""
          }
         },
         "name": "inlier",
         "offsetgroup": "inlier",
         "orientation": "v",
         "showlegend": true,
         "type": "histogram",
         "x": [
          0.09123816859664896,
          0.06145182922812542,
          0.04562083658634275,
          0.03402832097226738,
          0.08141214327337176,
          0.007313798953166584,
          0.013388323527093238,
          0.09284895751005245,
          0.027878929980663325,
          0.06326705090265428,
          0.05941859632503155,
          0.0017612077129021686,
          0.06808348502887346,
          0.049821770551107536,
          0.027418346291873175,
          0.05313087947920775,
          0.006861330117067854,
          0.054949388048559644,
          0.05141785752011352,
          0.08514236156703564,
          0.0822740160816966,
          0.036164096728248996,
          0.056008742928600586,
          0.0395179721916844,
          0.027878929980663325,
          0.02656308719455497,
          0.03440379032108615,
          0.027878929980663325,
          0.008700236650527104,
          0.09435268662879287,
          0.04392788965615757,
          0.017688797790101296,
          0.021720853380380933,
          0.05811774994856117,
          0.055940443540132334,
          0.06958667842297578,
          0.08588189053408762,
          0.009274960587581205,
          0.06796944177452424,
          0.05819186404287563,
          0.01316802376248255,
          0.08210505634855242,
          0.09128222532768349,
          0.04241917266922568,
          0.06579871633908785,
          0.07518688547221158,
          0.09832187489392585,
          0.03986048424066607,
          0.060323554004006574,
          0.07735746394923632,
          0.031625723321817845,
          0.005118639321151808,
          0.027256293107785934,
          0.053064106892867,
          0.0720797164758274,
          0.05354835711732442,
          0.06317615652799269,
          0.07577338776122783,
          0.072966905823378,
          0.0563843571642238,
          0.07194343348772142,
          0.1010827109252736,
          0.0005986561613599561,
          0.01680014933825119,
          0.0047258903365576255,
          0.06123571497735436,
          0.08241265041284396,
          0.055005026381781785,
          0.01698848993329488,
          0.07826431901487291,
          0.012861884664740031,
          0.0701163799999645,
          0.04477570371944378,
          0.046781060885456416,
          0.09378276665694552,
          0.05524714558052207,
          0.07450079102938212,
          0.057232474770904485,
          0.08988844931749024,
          0.0850049270147129,
          0.09026952217361034,
          0.07377610017677427,
          0.02009548358118496,
          0.0814179940714852,
          0.040751351783240464,
          0.053430991996329946,
          0.061116284392804865,
          0.06051045550615303,
          0.0020383390032041593,
          0.039926471568117405,
          0.08493801090066894,
          0.03747720552532757,
          0.01951539844184086,
          0.07233142428631822,
          0.04393647982374338,
          0.08433936557606464,
          0.08691603061406472,
          0.058936115976696846,
          0.03360363954259438,
          0.08296007007802875,
          0.012379889053004689,
          0.0027818198479729883,
          0.07523832342340125,
          0.08660169636198467,
          0.0557269948912939,
          0.027209453695033192,
          0.029095801729024318,
          0.07377610017677427,
          0.024793170038973855,
          0.042338379499974155,
          0.031853311559411845,
          0.0792358007411027,
          0.003386573525620995,
          0.08234508885366443
         ],
         "xaxis": "x",
         "yaxis": "y"
        },
        {
         "alignmentgroup": "True",
         "bingroup": "x",
         "hovertemplate": "anomaly=outlier<br>scores=%{x}<br>count=%{y}<extra></extra>",
         "legendgroup": "outlier",
         "marker": {
          "color": "#EF553B",
          "pattern": {
           "shape": ""
          }
         },
         "name": "outlier",
         "offsetgroup": "outlier",
         "orientation": "v",
         "showlegend": true,
         "type": "histogram",
         "x": [
          -0.012225531164619663,
          -0.006835489944938322,
          -0.12374725408025256,
          -0.0845201303619435,
          -0.09390426079445446,
          -0.017857326950452168,
          -0.06891798552379602,
          -0.010076253909994781,
          -0.058534640172986374,
          -0.042829407943640985,
          -0.12237927782136115,
          -0.020333976966916856,
          -0.016117992965045014,
          -0.04115196061400128,
          -0.0011130198889238718,
          -0.09415647871633359,
          -0.03515042751267505,
          -0.028117200552768007,
          -0.03959583285010981,
          -0.03321909687874114,
          -0.06355715471888557,
          -0.049035348972137904,
          -0.02026737166116932,
          -0.011672650497213333,
          -0.10143785491904511,
          -0.018443285397240716,
          -0.13331241273009153,
          -0.1343620141697357,
          -0.005359699296036857,
          -0.06952218302120994,
          -0.005677923682506081,
          -0.004063468686423932,
          -0.02591286657789804,
          -0.1488769059401498,
          -0.06160847586326801,
          -0.003788927952030563
         ],
         "xaxis": "x",
         "yaxis": "y"
        }
       ],
       "layout": {
        "autosize": true,
        "barmode": "relative",
        "legend": {
         "title": {
          "text": "anomaly"
         },
         "tracegroupgap": 0
        },
        "margin": {
         "t": 60
        },
        "template": {
         "data": {
          "bar": [
           {
            "error_x": {
             "color": "#2a3f5f"
            },
            "error_y": {
             "color": "#2a3f5f"
            },
            "marker": {
             "line": {
              "color": "#E5ECF6",
              "width": 0.5
             },
             "pattern": {
              "fillmode": "overlay",
              "size": 10,
              "solidity": 0.2
             }
            },
            "type": "bar"
           }
          ],
          "barpolar": [
           {
            "marker": {
             "line": {
              "color": "#E5ECF6",
              "width": 0.5
             },
             "pattern": {
              "fillmode": "overlay",
              "size": 10,
              "solidity": 0.2
             }
            },
            "type": "barpolar"
           }
          ],
          "carpet": [
           {
            "aaxis": {
             "endlinecolor": "#2a3f5f",
             "gridcolor": "white",
             "linecolor": "white",
             "minorgridcolor": "white",
             "startlinecolor": "#2a3f5f"
            },
            "baxis": {
             "endlinecolor": "#2a3f5f",
             "gridcolor": "white",
             "linecolor": "white",
             "minorgridcolor": "white",
             "startlinecolor": "#2a3f5f"
            },
            "type": "carpet"
           }
          ],
          "choropleth": [
           {
            "colorbar": {
             "outlinewidth": 0,
             "ticks": ""
            },
            "type": "choropleth"
           }
          ],
          "contour": [
           {
            "colorbar": {
             "outlinewidth": 0,
             "ticks": ""
            },
            "colorscale": [
             [
              0,
              "#0d0887"
             ],
             [
              0.1111111111111111,
              "#46039f"
             ],
             [
              0.2222222222222222,
              "#7201a8"
             ],
             [
              0.3333333333333333,
              "#9c179e"
             ],
             [
              0.4444444444444444,
              "#bd3786"
             ],
             [
              0.5555555555555556,
              "#d8576b"
             ],
             [
              0.6666666666666666,
              "#ed7953"
             ],
             [
              0.7777777777777778,
              "#fb9f3a"
             ],
             [
              0.8888888888888888,
              "#fdca26"
             ],
             [
              1,
              "#f0f921"
             ]
            ],
            "type": "contour"
           }
          ],
          "contourcarpet": [
           {
            "colorbar": {
             "outlinewidth": 0,
             "ticks": ""
            },
            "type": "contourcarpet"
           }
          ],
          "heatmap": [
           {
            "colorbar": {
             "outlinewidth": 0,
             "ticks": ""
            },
            "colorscale": [
             [
              0,
              "#0d0887"
             ],
             [
              0.1111111111111111,
              "#46039f"
             ],
             [
              0.2222222222222222,
              "#7201a8"
             ],
             [
              0.3333333333333333,
              "#9c179e"
             ],
             [
              0.4444444444444444,
              "#bd3786"
             ],
             [
              0.5555555555555556,
              "#d8576b"
             ],
             [
              0.6666666666666666,
              "#ed7953"
             ],
             [
              0.7777777777777778,
              "#fb9f3a"
             ],
             [
              0.8888888888888888,
              "#fdca26"
             ],
             [
              1,
              "#f0f921"
             ]
            ],
            "type": "heatmap"
           }
          ],
          "heatmapgl": [
           {
            "colorbar": {
             "outlinewidth": 0,
             "ticks": ""
            },
            "colorscale": [
             [
              0,
              "#0d0887"
             ],
             [
              0.1111111111111111,
              "#46039f"
             ],
             [
              0.2222222222222222,
              "#7201a8"
             ],
             [
              0.3333333333333333,
              "#9c179e"
             ],
             [
              0.4444444444444444,
              "#bd3786"
             ],
             [
              0.5555555555555556,
              "#d8576b"
             ],
             [
              0.6666666666666666,
              "#ed7953"
             ],
             [
              0.7777777777777778,
              "#fb9f3a"
             ],
             [
              0.8888888888888888,
              "#fdca26"
             ],
             [
              1,
              "#f0f921"
             ]
            ],
            "type": "heatmapgl"
           }
          ],
          "histogram": [
           {
            "marker": {
             "pattern": {
              "fillmode": "overlay",
              "size": 10,
              "solidity": 0.2
             }
            },
            "type": "histogram"
           }
          ],
          "histogram2d": [
           {
            "colorbar": {
             "outlinewidth": 0,
             "ticks": ""
            },
            "colorscale": [
             [
              0,
              "#0d0887"
             ],
             [
              0.1111111111111111,
              "#46039f"
             ],
             [
              0.2222222222222222,
              "#7201a8"
             ],
             [
              0.3333333333333333,
              "#9c179e"
             ],
             [
              0.4444444444444444,
              "#bd3786"
             ],
             [
              0.5555555555555556,
              "#d8576b"
             ],
             [
              0.6666666666666666,
              "#ed7953"
             ],
             [
              0.7777777777777778,
              "#fb9f3a"
             ],
             [
              0.8888888888888888,
              "#fdca26"
             ],
             [
              1,
              "#f0f921"
             ]
            ],
            "type": "histogram2d"
           }
          ],
          "histogram2dcontour": [
           {
            "colorbar": {
             "outlinewidth": 0,
             "ticks": ""
            },
            "colorscale": [
             [
              0,
              "#0d0887"
             ],
             [
              0.1111111111111111,
              "#46039f"
             ],
             [
              0.2222222222222222,
              "#7201a8"
             ],
             [
              0.3333333333333333,
              "#9c179e"
             ],
             [
              0.4444444444444444,
              "#bd3786"
             ],
             [
              0.5555555555555556,
              "#d8576b"
             ],
             [
              0.6666666666666666,
              "#ed7953"
             ],
             [
              0.7777777777777778,
              "#fb9f3a"
             ],
             [
              0.8888888888888888,
              "#fdca26"
             ],
             [
              1,
              "#f0f921"
             ]
            ],
            "type": "histogram2dcontour"
           }
          ],
          "mesh3d": [
           {
            "colorbar": {
             "outlinewidth": 0,
             "ticks": ""
            },
            "type": "mesh3d"
           }
          ],
          "parcoords": [
           {
            "line": {
             "colorbar": {
              "outlinewidth": 0,
              "ticks": ""
             }
            },
            "type": "parcoords"
           }
          ],
          "pie": [
           {
            "automargin": true,
            "type": "pie"
           }
          ],
          "scatter": [
           {
            "fillpattern": {
             "fillmode": "overlay",
             "size": 10,
             "solidity": 0.2
            },
            "type": "scatter"
           }
          ],
          "scatter3d": [
           {
            "line": {
             "colorbar": {
              "outlinewidth": 0,
              "ticks": ""
             }
            },
            "marker": {
             "colorbar": {
              "outlinewidth": 0,
              "ticks": ""
             }
            },
            "type": "scatter3d"
           }
          ],
          "scattercarpet": [
           {
            "marker": {
             "colorbar": {
              "outlinewidth": 0,
              "ticks": ""
             }
            },
            "type": "scattercarpet"
           }
          ],
          "scattergeo": [
           {
            "marker": {
             "colorbar": {
              "outlinewidth": 0,
              "ticks": ""
             }
            },
            "type": "scattergeo"
           }
          ],
          "scattergl": [
           {
            "marker": {
             "colorbar": {
              "outlinewidth": 0,
              "ticks": ""
             }
            },
            "type": "scattergl"
           }
          ],
          "scattermapbox": [
           {
            "marker": {
             "colorbar": {
              "outlinewidth": 0,
              "ticks": ""
             }
            },
            "type": "scattermapbox"
           }
          ],
          "scatterpolar": [
           {
            "marker": {
             "colorbar": {
              "outlinewidth": 0,
              "ticks": ""
             }
            },
            "type": "scatterpolar"
           }
          ],
          "scatterpolargl": [
           {
            "marker": {
             "colorbar": {
              "outlinewidth": 0,
              "ticks": ""
             }
            },
            "type": "scatterpolargl"
           }
          ],
          "scatterternary": [
           {
            "marker": {
             "colorbar": {
              "outlinewidth": 0,
              "ticks": ""
             }
            },
            "type": "scatterternary"
           }
          ],
          "surface": [
           {
            "colorbar": {
             "outlinewidth": 0,
             "ticks": ""
            },
            "colorscale": [
             [
              0,
              "#0d0887"
             ],
             [
              0.1111111111111111,
              "#46039f"
             ],
             [
              0.2222222222222222,
              "#7201a8"
             ],
             [
              0.3333333333333333,
              "#9c179e"
             ],
             [
              0.4444444444444444,
              "#bd3786"
             ],
             [
              0.5555555555555556,
              "#d8576b"
             ],
             [
              0.6666666666666666,
              "#ed7953"
             ],
             [
              0.7777777777777778,
              "#fb9f3a"
             ],
             [
              0.8888888888888888,
              "#fdca26"
             ],
             [
              1,
              "#f0f921"
             ]
            ],
            "type": "surface"
           }
          ],
          "table": [
           {
            "cells": {
             "fill": {
              "color": "#EBF0F8"
             },
             "line": {
              "color": "white"
             }
            },
            "header": {
             "fill": {
              "color": "#C8D4E3"
             },
             "line": {
              "color": "white"
             }
            },
            "type": "table"
           }
          ]
         },
         "layout": {
          "annotationdefaults": {
           "arrowcolor": "#2a3f5f",
           "arrowhead": 0,
           "arrowwidth": 1
          },
          "autotypenumbers": "strict",
          "coloraxis": {
           "colorbar": {
            "outlinewidth": 0,
            "ticks": ""
           }
          },
          "colorscale": {
           "diverging": [
            [
             0,
             "#8e0152"
            ],
            [
             0.1,
             "#c51b7d"
            ],
            [
             0.2,
             "#de77ae"
            ],
            [
             0.3,
             "#f1b6da"
            ],
            [
             0.4,
             "#fde0ef"
            ],
            [
             0.5,
             "#f7f7f7"
            ],
            [
             0.6,
             "#e6f5d0"
            ],
            [
             0.7,
             "#b8e186"
            ],
            [
             0.8,
             "#7fbc41"
            ],
            [
             0.9,
             "#4d9221"
            ],
            [
             1,
             "#276419"
            ]
           ],
           "sequential": [
            [
             0,
             "#0d0887"
            ],
            [
             0.1111111111111111,
             "#46039f"
            ],
            [
             0.2222222222222222,
             "#7201a8"
            ],
            [
             0.3333333333333333,
             "#9c179e"
            ],
            [
             0.4444444444444444,
             "#bd3786"
            ],
            [
             0.5555555555555556,
             "#d8576b"
            ],
            [
             0.6666666666666666,
             "#ed7953"
            ],
            [
             0.7777777777777778,
             "#fb9f3a"
            ],
            [
             0.8888888888888888,
             "#fdca26"
            ],
            [
             1,
             "#f0f921"
            ]
           ],
           "sequentialminus": [
            [
             0,
             "#0d0887"
            ],
            [
             0.1111111111111111,
             "#46039f"
            ],
            [
             0.2222222222222222,
             "#7201a8"
            ],
            [
             0.3333333333333333,
             "#9c179e"
            ],
            [
             0.4444444444444444,
             "#bd3786"
            ],
            [
             0.5555555555555556,
             "#d8576b"
            ],
            [
             0.6666666666666666,
             "#ed7953"
            ],
            [
             0.7777777777777778,
             "#fb9f3a"
            ],
            [
             0.8888888888888888,
             "#fdca26"
            ],
            [
             1,
             "#f0f921"
            ]
           ]
          },
          "colorway": [
           "#636efa",
           "#EF553B",
           "#00cc96",
           "#ab63fa",
           "#FFA15A",
           "#19d3f3",
           "#FF6692",
           "#B6E880",
           "#FF97FF",
           "#FECB52"
          ],
          "font": {
           "color": "#2a3f5f"
          },
          "geo": {
           "bgcolor": "white",
           "lakecolor": "white",
           "landcolor": "#E5ECF6",
           "showlakes": true,
           "showland": true,
           "subunitcolor": "white"
          },
          "hoverlabel": {
           "align": "left"
          },
          "hovermode": "closest",
          "mapbox": {
           "style": "light"
          },
          "paper_bgcolor": "white",
          "plot_bgcolor": "#E5ECF6",
          "polar": {
           "angularaxis": {
            "gridcolor": "white",
            "linecolor": "white",
            "ticks": ""
           },
           "bgcolor": "#E5ECF6",
           "radialaxis": {
            "gridcolor": "white",
            "linecolor": "white",
            "ticks": ""
           }
          },
          "scene": {
           "xaxis": {
            "backgroundcolor": "#E5ECF6",
            "gridcolor": "white",
            "gridwidth": 2,
            "linecolor": "white",
            "showbackground": true,
            "ticks": "",
            "zerolinecolor": "white"
           },
           "yaxis": {
            "backgroundcolor": "#E5ECF6",
            "gridcolor": "white",
            "gridwidth": 2,
            "linecolor": "white",
            "showbackground": true,
            "ticks": "",
            "zerolinecolor": "white"
           },
           "zaxis": {
            "backgroundcolor": "#E5ECF6",
            "gridcolor": "white",
            "gridwidth": 2,
            "linecolor": "white",
            "showbackground": true,
            "ticks": "",
            "zerolinecolor": "white"
           }
          },
          "shapedefaults": {
           "line": {
            "color": "#2a3f5f"
           }
          },
          "ternary": {
           "aaxis": {
            "gridcolor": "white",
            "linecolor": "white",
            "ticks": ""
           },
           "baxis": {
            "gridcolor": "white",
            "linecolor": "white",
            "ticks": ""
           },
           "bgcolor": "#E5ECF6",
           "caxis": {
            "gridcolor": "white",
            "linecolor": "white",
            "ticks": ""
           }
          },
          "title": {
           "x": 0.05
          },
          "xaxis": {
           "automargin": true,
           "gridcolor": "white",
           "linecolor": "white",
           "ticks": "",
           "title": {
            "standoff": 15
           },
           "zerolinecolor": "white",
           "zerolinewidth": 2
          },
          "yaxis": {
           "automargin": true,
           "gridcolor": "white",
           "linecolor": "white",
           "ticks": "",
           "title": {
            "standoff": 15
           },
           "zerolinecolor": "white",
           "zerolinewidth": 2
          }
         }
        },
        "xaxis": {
         "anchor": "y",
         "autorange": true,
         "domain": [
          0,
          1
         ],
         "range": [
          -0.16000000000000003,
          0.12
         ],
         "title": {
          "text": "scores"
         },
         "type": "linear"
        },
        "yaxis": {
         "anchor": "x",
         "autorange": true,
         "domain": [
          0,
          1
         ],
         "range": [
          0,
          27.36842105263158
         ],
         "title": {
          "text": "count"
         }
        }
       }
      },
      "image/png": "[encoded data removed]",
      "text/html": [
       "<div>                            <div id=\"29411efb-86eb-4a87-a687-992e1b2b0ae2\" class=\"plotly-graph-div\" style=\"height:525px; width:100%;\"></div>            <script type=\"text/javascript\">                require([\"plotly\"], function(Plotly) {                    window.PLOTLYENV=window.PLOTLYENV || {};                                    if (document.getElementById(\"29411efb-86eb-4a87-a687-992e1b2b0ae2\")) {                    Plotly.newPlot(                        \"29411efb-86eb-4a87-a687-992e1b2b0ae2\",                        [{\"alignmentgroup\":\"True\",\"bingroup\":\"x\",\"hovertemplate\":\"anomaly=inlier\\u003cbr\\u003escores=%{x}\\u003cbr\\u003ecount=%{y}\\u003cextra\\u003e\\u003c\\u002fextra\\u003e\",\"legendgroup\":\"inlier\",\"marker\":{\"color\":\"#636efa\",\"pattern\":{\"shape\":\"\"}},\"name\":\"inlier\",\"offsetgroup\":\"inlier\",\"orientation\":\"v\",\"showlegend\":true,\"x\":[0.09123816859664896,0.06145182922812542,0.04562083658634275,0.03402832097226738,0.08141214327337176,0.007313798953166584,0.013388323527093238,0.09284895751005245,0.027878929980663325,0.06326705090265428,0.05941859632503155,0.0017612077129021686,0.06808348502887346,0.049821770551107536,0.027418346291873175,0.05313087947920775,0.006861330117067854,0.054949388048559644,0.05141785752011352,0.08514236156703564,0.0822740160816966,0.036164096728248996,0.056008742928600586,0.0395179721916844,0.027878929980663325,0.02656308719455497,0.03440379032108615,0.027878929980663325,0.008700236650527104,0.09435268662879287,0.04392788965615757,0.017688797790101296,0.021720853380380933,0.05811774994856117,0.055940443540132334,0.06958667842297578,0.08588189053408762,0.009274960587581205,0.06796944177452424,0.05819186404287563,0.01316802376248255,0.08210505634855242,0.09128222532768349,0.04241917266922568,0.06579871633908785,0.07518688547221158,0.09832187489392585,0.03986048424066607,0.060323554004006574,0.07735746394923632,0.031625723321817845,0.005118639321151808,0.027256293107785934,0.053064106892867,0.0720797164758274,0.05354835711732442,0.06317615652799269,0.07577338776122783,0.072966905823378,0.0563843571642238,0.07194343348772142,0.1010827109252736,0.0005986561613599561,0.01680014933825119,0.0047258903365576255,0.06123571497735436,0.08241265041284396,0.055005026381781785,0.01698848993329488,0.07826431901487291,0.012861884664740031,0.0701163799999645,0.04477570371944378,0.046781060885456416,0.09378276665694552,0.05524714558052207,0.07450079102938212,0.057232474770904485,0.08988844931749024,0.0850049270147129,0.09026952217361034,0.07377610017677427,0.02009548358118496,0.0814179940714852,0.040751351783240464,0.053430991996329946,0.061116284392804865,0.06051045550615303,0.0020383390032041593,0.039926471568117405,0.08493801090066894,0.03747720552532757,0.01951539844184086,0.07233142428631822,0.04393647982374338,0.08433936557606464,0.08691603061406472,0.058936115976696846,0.03360363954259438,0.08296007007802875,0.012379889053004689,0.0027818198479729883,0.07523832342340125,0.08660169636198467,0.0557269948912939,0.027209453695033192,0.029095801729024318,0.07377610017677427,0.024793170038973855,0.042338379499974155,0.031853311559411845,0.0792358007411027,0.003386573525620995,0.08234508885366443],\"xaxis\":\"x\",\"yaxis\":\"y\",\"type\":\"histogram\"},{\"alignmentgroup\":\"True\",\"bingroup\":\"x\",\"hovertemplate\":\"anomaly=outlier\\u003cbr\\u003escores=%{x}\\u003cbr\\u003ecount=%{y}\\u003cextra\\u003e\\u003c\\u002fextra\\u003e\",\"legendgroup\":\"outlier\",\"marker\":{\"color\":\"#EF553B\",\"pattern\":{\"shape\":\"\"}},\"name\":\"outlier\",\"offsetgroup\":\"outlier\",\"orientation\":\"v\",\"showlegend\":true,\"x\":[-0.012225531164619663,-0.006835489944938322,-0.12374725408025256,-0.0845201303619435,-0.09390426079445446,-0.017857326950452168,-0.06891798552379602,-0.010076253909994781,-0.058534640172986374,-0.042829407943640985,-0.12237927782136115,-0.020333976966916856,-0.016117992965045014,-0.04115196061400128,-0.0011130198889238718,-0.09415647871633359,-0.03515042751267505,-0.028117200552768007,-0.03959583285010981,-0.03321909687874114,-0.06355715471888557,-0.049035348972137904,-0.02026737166116932,-0.011672650497213333,-0.10143785491904511,-0.018443285397240716,-0.13331241273009153,-0.1343620141697357,-0.005359699296036857,-0.06952218302120994,-0.005677923682506081,-0.004063468686423932,-0.02591286657789804,-0.1488769059401498,-0.06160847586326801,-0.003788927952030563],\"xaxis\":\"x\",\"yaxis\":\"y\",\"type\":\"histogram\"}],                        {\"template\":{\"data\":{\"histogram2dcontour\":[{\"type\":\"histogram2dcontour\",\"colorbar\":{\"outlinewidth\":0,\"ticks\":\"\"},\"colorscale\":[[0.0,\"#0d0887\"],[0.1111111111111111,\"#46039f\"],[0.2222222222222222,\"#7201a8\"],[0.3333333333333333,\"#9c179e\"],[0.4444444444444444,\"#bd3786\"],[0.5555555555555556,\"#d8576b\"],[0.6666666666666666,\"#ed7953\"],[0.7777777777777778,\"#fb9f3a\"],[0.8888888888888888,\"#fdca26\"],[1.0,\"#f0f921\"]]}],\"choropleth\":[{\"type\":\"choropleth\",\"colorbar\":{\"outlinewidth\":0,\"ticks\":\"\"}}],\"histogram2d\":[{\"type\":\"histogram2d\",\"colorbar\":{\"outlinewidth\":0,\"ticks\":\"\"},\"colorscale\":[[0.0,\"#0d0887\"],[0.1111111111111111,\"#46039f\"],[0.2222222222222222,\"#7201a8\"],[0.3333333333333333,\"#9c179e\"],[0.4444444444444444,\"#bd3786\"],[0.5555555555555556,\"#d8576b\"],[0.6666666666666666,\"#ed7953\"],[0.7777777777777778,\"#fb9f3a\"],[0.8888888888888888,\"#fdca26\"],[1.0,\"#f0f921\"]]}],\"heatmap\":[{\"type\":\"heatmap\",\"colorbar\":{\"outlinewidth\":0,\"ticks\":\"\"},\"colorscale\":[[0.0,\"#0d0887\"],[0.1111111111111111,\"#46039f\"],[0.2222222222222222,\"#7201a8\"],[0.3333333333333333,\"#9c179e\"],[0.4444444444444444,\"#bd3786\"],[0.5555555555555556,\"#d8576b\"],[0.6666666666666666,\"#ed7953\"],[0.7777777777777778,\"#fb9f3a\"],[0.8888888888888888,\"#fdca26\"],[1.0,\"#f0f921\"]]}],\"heatmapgl\":[{\"type\":\"heatmapgl\",\"colorbar\":{\"outlinewidth\":0,\"ticks\":\"\"},\"colorscale\":[[0.0,\"#0d0887\"],[0.1111111111111111,\"#46039f\"],[0.2222222222222222,\"#7201a8\"],[0.3333333333333333,\"#9c179e\"],[0.4444444444444444,\"#bd3786\"],[0.5555555555555556,\"#d8576b\"],[0.6666666666666666,\"#ed7953\"],[0.7777777777777778,\"#fb9f3a\"],[0.8888888888888888,\"#fdca26\"],[1.0,\"#f0f921\"]]}],\"contourcarpet\":[{\"type\":\"contourcarpet\",\"colorbar\":{\"outlinewidth\":0,\"ticks\":\"\"}}],\"contour\":[{\"type\":\"contour\",\"colorbar\":{\"outlinewidth\":0,\"ticks\":\"\"},\"colorscale\":[[0.0,\"#0d0887\"],[0.1111111111111111,\"#46039f\"],[0.2222222222222222,\"#7201a8\"],[0.3333333333333333,\"#9c179e\"],[0.4444444444444444,\"#bd3786\"],[0.5555555555555556,\"#d8576b\"],[0.6666666666666666,\"#ed7953\"],[0.7777777777777778,\"#fb9f3a\"],[0.8888888888888888,\"#fdca26\"],[1.0,\"#f0f921\"]]}],\"surface\":[{\"type\":\"surface\",\"colorbar\":{\"outlinewidth\":0,\"ticks\":\"\"},\"colorscale\":[[0.0,\"#0d0887\"],[0.1111111111111111,\"#46039f\"],[0.2222222222222222,\"#7201a8\"],[0.3333333333333333,\"#9c179e\"],[0.4444444444444444,\"#bd3786\"],[0.5555555555555556,\"#d8576b\"],[0.6666666666666666,\"#ed7953\"],[0.7777777777777778,\"#fb9f3a\"],[0.8888888888888888,\"#fdca26\"],[1.0,\"#f0f921\"]]}],\"mesh3d\":[{\"type\":\"mesh3d\",\"colorbar\":{\"outlinewidth\":0,\"ticks\":\"\"}}],\"scatter\":[{\"fillpattern\":{\"fillmode\":\"overlay\",\"size\":10,\"solidity\":0.2},\"type\":\"scatter\"}],\"parcoords\":[{\"type\":\"parcoords\",\"line\":{\"colorbar\":{\"outlinewidth\":0,\"ticks\":\"\"}}}],\"scatterpolargl\":[{\"type\":\"scatterpolargl\",\"marker\":{\"colorbar\":{\"outlinewidth\":0,\"ticks\":\"\"}}}],\"bar\":[{\"error_x\":{\"color\":\"#2a3f5f\"},\"error_y\":{\"color\":\"#2a3f5f\"},\"marker\":{\"line\":{\"color\":\"#E5ECF6\",\"width\":0.5},\"pattern\":{\"fillmode\":\"overlay\",\"size\":10,\"solidity\":0.2}},\"type\":\"bar\"}],\"scattergeo\":[{\"type\":\"scattergeo\",\"marker\":{\"colorbar\":{\"outlinewidth\":0,\"ticks\":\"\"}}}],\"scatterpolar\":[{\"type\":\"scatterpolar\",\"marker\":{\"colorbar\":{\"outlinewidth\":0,\"ticks\":\"\"}}}],\"histogram\":[{\"marker\":{\"pattern\":{\"fillmode\":\"overlay\",\"size\":10,\"solidity\":0.2}},\"type\":\"histogram\"}],\"scattergl\":[{\"type\":\"scattergl\",\"marker\":{\"colorbar\":{\"outlinewidth\":0,\"ticks\":\"\"}}}],\"scatter3d\":[{\"type\":\"scatter3d\",\"line\":{\"colorbar\":{\"outlinewidth\":0,\"ticks\":\"\"}},\"marker\":{\"colorbar\":{\"outlinewidth\":0,\"ticks\":\"\"}}}],\"scattermapbox\":[{\"type\":\"scattermapbox\",\"marker\":{\"colorbar\":{\"outlinewidth\":0,\"ticks\":\"\"}}}],\"scatterternary\":[{\"type\":\"scatterternary\",\"marker\":{\"colorbar\":{\"outlinewidth\":0,\"ticks\":\"\"}}}],\"scattercarpet\":[{\"type\":\"scattercarpet\",\"marker\":{\"colorbar\":{\"outlinewidth\":0,\"ticks\":\"\"}}}],\"carpet\":[{\"aaxis\":{\"endlinecolor\":\"#2a3f5f\",\"gridcolor\":\"white\",\"linecolor\":\"white\",\"minorgridcolor\":\"white\",\"startlinecolor\":\"#2a3f5f\"},\"baxis\":{\"endlinecolor\":\"#2a3f5f\",\"gridcolor\":\"white\",\"linecolor\":\"white\",\"minorgridcolor\":\"white\",\"startlinecolor\":\"#2a3f5f\"},\"type\":\"carpet\"}],\"table\":[{\"cells\":{\"fill\":{\"color\":\"#EBF0F8\"},\"line\":{\"color\":\"white\"}},\"header\":{\"fill\":{\"color\":\"#C8D4E3\"},\"line\":{\"color\":\"white\"}},\"type\":\"table\"}],\"barpolar\":[{\"marker\":{\"line\":{\"color\":\"#E5ECF6\",\"width\":0.5},\"pattern\":{\"fillmode\":\"overlay\",\"size\":10,\"solidity\":0.2}},\"type\":\"barpolar\"}],\"pie\":[{\"automargin\":true,\"type\":\"pie\"}]},\"layout\":{\"autotypenumbers\":\"strict\",\"colorway\":[\"#636efa\",\"#EF553B\",\"#00cc96\",\"#ab63fa\",\"#FFA15A\",\"#19d3f3\",\"#FF6692\",\"#B6E880\",\"#FF97FF\",\"#FECB52\"],\"font\":{\"color\":\"#2a3f5f\"},\"hovermode\":\"closest\",\"hoverlabel\":{\"align\":\"left\"},\"paper_bgcolor\":\"white\",\"plot_bgcolor\":\"#E5ECF6\",\"polar\":{\"bgcolor\":\"#E5ECF6\",\"angularaxis\":{\"gridcolor\":\"white\",\"linecolor\":\"white\",\"ticks\":\"\"},\"radialaxis\":{\"gridcolor\":\"white\",\"linecolor\":\"white\",\"ticks\":\"\"}},\"ternary\":{\"bgcolor\":\"#E5ECF6\",\"aaxis\":{\"gridcolor\":\"white\",\"linecolor\":\"white\",\"ticks\":\"\"},\"baxis\":{\"gridcolor\":\"white\",\"linecolor\":\"white\",\"ticks\":\"\"},\"caxis\":{\"gridcolor\":\"white\",\"linecolor\":\"white\",\"ticks\":\"\"}},\"coloraxis\":{\"colorbar\":{\"outlinewidth\":0,\"ticks\":\"\"}},\"colorscale\":{\"sequential\":[[0.0,\"#0d0887\"],[0.1111111111111111,\"#46039f\"],[0.2222222222222222,\"#7201a8\"],[0.3333333333333333,\"#9c179e\"],[0.4444444444444444,\"#bd3786\"],[0.5555555555555556,\"#d8576b\"],[0.6666666666666666,\"#ed7953\"],[0.7777777777777778,\"#fb9f3a\"],[0.8888888888888888,\"#fdca26\"],[1.0,\"#f0f921\"]],\"sequentialminus\":[[0.0,\"#0d0887\"],[0.1111111111111111,\"#46039f\"],[0.2222222222222222,\"#7201a8\"],[0.3333333333333333,\"#9c179e\"],[0.4444444444444444,\"#bd3786\"],[0.5555555555555556,\"#d8576b\"],[0.6666666666666666,\"#ed7953\"],[0.7777777777777778,\"#fb9f3a\"],[0.8888888888888888,\"#fdca26\"],[1.0,\"#f0f921\"]],\"diverging\":[[0,\"#8e0152\"],[0.1,\"#c51b7d\"],[0.2,\"#de77ae\"],[0.3,\"#f1b6da\"],[0.4,\"#fde0ef\"],[0.5,\"#f7f7f7\"],[0.6,\"#e6f5d0\"],[0.7,\"#b8e186\"],[0.8,\"#7fbc41\"],[0.9,\"#4d9221\"],[1,\"#276419\"]]},\"xaxis\":{\"gridcolor\":\"white\",\"linecolor\":\"white\",\"ticks\":\"\",\"title\":{\"standoff\":15},\"zerolinecolor\":\"white\",\"automargin\":true,\"zerolinewidth\":2},\"yaxis\":{\"gridcolor\":\"white\",\"linecolor\":\"white\",\"ticks\":\"\",\"title\":{\"standoff\":15},\"zerolinecolor\":\"white\",\"automargin\":true,\"zerolinewidth\":2},\"scene\":{\"xaxis\":{\"backgroundcolor\":\"#E5ECF6\",\"gridcolor\":\"white\",\"linecolor\":\"white\",\"showbackground\":true,\"ticks\":\"\",\"zerolinecolor\":\"white\",\"gridwidth\":2},\"yaxis\":{\"backgroundcolor\":\"#E5ECF6\",\"gridcolor\":\"white\",\"linecolor\":\"white\",\"showbackground\":true,\"ticks\":\"\",\"zerolinecolor\":\"white\",\"gridwidth\":2},\"zaxis\":{\"backgroundcolor\":\"#E5ECF6\",\"gridcolor\":\"white\",\"linecolor\":\"white\",\"showbackground\":true,\"ticks\":\"\",\"zerolinecolor\":\"white\",\"gridwidth\":2}},\"shapedefaults\":{\"line\":{\"color\":\"#2a3f5f\"}},\"annotationdefaults\":{\"arrowcolor\":\"#2a3f5f\",\"arrowhead\":0,\"arrowwidth\":1},\"geo\":{\"bgcolor\":\"white\",\"landcolor\":\"#E5ECF6\",\"subunitcolor\":\"white\",\"showland\":true,\"showlakes\":true,\"lakecolor\":\"white\"},\"title\":{\"x\":0.05},\"mapbox\":{\"style\":\"light\"}}},\"xaxis\":{\"anchor\":\"y\",\"domain\":[0.0,1.0],\"title\":{\"text\":\"scores\"}},\"yaxis\":{\"anchor\":\"x\",\"domain\":[0.0,1.0],\"title\":{\"text\":\"count\"}},\"legend\":{\"title\":{\"text\":\"anomaly\"},\"tracegroupgap\":0},\"margin\":{\"t\":60},\"barmode\":\"relative\"},                        {\"responsive\": true}                    ).then(function(){\n",
       "                            \n",
       "var gd = document.getElementById('29411efb-86eb-4a87-a687-992e1b2b0ae2');\n",
       "var x = new MutationObserver(function (mutations, observer) {{\n",
       "        var display = window.getComputedStyle(gd).display;\n",
       "        if (!display || display === 'none') {{\n",
       "            console.log([gd, 'removed!']);\n",
       "            Plotly.purge(gd);\n",
       "            observer.disconnect();\n",
       "        }}\n",
       "}});\n",
       "\n",
       "// Listen for the removal of the full notebook cells\n",
       "var notebookContainer = gd.closest('#notebook-container');\n",
       "if (notebookContainer) {{\n",
       "    x.observe(notebookContainer, {childList: true});\n",
       "}}\n",
       "\n",
       "// Listen for the clearing of the current output cell\n",
       "var outputEl = gd.closest('.output');\n",
       "if (outputEl) {{\n",
       "    x.observe(outputEl, {childList: true});\n",
       "}}\n",
       "\n",
       "                        })                };                });            </script>        </div>"
      ]
     },
     "metadata": {},
     "output_type": "display_data"
    }
   ],
   "source": [
    "X['anomaly']=X['anomaly_label'].apply(lambda x: 'outlier' if x==-1  else 'inlier')\n",
    "fig=px.histogram(X,x='scores',color='anomaly')\n",
    "fig.show()"
   ]
  },
  {
   "cell_type": "code",
   "execution_count": 15,
   "id": "4b42b573-2ee9-4326-a861-0a646a7ced1d",
   "metadata": {},
   "outputs": [
    {
     "data": {
      "application/vnd.plotly.v1+json": {
       "config": {
        "plotlyServerURL": "https://plot.ly"
       },
       "data": [
        {
         "hovertemplate": "anomaly=inlier<br>PetalWidthCm=%{x}<br>SepalLengthCm=%{y}<br>SepalWidthCm=%{z}<extra></extra>",
         "legendgroup": "inlier",
         "marker": {
          "color": "#636efa",
          "symbol": "circle"
         },
         "mode": "markers",
         "name": "inlier",
         "scene": "scene",
         "showlegend": true,
         "type": "scatter3d",
         "x": [
          0.2,
          0.2,
          0.2,
          0.2,
          0.2,
          0.4,
          0.3,
          0.2,
          0.1,
          0.2,
          0.2,
          0.4,
          0.3,
          0.3,
          0.2,
          0.4,
          0.5,
          0.2,
          0.4,
          0.2,
          0.2,
          0.2,
          0.2,
          0.4,
          0.1,
          0.2,
          0.2,
          0.1,
          0.2,
          0.2,
          0.3,
          0.2,
          0.3,
          0.2,
          0.2,
          0.2,
          0.2,
          1.4,
          1.5,
          1.5,
          1.3,
          1.5,
          1.3,
          1.6,
          1.3,
          1.5,
          1.4,
          1.3,
          1.4,
          1.5,
          1,
          1.5,
          1.1,
          1.8,
          1.3,
          1.5,
          1.2,
          1.3,
          1.4,
          1.4,
          1.7,
          1.5,
          1,
          1.1,
          1,
          1.2,
          1.6,
          1.5,
          1.6,
          1.5,
          1.3,
          1.3,
          1.3,
          1.2,
          1.4,
          1.2,
          1.3,
          1.2,
          1.3,
          1.3,
          1.3,
          1.9,
          2.1,
          1.8,
          2.2,
          2,
          1.9,
          2.1,
          2,
          2.3,
          1.8,
          2.3,
          2,
          1.8,
          2.1,
          1.8,
          1.8,
          2.1,
          2.2,
          1.5,
          1.4,
          2.4,
          1.8,
          1.8,
          2.1,
          2.4,
          2.3,
          1.9,
          2.3,
          2.3,
          1.9,
          2,
          2.3,
          1.8
         ],
         "y": [
          5.1,
          4.9,
          4.7,
          4.6,
          5,
          5.4,
          4.6,
          5,
          4.9,
          5.4,
          4.8,
          5.4,
          5.1,
          5.1,
          5.4,
          5.1,
          5.1,
          5,
          5,
          5.2,
          5.2,
          4.7,
          4.8,
          5.4,
          4.9,
          5,
          5.5,
          4.9,
          4.4,
          5.1,
          5,
          4.4,
          4.8,
          5.1,
          4.6,
          5.3,
          5,
          7,
          6.4,
          6.9,
          5.5,
          6.5,
          5.7,
          6.3,
          6.6,
          5.9,
          6.1,
          5.6,
          6.7,
          5.6,
          5.8,
          6.2,
          5.6,
          5.9,
          6.1,
          6.3,
          6.1,
          6.4,
          6.6,
          6.8,
          6.7,
          6,
          5.7,
          5.5,
          5.5,
          5.8,
          6,
          5.4,
          6,
          6.7,
          6.3,
          5.6,
          5.5,
          5.5,
          6.1,
          5.8,
          5.6,
          5.7,
          5.7,
          6.2,
          5.7,
          5.8,
          7.1,
          6.3,
          6.5,
          6.5,
          6.4,
          6.8,
          5.7,
          6.4,
          6.5,
          6.9,
          5.6,
          6.3,
          6.7,
          6.2,
          6.1,
          6.4,
          6.4,
          6.3,
          6.1,
          6.3,
          6.4,
          6,
          6.9,
          6.7,
          6.9,
          5.8,
          6.8,
          6.7,
          6.3,
          6.5,
          6.2,
          5.9
         ],
         "z": [
          3.5,
          3,
          3.2,
          3.1,
          3.6,
          3.9,
          3.4,
          3.4,
          3.1,
          3.7,
          3.4,
          3.9,
          3.5,
          3.8,
          3.4,
          3.7,
          3.3,
          3,
          3.4,
          3.5,
          3.4,
          3.2,
          3.1,
          3.4,
          3.1,
          3.2,
          3.5,
          3.1,
          3,
          3.4,
          3.5,
          3.2,
          3,
          3.8,
          3.2,
          3.7,
          3.3,
          3.2,
          3.2,
          3.1,
          2.3,
          2.8,
          2.8,
          3.3,
          2.9,
          3,
          2.9,
          2.9,
          3.1,
          3,
          2.7,
          2.2,
          2.5,
          3.2,
          2.8,
          2.5,
          2.8,
          2.9,
          3,
          2.8,
          3,
          2.9,
          2.6,
          2.4,
          2.4,
          2.7,
          2.7,
          3,
          3.4,
          3.1,
          2.3,
          3,
          2.5,
          2.6,
          3,
          2.6,
          2.7,
          3,
          2.9,
          2.9,
          2.8,
          2.7,
          3,
          2.9,
          3,
          3.2,
          2.7,
          3,
          2.5,
          3.2,
          3,
          3.2,
          2.8,
          2.7,
          3.3,
          2.8,
          3,
          2.8,
          2.8,
          2.8,
          2.6,
          3.4,
          3.1,
          3,
          3.1,
          3.1,
          3.1,
          2.7,
          3.2,
          3,
          2.5,
          3,
          3.4,
          3
         ]
        },
        {
         "hovertemplate": "anomaly=outlier<br>PetalWidthCm=%{x}<br>SepalLengthCm=%{y}<br>SepalWidthCm=%{z}<extra></extra>",
         "legendgroup": "outlier",
         "marker": {
          "color": "#EF553B",
          "symbol": "circle"
         },
         "mode": "markers",
         "name": "outlier",
         "scene": "scene",
         "showlegend": true,
         "type": "scatter3d",
         "x": [
          0.2,
          0.1,
          0.1,
          0.2,
          0.4,
          0.3,
          0.2,
          0.2,
          0.1,
          0.2,
          0.3,
          0.6,
          0.4,
          1,
          1.4,
          1,
          1,
          1,
          1.1,
          2.5,
          2.1,
          1.7,
          1.8,
          1.8,
          2.5,
          2.4,
          2.2,
          2.3,
          1.5,
          2,
          1.8,
          1.6,
          1.9,
          2,
          2.3,
          2.5
         ],
         "y": [
          4.4,
          4.8,
          4.3,
          5.8,
          5.7,
          5.7,
          4.6,
          4.8,
          5.2,
          5.5,
          4.5,
          5,
          5.1,
          4.9,
          5.2,
          5,
          6,
          5,
          5.1,
          6.3,
          7.6,
          4.9,
          7.3,
          6.7,
          7.2,
          5.8,
          7.7,
          7.7,
          6,
          7.7,
          7.2,
          7.2,
          7.4,
          7.9,
          7.7,
          6.7
         ],
         "z": [
          2.9,
          3,
          3,
          4,
          4.4,
          3.8,
          3.6,
          3.4,
          4.1,
          4.2,
          2.3,
          3.5,
          3.8,
          2.4,
          2.7,
          2,
          2.2,
          2.3,
          2.5,
          3.3,
          3,
          2.5,
          2.9,
          2.5,
          3.6,
          2.8,
          3.8,
          2.6,
          2.2,
          2.8,
          3.2,
          3,
          2.8,
          3.8,
          3,
          3.3
         ]
        }
       ],
       "layout": {
        "autosize": true,
        "dragmode": "pan",
        "legend": {
         "title": {
          "text": "anomaly"
         },
         "tracegroupgap": 0
        },
        "margin": {
         "t": 60
        },
        "scene": {
         "aspectmode": "auto",
         "aspectratio": {
          "x": 0.8735804647362988,
          "y": 1.3103706971044486,
          "z": 0.8735804647362989
         },
         "camera": {
          "center": {
           "x": -0.39058453169015245,
           "y": -0.19646633309860853,
           "z": -0.2664059801857791
          },
          "eye": {
           "x": -0.39058453169015245,
           "y": -0.1964663330986084,
           "z": -2.5393202486969075
          },
          "projection": {
           "type": "perspective"
          },
          "up": {
           "x": 0,
           "y": 0,
           "z": 1
          }
         },
         "domain": {
          "x": [
           0,
           1
          ],
          "y": [
           0,
           1
          ]
         },
         "dragmode": "pan",
         "xaxis": {
          "title": {
           "text": "PetalWidthCm"
          },
          "type": "linear"
         },
         "yaxis": {
          "title": {
           "text": "SepalLengthCm"
          },
          "type": "linear"
         },
         "zaxis": {
          "title": {
           "text": "SepalWidthCm"
          },
          "type": "linear"
         }
        },
        "template": {
         "data": {
          "bar": [
           {
            "error_x": {
             "color": "#2a3f5f"
            },
            "error_y": {
             "color": "#2a3f5f"
            },
            "marker": {
             "line": {
              "color": "#E5ECF6",
              "width": 0.5
             },
             "pattern": {
              "fillmode": "overlay",
              "size": 10,
              "solidity": 0.2
             }
            },
            "type": "bar"
           }
          ],
          "barpolar": [
           {
            "marker": {
             "line": {
              "color": "#E5ECF6",
              "width": 0.5
             },
             "pattern": {
              "fillmode": "overlay",
              "size": 10,
              "solidity": 0.2
             }
            },
            "type": "barpolar"
           }
          ],
          "carpet": [
           {
            "aaxis": {
             "endlinecolor": "#2a3f5f",
             "gridcolor": "white",
             "linecolor": "white",
             "minorgridcolor": "white",
             "startlinecolor": "#2a3f5f"
            },
            "baxis": {
             "endlinecolor": "#2a3f5f",
             "gridcolor": "white",
             "linecolor": "white",
             "minorgridcolor": "white",
             "startlinecolor": "#2a3f5f"
            },
            "type": "carpet"
           }
          ],
          "choropleth": [
           {
            "colorbar": {
             "outlinewidth": 0,
             "ticks": ""
            },
            "type": "choropleth"
           }
          ],
          "contour": [
           {
            "colorbar": {
             "outlinewidth": 0,
             "ticks": ""
            },
            "colorscale": [
             [
              0,
              "#0d0887"
             ],
             [
              0.1111111111111111,
              "#46039f"
             ],
             [
              0.2222222222222222,
              "#7201a8"
             ],
             [
              0.3333333333333333,
              "#9c179e"
             ],
             [
              0.4444444444444444,
              "#bd3786"
             ],
             [
              0.5555555555555556,
              "#d8576b"
             ],
             [
              0.6666666666666666,
              "#ed7953"
             ],
             [
              0.7777777777777778,
              "#fb9f3a"
             ],
             [
              0.8888888888888888,
              "#fdca26"
             ],
             [
              1,
              "#f0f921"
             ]
            ],
            "type": "contour"
           }
          ],
          "contourcarpet": [
           {
            "colorbar": {
             "outlinewidth": 0,
             "ticks": ""
            },
            "type": "contourcarpet"
           }
          ],
          "heatmap": [
           {
            "colorbar": {
             "outlinewidth": 0,
             "ticks": ""
            },
            "colorscale": [
             [
              0,
              "#0d0887"
             ],
             [
              0.1111111111111111,
              "#46039f"
             ],
             [
              0.2222222222222222,
              "#7201a8"
             ],
             [
              0.3333333333333333,
              "#9c179e"
             ],
             [
              0.4444444444444444,
              "#bd3786"
             ],
             [
              0.5555555555555556,
              "#d8576b"
             ],
             [
              0.6666666666666666,
              "#ed7953"
             ],
             [
              0.7777777777777778,
              "#fb9f3a"
             ],
             [
              0.8888888888888888,
              "#fdca26"
             ],
             [
              1,
              "#f0f921"
             ]
            ],
            "type": "heatmap"
           }
          ],
          "heatmapgl": [
           {
            "colorbar": {
             "outlinewidth": 0,
             "ticks": ""
            },
            "colorscale": [
             [
              0,
              "#0d0887"
             ],
             [
              0.1111111111111111,
              "#46039f"
             ],
             [
              0.2222222222222222,
              "#7201a8"
             ],
             [
              0.3333333333333333,
              "#9c179e"
             ],
             [
              0.4444444444444444,
              "#bd3786"
             ],
             [
              0.5555555555555556,
              "#d8576b"
             ],
             [
              0.6666666666666666,
              "#ed7953"
             ],
             [
              0.7777777777777778,
              "#fb9f3a"
             ],
             [
              0.8888888888888888,
              "#fdca26"
             ],
             [
              1,
              "#f0f921"
             ]
            ],
            "type": "heatmapgl"
           }
          ],
          "histogram": [
           {
            "marker": {
             "pattern": {
              "fillmode": "overlay",
              "size": 10,
              "solidity": 0.2
             }
            },
            "type": "histogram"
           }
          ],
          "histogram2d": [
           {
            "colorbar": {
             "outlinewidth": 0,
             "ticks": ""
            },
            "colorscale": [
             [
              0,
              "#0d0887"
             ],
             [
              0.1111111111111111,
              "#46039f"
             ],
             [
              0.2222222222222222,
              "#7201a8"
             ],
             [
              0.3333333333333333,
              "#9c179e"
             ],
             [
              0.4444444444444444,
              "#bd3786"
             ],
             [
              0.5555555555555556,
              "#d8576b"
             ],
             [
              0.6666666666666666,
              "#ed7953"
             ],
             [
              0.7777777777777778,
              "#fb9f3a"
             ],
             [
              0.8888888888888888,
              "#fdca26"
             ],
             [
              1,
              "#f0f921"
             ]
            ],
            "type": "histogram2d"
           }
          ],
          "histogram2dcontour": [
           {
            "colorbar": {
             "outlinewidth": 0,
             "ticks": ""
            },
            "colorscale": [
             [
              0,
              "#0d0887"
             ],
             [
              0.1111111111111111,
              "#46039f"
             ],
             [
              0.2222222222222222,
              "#7201a8"
             ],
             [
              0.3333333333333333,
              "#9c179e"
             ],
             [
              0.4444444444444444,
              "#bd3786"
             ],
             [
              0.5555555555555556,
              "#d8576b"
             ],
             [
              0.6666666666666666,
              "#ed7953"
             ],
             [
              0.7777777777777778,
              "#fb9f3a"
             ],
             [
              0.8888888888888888,
              "#fdca26"
             ],
             [
              1,
              "#f0f921"
             ]
            ],
            "type": "histogram2dcontour"
           }
          ],
          "mesh3d": [
           {
            "colorbar": {
             "outlinewidth": 0,
             "ticks": ""
            },
            "type": "mesh3d"
           }
          ],
          "parcoords": [
           {
            "line": {
             "colorbar": {
              "outlinewidth": 0,
              "ticks": ""
             }
            },
            "type": "parcoords"
           }
          ],
          "pie": [
           {
            "automargin": true,
            "type": "pie"
           }
          ],
          "scatter": [
           {
            "fillpattern": {
             "fillmode": "overlay",
             "size": 10,
             "solidity": 0.2
            },
            "type": "scatter"
           }
          ],
          "scatter3d": [
           {
            "line": {
             "colorbar": {
              "outlinewidth": 0,
              "ticks": ""
             }
            },
            "marker": {
             "colorbar": {
              "outlinewidth": 0,
              "ticks": ""
             }
            },
            "type": "scatter3d"
           }
          ],
          "scattercarpet": [
           {
            "marker": {
             "colorbar": {
              "outlinewidth": 0,
              "ticks": ""
             }
            },
            "type": "scattercarpet"
           }
          ],
          "scattergeo": [
           {
            "marker": {
             "colorbar": {
              "outlinewidth": 0,
              "ticks": ""
             }
            },
            "type": "scattergeo"
           }
          ],
          "scattergl": [
           {
            "marker": {
             "colorbar": {
              "outlinewidth": 0,
              "ticks": ""
             }
            },
            "type": "scattergl"
           }
          ],
          "scattermapbox": [
           {
            "marker": {
             "colorbar": {
              "outlinewidth": 0,
              "ticks": ""
             }
            },
            "type": "scattermapbox"
           }
          ],
          "scatterpolar": [
           {
            "marker": {
             "colorbar": {
              "outlinewidth": 0,
              "ticks": ""
             }
            },
            "type": "scatterpolar"
           }
          ],
          "scatterpolargl": [
           {
            "marker": {
             "colorbar": {
              "outlinewidth": 0,
              "ticks": ""
             }
            },
            "type": "scatterpolargl"
           }
          ],
          "scatterternary": [
           {
            "marker": {
             "colorbar": {
              "outlinewidth": 0,
              "ticks": ""
             }
            },
            "type": "scatterternary"
           }
          ],
          "surface": [
           {
            "colorbar": {
             "outlinewidth": 0,
             "ticks": ""
            },
            "colorscale": [
             [
              0,
              "#0d0887"
             ],
             [
              0.1111111111111111,
              "#46039f"
             ],
             [
              0.2222222222222222,
              "#7201a8"
             ],
             [
              0.3333333333333333,
              "#9c179e"
             ],
             [
              0.4444444444444444,
              "#bd3786"
             ],
             [
              0.5555555555555556,
              "#d8576b"
             ],
             [
              0.6666666666666666,
              "#ed7953"
             ],
             [
              0.7777777777777778,
              "#fb9f3a"
             ],
             [
              0.8888888888888888,
              "#fdca26"
             ],
             [
              1,
              "#f0f921"
             ]
            ],
            "type": "surface"
           }
          ],
          "table": [
           {
            "cells": {
             "fill": {
              "color": "#EBF0F8"
             },
             "line": {
              "color": "white"
             }
            },
            "header": {
             "fill": {
              "color": "#C8D4E3"
             },
             "line": {
              "color": "white"
             }
            },
            "type": "table"
           }
          ]
         },
         "layout": {
          "annotationdefaults": {
           "arrowcolor": "#2a3f5f",
           "arrowhead": 0,
           "arrowwidth": 1
          },
          "autotypenumbers": "strict",
          "coloraxis": {
           "colorbar": {
            "outlinewidth": 0,
            "ticks": ""
           }
          },
          "colorscale": {
           "diverging": [
            [
             0,
             "#8e0152"
            ],
            [
             0.1,
             "#c51b7d"
            ],
            [
             0.2,
             "#de77ae"
            ],
            [
             0.3,
             "#f1b6da"
            ],
            [
             0.4,
             "#fde0ef"
            ],
            [
             0.5,
             "#f7f7f7"
            ],
            [
             0.6,
             "#e6f5d0"
            ],
            [
             0.7,
             "#b8e186"
            ],
            [
             0.8,
             "#7fbc41"
            ],
            [
             0.9,
             "#4d9221"
            ],
            [
             1,
             "#276419"
            ]
           ],
           "sequential": [
            [
             0,
             "#0d0887"
            ],
            [
             0.1111111111111111,
             "#46039f"
            ],
            [
             0.2222222222222222,
             "#7201a8"
            ],
            [
             0.3333333333333333,
             "#9c179e"
            ],
            [
             0.4444444444444444,
             "#bd3786"
            ],
            [
             0.5555555555555556,
             "#d8576b"
            ],
            [
             0.6666666666666666,
             "#ed7953"
            ],
            [
             0.7777777777777778,
             "#fb9f3a"
            ],
            [
             0.8888888888888888,
             "#fdca26"
            ],
            [
             1,
             "#f0f921"
            ]
           ],
           "sequentialminus": [
            [
             0,
             "#0d0887"
            ],
            [
             0.1111111111111111,
             "#46039f"
            ],
            [
             0.2222222222222222,
             "#7201a8"
            ],
            [
             0.3333333333333333,
             "#9c179e"
            ],
            [
             0.4444444444444444,
             "#bd3786"
            ],
            [
             0.5555555555555556,
             "#d8576b"
            ],
            [
             0.6666666666666666,
             "#ed7953"
            ],
            [
             0.7777777777777778,
             "#fb9f3a"
            ],
            [
             0.8888888888888888,
             "#fdca26"
            ],
            [
             1,
             "#f0f921"
            ]
           ]
          },
          "colorway": [
           "#636efa",
           "#EF553B",
           "#00cc96",
           "#ab63fa",
           "#FFA15A",
           "#19d3f3",
           "#FF6692",
           "#B6E880",
           "#FF97FF",
           "#FECB52"
          ],
          "font": {
           "color": "#2a3f5f"
          },
          "geo": {
           "bgcolor": "white",
           "lakecolor": "white",
           "landcolor": "#E5ECF6",
           "showlakes": true,
           "showland": true,
           "subunitcolor": "white"
          },
          "hoverlabel": {
           "align": "left"
          },
          "hovermode": "closest",
          "mapbox": {
           "style": "light"
          },
          "paper_bgcolor": "white",
          "plot_bgcolor": "#E5ECF6",
          "polar": {
           "angularaxis": {
            "gridcolor": "white",
            "linecolor": "white",
            "ticks": ""
           },
           "bgcolor": "#E5ECF6",
           "radialaxis": {
            "gridcolor": "white",
            "linecolor": "white",
            "ticks": ""
           }
          },
          "scene": {
           "xaxis": {
            "backgroundcolor": "#E5ECF6",
            "gridcolor": "white",
            "gridwidth": 2,
            "linecolor": "white",
            "showbackground": true,
            "ticks": "",
            "zerolinecolor": "white"
           },
           "yaxis": {
            "backgroundcolor": "#E5ECF6",
            "gridcolor": "white",
            "gridwidth": 2,
            "linecolor": "white",
            "showbackground": true,
            "ticks": "",
            "zerolinecolor": "white"
           },
           "zaxis": {
            "backgroundcolor": "#E5ECF6",
            "gridcolor": "white",
            "gridwidth": 2,
            "linecolor": "white",
            "showbackground": true,
            "ticks": "",
            "zerolinecolor": "white"
           }
          },
          "shapedefaults": {
           "line": {
            "color": "#2a3f5f"
           }
          },
          "ternary": {
           "aaxis": {
            "gridcolor": "white",
            "linecolor": "white",
            "ticks": ""
           },
           "baxis": {
            "gridcolor": "white",
            "linecolor": "white",
            "ticks": ""
           },
           "bgcolor": "#E5ECF6",
           "caxis": {
            "gridcolor": "white",
            "linecolor": "white",
            "ticks": ""
           }
          },
          "title": {
           "x": 0.05
          },
          "xaxis": {
           "automargin": true,
           "gridcolor": "white",
           "linecolor": "white",
           "ticks": "",
           "title": {
            "standoff": 15
           },
           "zerolinecolor": "white",
           "zerolinewidth": 2
          },
          "yaxis": {
           "automargin": true,
           "gridcolor": "white",
           "linecolor": "white",
           "ticks": "",
           "title": {
            "standoff": 15
           },
           "zerolinecolor": "white",
           "zerolinewidth": 2
          }
         }
        }
       }
      },
      "image/png": "[encoded data removed]",
      "text/html": [
       "<div>                            <div id=\"017eac95-237f-4997-a717-96c5c1b9cfe9\" class=\"plotly-graph-div\" style=\"height:525px; width:100%;\"></div>            <script type=\"text/javascript\">                require([\"plotly\"], function(Plotly) {                    window.PLOTLYENV=window.PLOTLYENV || {};                                    if (document.getElementById(\"017eac95-237f-4997-a717-96c5c1b9cfe9\")) {                    Plotly.newPlot(                        \"017eac95-237f-4997-a717-96c5c1b9cfe9\",                        [{\"hovertemplate\":\"anomaly=inlier\\u003cbr\\u003ePetalWidthCm=%{x}\\u003cbr\\u003eSepalLengthCm=%{y}\\u003cbr\\u003eSepalWidthCm=%{z}\\u003cextra\\u003e\\u003c\\u002fextra\\u003e\",\"legendgroup\":\"inlier\",\"marker\":{\"color\":\"#636efa\",\"symbol\":\"circle\"},\"mode\":\"markers\",\"name\":\"inlier\",\"scene\":\"scene\",\"showlegend\":true,\"x\":[0.2,0.2,0.2,0.2,0.2,0.4,0.3,0.2,0.1,0.2,0.2,0.4,0.3,0.3,0.2,0.4,0.5,0.2,0.4,0.2,0.2,0.2,0.2,0.4,0.1,0.2,0.2,0.1,0.2,0.2,0.3,0.2,0.3,0.2,0.2,0.2,0.2,1.4,1.5,1.5,1.3,1.5,1.3,1.6,1.3,1.5,1.4,1.3,1.4,1.5,1.0,1.5,1.1,1.8,1.3,1.5,1.2,1.3,1.4,1.4,1.7,1.5,1.0,1.1,1.0,1.2,1.6,1.5,1.6,1.5,1.3,1.3,1.3,1.2,1.4,1.2,1.3,1.2,1.3,1.3,1.3,1.9,2.1,1.8,2.2,2.0,1.9,2.1,2.0,2.3,1.8,2.3,2.0,1.8,2.1,1.8,1.8,2.1,2.2,1.5,1.4,2.4,1.8,1.8,2.1,2.4,2.3,1.9,2.3,2.3,1.9,2.0,2.3,1.8],\"y\":[5.1,4.9,4.7,4.6,5.0,5.4,4.6,5.0,4.9,5.4,4.8,5.4,5.1,5.1,5.4,5.1,5.1,5.0,5.0,5.2,5.2,4.7,4.8,5.4,4.9,5.0,5.5,4.9,4.4,5.1,5.0,4.4,4.8,5.1,4.6,5.3,5.0,7.0,6.4,6.9,5.5,6.5,5.7,6.3,6.6,5.9,6.1,5.6,6.7,5.6,5.8,6.2,5.6,5.9,6.1,6.3,6.1,6.4,6.6,6.8,6.7,6.0,5.7,5.5,5.5,5.8,6.0,5.4,6.0,6.7,6.3,5.6,5.5,5.5,6.1,5.8,5.6,5.7,5.7,6.2,5.7,5.8,7.1,6.3,6.5,6.5,6.4,6.8,5.7,6.4,6.5,6.9,5.6,6.3,6.7,6.2,6.1,6.4,6.4,6.3,6.1,6.3,6.4,6.0,6.9,6.7,6.9,5.8,6.8,6.7,6.3,6.5,6.2,5.9],\"z\":[3.5,3.0,3.2,3.1,3.6,3.9,3.4,3.4,3.1,3.7,3.4,3.9,3.5,3.8,3.4,3.7,3.3,3.0,3.4,3.5,3.4,3.2,3.1,3.4,3.1,3.2,3.5,3.1,3.0,3.4,3.5,3.2,3.0,3.8,3.2,3.7,3.3,3.2,3.2,3.1,2.3,2.8,2.8,3.3,2.9,3.0,2.9,2.9,3.1,3.0,2.7,2.2,2.5,3.2,2.8,2.5,2.8,2.9,3.0,2.8,3.0,2.9,2.6,2.4,2.4,2.7,2.7,3.0,3.4,3.1,2.3,3.0,2.5,2.6,3.0,2.6,2.7,3.0,2.9,2.9,2.8,2.7,3.0,2.9,3.0,3.2,2.7,3.0,2.5,3.2,3.0,3.2,2.8,2.7,3.3,2.8,3.0,2.8,2.8,2.8,2.6,3.4,3.1,3.0,3.1,3.1,3.1,2.7,3.2,3.0,2.5,3.0,3.4,3.0],\"type\":\"scatter3d\"},{\"hovertemplate\":\"anomaly=outlier\\u003cbr\\u003ePetalWidthCm=%{x}\\u003cbr\\u003eSepalLengthCm=%{y}\\u003cbr\\u003eSepalWidthCm=%{z}\\u003cextra\\u003e\\u003c\\u002fextra\\u003e\",\"legendgroup\":\"outlier\",\"marker\":{\"color\":\"#EF553B\",\"symbol\":\"circle\"},\"mode\":\"markers\",\"name\":\"outlier\",\"scene\":\"scene\",\"showlegend\":true,\"x\":[0.2,0.1,0.1,0.2,0.4,0.3,0.2,0.2,0.1,0.2,0.3,0.6,0.4,1.0,1.4,1.0,1.0,1.0,1.1,2.5,2.1,1.7,1.8,1.8,2.5,2.4,2.2,2.3,1.5,2.0,1.8,1.6,1.9,2.0,2.3,2.5],\"y\":[4.4,4.8,4.3,5.8,5.7,5.7,4.6,4.8,5.2,5.5,4.5,5.0,5.1,4.9,5.2,5.0,6.0,5.0,5.1,6.3,7.6,4.9,7.3,6.7,7.2,5.8,7.7,7.7,6.0,7.7,7.2,7.2,7.4,7.9,7.7,6.7],\"z\":[2.9,3.0,3.0,4.0,4.4,3.8,3.6,3.4,4.1,4.2,2.3,3.5,3.8,2.4,2.7,2.0,2.2,2.3,2.5,3.3,3.0,2.5,2.9,2.5,3.6,2.8,3.8,2.6,2.2,2.8,3.2,3.0,2.8,3.8,3.0,3.3],\"type\":\"scatter3d\"}],                        {\"template\":{\"data\":{\"histogram2dcontour\":[{\"type\":\"histogram2dcontour\",\"colorbar\":{\"outlinewidth\":0,\"ticks\":\"\"},\"colorscale\":[[0.0,\"#0d0887\"],[0.1111111111111111,\"#46039f\"],[0.2222222222222222,\"#7201a8\"],[0.3333333333333333,\"#9c179e\"],[0.4444444444444444,\"#bd3786\"],[0.5555555555555556,\"#d8576b\"],[0.6666666666666666,\"#ed7953\"],[0.7777777777777778,\"#fb9f3a\"],[0.8888888888888888,\"#fdca26\"],[1.0,\"#f0f921\"]]}],\"choropleth\":[{\"type\":\"choropleth\",\"colorbar\":{\"outlinewidth\":0,\"ticks\":\"\"}}],\"histogram2d\":[{\"type\":\"histogram2d\",\"colorbar\":{\"outlinewidth\":0,\"ticks\":\"\"},\"colorscale\":[[0.0,\"#0d0887\"],[0.1111111111111111,\"#46039f\"],[0.2222222222222222,\"#7201a8\"],[0.3333333333333333,\"#9c179e\"],[0.4444444444444444,\"#bd3786\"],[0.5555555555555556,\"#d8576b\"],[0.6666666666666666,\"#ed7953\"],[0.7777777777777778,\"#fb9f3a\"],[0.8888888888888888,\"#fdca26\"],[1.0,\"#f0f921\"]]}],\"heatmap\":[{\"type\":\"heatmap\",\"colorbar\":{\"outlinewidth\":0,\"ticks\":\"\"},\"colorscale\":[[0.0,\"#0d0887\"],[0.1111111111111111,\"#46039f\"],[0.2222222222222222,\"#7201a8\"],[0.3333333333333333,\"#9c179e\"],[0.4444444444444444,\"#bd3786\"],[0.5555555555555556,\"#d8576b\"],[0.6666666666666666,\"#ed7953\"],[0.7777777777777778,\"#fb9f3a\"],[0.8888888888888888,\"#fdca26\"],[1.0,\"#f0f921\"]]}],\"heatmapgl\":[{\"type\":\"heatmapgl\",\"colorbar\":{\"outlinewidth\":0,\"ticks\":\"\"},\"colorscale\":[[0.0,\"#0d0887\"],[0.1111111111111111,\"#46039f\"],[0.2222222222222222,\"#7201a8\"],[0.3333333333333333,\"#9c179e\"],[0.4444444444444444,\"#bd3786\"],[0.5555555555555556,\"#d8576b\"],[0.6666666666666666,\"#ed7953\"],[0.7777777777777778,\"#fb9f3a\"],[0.8888888888888888,\"#fdca26\"],[1.0,\"#f0f921\"]]}],\"contourcarpet\":[{\"type\":\"contourcarpet\",\"colorbar\":{\"outlinewidth\":0,\"ticks\":\"\"}}],\"contour\":[{\"type\":\"contour\",\"colorbar\":{\"outlinewidth\":0,\"ticks\":\"\"},\"colorscale\":[[0.0,\"#0d0887\"],[0.1111111111111111,\"#46039f\"],[0.2222222222222222,\"#7201a8\"],[0.3333333333333333,\"#9c179e\"],[0.4444444444444444,\"#bd3786\"],[0.5555555555555556,\"#d8576b\"],[0.6666666666666666,\"#ed7953\"],[0.7777777777777778,\"#fb9f3a\"],[0.8888888888888888,\"#fdca26\"],[1.0,\"#f0f921\"]]}],\"surface\":[{\"type\":\"surface\",\"colorbar\":{\"outlinewidth\":0,\"ticks\":\"\"},\"colorscale\":[[0.0,\"#0d0887\"],[0.1111111111111111,\"#46039f\"],[0.2222222222222222,\"#7201a8\"],[0.3333333333333333,\"#9c179e\"],[0.4444444444444444,\"#bd3786\"],[0.5555555555555556,\"#d8576b\"],[0.6666666666666666,\"#ed7953\"],[0.7777777777777778,\"#fb9f3a\"],[0.8888888888888888,\"#fdca26\"],[1.0,\"#f0f921\"]]}],\"mesh3d\":[{\"type\":\"mesh3d\",\"colorbar\":{\"outlinewidth\":0,\"ticks\":\"\"}}],\"scatter\":[{\"fillpattern\":{\"fillmode\":\"overlay\",\"size\":10,\"solidity\":0.2},\"type\":\"scatter\"}],\"parcoords\":[{\"type\":\"parcoords\",\"line\":{\"colorbar\":{\"outlinewidth\":0,\"ticks\":\"\"}}}],\"scatterpolargl\":[{\"type\":\"scatterpolargl\",\"marker\":{\"colorbar\":{\"outlinewidth\":0,\"ticks\":\"\"}}}],\"bar\":[{\"error_x\":{\"color\":\"#2a3f5f\"},\"error_y\":{\"color\":\"#2a3f5f\"},\"marker\":{\"line\":{\"color\":\"#E5ECF6\",\"width\":0.5},\"pattern\":{\"fillmode\":\"overlay\",\"size\":10,\"solidity\":0.2}},\"type\":\"bar\"}],\"scattergeo\":[{\"type\":\"scattergeo\",\"marker\":{\"colorbar\":{\"outlinewidth\":0,\"ticks\":\"\"}}}],\"scatterpolar\":[{\"type\":\"scatterpolar\",\"marker\":{\"colorbar\":{\"outlinewidth\":0,\"ticks\":\"\"}}}],\"histogram\":[{\"marker\":{\"pattern\":{\"fillmode\":\"overlay\",\"size\":10,\"solidity\":0.2}},\"type\":\"histogram\"}],\"scattergl\":[{\"type\":\"scattergl\",\"marker\":{\"colorbar\":{\"outlinewidth\":0,\"ticks\":\"\"}}}],\"scatter3d\":[{\"type\":\"scatter3d\",\"line\":{\"colorbar\":{\"outlinewidth\":0,\"ticks\":\"\"}},\"marker\":{\"colorbar\":{\"outlinewidth\":0,\"ticks\":\"\"}}}],\"scattermapbox\":[{\"type\":\"scattermapbox\",\"marker\":{\"colorbar\":{\"outlinewidth\":0,\"ticks\":\"\"}}}],\"scatterternary\":[{\"type\":\"scatterternary\",\"marker\":{\"colorbar\":{\"outlinewidth\":0,\"ticks\":\"\"}}}],\"scattercarpet\":[{\"type\":\"scattercarpet\",\"marker\":{\"colorbar\":{\"outlinewidth\":0,\"ticks\":\"\"}}}],\"carpet\":[{\"aaxis\":{\"endlinecolor\":\"#2a3f5f\",\"gridcolor\":\"white\",\"linecolor\":\"white\",\"minorgridcolor\":\"white\",\"startlinecolor\":\"#2a3f5f\"},\"baxis\":{\"endlinecolor\":\"#2a3f5f\",\"gridcolor\":\"white\",\"linecolor\":\"white\",\"minorgridcolor\":\"white\",\"startlinecolor\":\"#2a3f5f\"},\"type\":\"carpet\"}],\"table\":[{\"cells\":{\"fill\":{\"color\":\"#EBF0F8\"},\"line\":{\"color\":\"white\"}},\"header\":{\"fill\":{\"color\":\"#C8D4E3\"},\"line\":{\"color\":\"white\"}},\"type\":\"table\"}],\"barpolar\":[{\"marker\":{\"line\":{\"color\":\"#E5ECF6\",\"width\":0.5},\"pattern\":{\"fillmode\":\"overlay\",\"size\":10,\"solidity\":0.2}},\"type\":\"barpolar\"}],\"pie\":[{\"automargin\":true,\"type\":\"pie\"}]},\"layout\":{\"autotypenumbers\":\"strict\",\"colorway\":[\"#636efa\",\"#EF553B\",\"#00cc96\",\"#ab63fa\",\"#FFA15A\",\"#19d3f3\",\"#FF6692\",\"#B6E880\",\"#FF97FF\",\"#FECB52\"],\"font\":{\"color\":\"#2a3f5f\"},\"hovermode\":\"closest\",\"hoverlabel\":{\"align\":\"left\"},\"paper_bgcolor\":\"white\",\"plot_bgcolor\":\"#E5ECF6\",\"polar\":{\"bgcolor\":\"#E5ECF6\",\"angularaxis\":{\"gridcolor\":\"white\",\"linecolor\":\"white\",\"ticks\":\"\"},\"radialaxis\":{\"gridcolor\":\"white\",\"linecolor\":\"white\",\"ticks\":\"\"}},\"ternary\":{\"bgcolor\":\"#E5ECF6\",\"aaxis\":{\"gridcolor\":\"white\",\"linecolor\":\"white\",\"ticks\":\"\"},\"baxis\":{\"gridcolor\":\"white\",\"linecolor\":\"white\",\"ticks\":\"\"},\"caxis\":{\"gridcolor\":\"white\",\"linecolor\":\"white\",\"ticks\":\"\"}},\"coloraxis\":{\"colorbar\":{\"outlinewidth\":0,\"ticks\":\"\"}},\"colorscale\":{\"sequential\":[[0.0,\"#0d0887\"],[0.1111111111111111,\"#46039f\"],[0.2222222222222222,\"#7201a8\"],[0.3333333333333333,\"#9c179e\"],[0.4444444444444444,\"#bd3786\"],[0.5555555555555556,\"#d8576b\"],[0.6666666666666666,\"#ed7953\"],[0.7777777777777778,\"#fb9f3a\"],[0.8888888888888888,\"#fdca26\"],[1.0,\"#f0f921\"]],\"sequentialminus\":[[0.0,\"#0d0887\"],[0.1111111111111111,\"#46039f\"],[0.2222222222222222,\"#7201a8\"],[0.3333333333333333,\"#9c179e\"],[0.4444444444444444,\"#bd3786\"],[0.5555555555555556,\"#d8576b\"],[0.6666666666666666,\"#ed7953\"],[0.7777777777777778,\"#fb9f3a\"],[0.8888888888888888,\"#fdca26\"],[1.0,\"#f0f921\"]],\"diverging\":[[0,\"#8e0152\"],[0.1,\"#c51b7d\"],[0.2,\"#de77ae\"],[0.3,\"#f1b6da\"],[0.4,\"#fde0ef\"],[0.5,\"#f7f7f7\"],[0.6,\"#e6f5d0\"],[0.7,\"#b8e186\"],[0.8,\"#7fbc41\"],[0.9,\"#4d9221\"],[1,\"#276419\"]]},\"xaxis\":{\"gridcolor\":\"white\",\"linecolor\":\"white\",\"ticks\":\"\",\"title\":{\"standoff\":15},\"zerolinecolor\":\"white\",\"automargin\":true,\"zerolinewidth\":2},\"yaxis\":{\"gridcolor\":\"white\",\"linecolor\":\"white\",\"ticks\":\"\",\"title\":{\"standoff\":15},\"zerolinecolor\":\"white\",\"automargin\":true,\"zerolinewidth\":2},\"scene\":{\"xaxis\":{\"backgroundcolor\":\"#E5ECF6\",\"gridcolor\":\"white\",\"linecolor\":\"white\",\"showbackground\":true,\"ticks\":\"\",\"zerolinecolor\":\"white\",\"gridwidth\":2},\"yaxis\":{\"backgroundcolor\":\"#E5ECF6\",\"gridcolor\":\"white\",\"linecolor\":\"white\",\"showbackground\":true,\"ticks\":\"\",\"zerolinecolor\":\"white\",\"gridwidth\":2},\"zaxis\":{\"backgroundcolor\":\"#E5ECF6\",\"gridcolor\":\"white\",\"linecolor\":\"white\",\"showbackground\":true,\"ticks\":\"\",\"zerolinecolor\":\"white\",\"gridwidth\":2}},\"shapedefaults\":{\"line\":{\"color\":\"#2a3f5f\"}},\"annotationdefaults\":{\"arrowcolor\":\"#2a3f5f\",\"arrowhead\":0,\"arrowwidth\":1},\"geo\":{\"bgcolor\":\"white\",\"landcolor\":\"#E5ECF6\",\"subunitcolor\":\"white\",\"showland\":true,\"showlakes\":true,\"lakecolor\":\"white\"},\"title\":{\"x\":0.05},\"mapbox\":{\"style\":\"light\"}}},\"scene\":{\"domain\":{\"x\":[0.0,1.0],\"y\":[0.0,1.0]},\"xaxis\":{\"title\":{\"text\":\"PetalWidthCm\"}},\"yaxis\":{\"title\":{\"text\":\"SepalLengthCm\"}},\"zaxis\":{\"title\":{\"text\":\"SepalWidthCm\"}}},\"legend\":{\"title\":{\"text\":\"anomaly\"},\"tracegroupgap\":0},\"margin\":{\"t\":60}},                        {\"responsive\": true}                    ).then(function(){\n",
       "                            \n",
       "var gd = document.getElementById('017eac95-237f-4997-a717-96c5c1b9cfe9');\n",
       "var x = new MutationObserver(function (mutations, observer) {{\n",
       "        var display = window.getComputedStyle(gd).display;\n",
       "        if (!display || display === 'none') {{\n",
       "            console.log([gd, 'removed!']);\n",
       "            Plotly.purge(gd);\n",
       "            observer.disconnect();\n",
       "        }}\n",
       "}});\n",
       "\n",
       "// Listen for the removal of the full notebook cells\n",
       "var notebookContainer = gd.closest('#notebook-container');\n",
       "if (notebookContainer) {{\n",
       "    x.observe(notebookContainer, {childList: true});\n",
       "}}\n",
       "\n",
       "// Listen for the clearing of the current output cell\n",
       "var outputEl = gd.closest('.output');\n",
       "if (outputEl) {{\n",
       "    x.observe(outputEl, {childList: true});\n",
       "}}\n",
       "\n",
       "                        })                };                });            </script>        </div>"
      ]
     },
     "metadata": {},
     "output_type": "display_data"
    }
   ],
   "source": [
    "fig = px.scatter_3d(X,x='PetalWidthCm', y='SepalLengthCm', z='SepalWidthCm', color='anomaly')\n",
    "fig.show()"
   ]
  },
  {
   "cell_type": "markdown",
   "id": "99af0a30-ab59-4939-a378-3443a79fb8ca",
   "metadata": {},
   "source": [
    "- **Desventajas**\n",
    "    - La puntuación de anomalía final depende del parámetro de contaminación. Esto implica que debemos tener una idea de qué porcentaje de los datos son anómalos de antemano para obtener una mejor predicción.\n",
    "    -  El modelo sufre de un sesgo debido a la forma en que se produce la ramificación."
   ]
  },
  {
   "cell_type": "markdown",
   "id": "aeab363d-2dbb-4d3f-a673-480641f1bb6a",
   "metadata": {},
   "source": [
    "<img src=\"isolationsesgo2.png\">\n",
    "\n",
    "#### **Esto no sólo aumenta las posibilidades de falsos positivos, sino que también indica erróneamente una estructura inexistente en los datos.**"
   ]
  },
  {
   "cell_type": "markdown",
   "id": "ac0263f0-349e-4d6f-83d6-0f24a6c7ffb7",
   "metadata": {
    "jp-MarkdownHeadingCollapsed": true,
    "tags": []
   },
   "source": [
    "# DBSCAN (Clustering espacial basado en la densidad de aplicaciones con ruido)"
   ]
  },
  {
   "cell_type": "markdown",
   "id": "8fde617b-8021-488c-a8e9-1b3ddd4e72be",
   "metadata": {},
   "source": [
    "**DBSCAN es un método de agrupación en clústeres que se utiliza en el aprendizaje automático para separar los clústeres de alta densidad de los clústeres de baja densidad. Dado que DBSCAN es un algoritmo de agrupamiento basado en la densidad, hace un excelente trabajo al buscar áreas en los datos que tienen una alta densidad de observaciones, en comparación con áreas de los datos que no son muy densas en observaciones (Ruido u Ouliers). DBSCAN también puede ordenar los datos en grupos de diferentes formas.**"
   ]
  },
  {
   "cell_type": "markdown",
   "id": "d21ae799-3a1c-4d7f-8d7a-fc3ea7320742",
   "metadata": {
    "tags": []
   },
   "source": [
    "### Hyperparametros y Funcionamiento"
   ]
  },
  {
   "cell_type": "markdown",
   "id": "0c323583-eec7-4c23-a432-d2ad403c784d",
   "metadata": {},
   "source": [
    "**DBSCAN requiere solo dos parámetros, epsilon y minPoints.** \n",
    "* Epsilon es el radio del círculo que se creará alrededor de cada punto de datos para verificar la densidad, Si un punto cae dentro de la distancia épsilon de otro punto, esos dos puntos estarán en el mismo grupo.\n",
    "* minPoints es la cantidad mínima de puntos de datos necesarios dentro de ese círculo para que ese punto de datos se clasifique como un punto central. Si el número mínimo de puntos necesarios se establece en 4. Al pasar por cada punto de datos, siempre que DBSCAN encuentre 4 puntos dentro de una distancia épsilon entre sí, se forma un grupo.\n",
    "\n",
    "**Usando estos dos parámetros, cada observación en el conjunto de datos se puede clasificar en una de las siguientes tres categorías:**\n",
    "* Core point: Observación que tiene en su ϵ-vecino un número de observaciones vecinas igual o superior a min_samples.\n",
    "* Border point: Observación que no satisface el número mínimo de observaciones vecinas para ser un punto central, pero pertenece a la zona de ϵ-de otra observación que es un punto central.\n",
    "* Ruido o valor atípico: Observación que no es ni punto central ni punto fronterizo."
   ]
  },
  {
   "cell_type": "markdown",
   "id": "4dc34b48-180d-4d82-bfbe-f2f4355aafe5",
   "metadata": {},
   "source": [
    "<img src=\"dbscan2.webp\">"
   ]
  },
  {
   "cell_type": "markdown",
   "id": "962580bb-fc22-402f-9b0c-219d2cc72ee3",
   "metadata": {
    "tags": []
   },
   "source": [
    "### Singularidades, ventajas y desventajas"
   ]
  },
  {
   "cell_type": "markdown",
   "id": "090de0a3-b029-4fab-b43d-810f44ed0d56",
   "metadata": {},
   "source": [
    "**DBSCAN NO categoriza necesariamente todos los puntos de datos y, por lo tanto, es excelente para manejar valores atípicos en el conjunto de datos. Examinemos el siguiente gráfico:**"
   ]
  },
  {
   "cell_type": "markdown",
   "id": "0523658c-2c29-4ac8-85a6-b183553ac365",
   "metadata": {},
   "source": [
    "<img src=\"dbscan3.webp\">"
   ]
  },
  {
   "cell_type": "markdown",
   "id": "463620a5-b9c2-4533-96aa-1e9b836b6d80",
   "metadata": {},
   "source": [
    " **La imagen de la izquierda muestra un método de agrupamiento más tradicional que no tiene en cuenta la multidimensionalidad. Mientras que la imagen de la derecha muestra cómo DBSCAN puede distorsionar los datos en diferentes formas y dimensiones para encontrar grupos similares. También podemos notar  en la imagen de la derecha que los puntos a lo largo del borde exterior del conjunto de datos no están clasificados, lo que sugiere que son valores atípicos entre los datos.**\n",
    "\n",
    "**Ventajas de DBSCAN:**\n",
    "* Es excelente a la hora de separar conglomerados de alta densidad de conglomerados de baja densidad dentro de un conjunto de datos determinado.\n",
    "* Puede identificar valores atípicos, por lo que los clústeres generados no están influenciados por ellos.\n",
    "* A diferencia de modelos como K-means No requiere que el usuario especifique el número de clústeres.\n",
    "* Los clusters no son obligatoriamente esféricos, pueden tomar cualquier forma y adaptarse al conjunto de datos.\n",
    "\n",
    "**Desventajas de DBSCAN**\n",
    "* Mientras que DBSCAN es excelente a la hora de separar los conglomerados de alta densidad de los de baja densidad, DBSCAN tiene dificultades con los conglomerados de densidad similar.\n",
    "* Lucha con datos de alta dimensionalidad. Lo sé, dijimos que DBSCAN es excelente a la hora de deformar los datos en diferentes dimensiones y formas. Sin embargo, DBSCAN sólo puede ir hasta cierto punto, si se dan datos con demasiadas dimensiones, DBSCAN sufre.\n",
    "\n",
    "**Antes de pasar a su implementacion tengo que mencionar la existencia de HDBSCAN. Esta variacion y la original son casi iguales, HDBSCAN incluye una mejora a DBSCAN y es que HDBSCAN calcula una función de densidad, para cada clustrer, por lo que los clusters pueden tener distinta densidad (en DBSCAN todos los cluster tienen la misma densidad). Si te interesa trabajar con HDBSCAN Aquí encontraras lo necesario https://github.com/scikit-learn-contrib/hdbscan.**"
   ]
  },
  {
   "cell_type": "markdown",
   "id": "3ea439fd-fb40-4ee7-b9d2-f4183418be90",
   "metadata": {
    "tags": []
   },
   "source": [
    "### Aplicación práctica del algoritmo"
   ]
  },
  {
   "cell_type": "code",
   "execution_count": 64,
   "id": "6420f3a9-052f-4b04-b827-fb771b6bd950",
   "metadata": {},
   "outputs": [],
   "source": [
    "from sklearn.cluster import DBSCAN\n",
    "from sklearn.metrics import silhouette_score, calinski_harabasz_score\n",
    "import seaborn as sns"
   ]
  },
  {
   "cell_type": "code",
   "execution_count": 65,
   "id": "337a4b7e-06ba-4dc8-a228-ce235aa85f34",
   "metadata": {
    "tags": []
   },
   "outputs": [],
   "source": [
    "df = pd.read_csv('ccgeneral.csv')"
   ]
  },
  {
   "cell_type": "code",
   "execution_count": 71,
   "id": "ef5b3ac2-5552-4a6d-93df-f693cc8d651f",
   "metadata": {},
   "outputs": [
    {
     "data": {
      "text/html": [
       "<div>\n",
       "<style scoped>\n",
       "    .dataframe tbody tr th:only-of-type {\n",
       "        vertical-align: middle;\n",
       "    }\n",
       "\n",
       "    .dataframe tbody tr th {\n",
       "        vertical-align: top;\n",
       "    }\n",
       "\n",
       "    .dataframe thead th {\n",
       "        text-align: right;\n",
       "    }\n",
       "</style>\n",
       "<table border=\"1\" class=\"dataframe\">\n",
       "  <thead>\n",
       "    <tr style=\"text-align: right;\">\n",
       "      <th></th>\n",
       "      <th>BALANCE</th>\n",
       "      <th>BALANCE_FREQUENCY</th>\n",
       "      <th>PURCHASES</th>\n",
       "      <th>ONEOFF_PURCHASES</th>\n",
       "      <th>INSTALLMENTS_PURCHASES</th>\n",
       "      <th>CASH_ADVANCE</th>\n",
       "      <th>PURCHASES_FREQUENCY</th>\n",
       "      <th>ONEOFF_PURCHASES_FREQUENCY</th>\n",
       "      <th>PURCHASES_INSTALLMENTS_FREQUENCY</th>\n",
       "      <th>CASH_ADVANCE_FREQUENCY</th>\n",
       "      <th>CASH_ADVANCE_TRX</th>\n",
       "      <th>PURCHASES_TRX</th>\n",
       "      <th>PAYMENTS</th>\n",
       "      <th>PRC_FULL_PAYMENT</th>\n",
       "      <th>TENURE</th>\n",
       "      <th>MINIMUM_PAYMENTS_NEW</th>\n",
       "      <th>CREDIT_LIMIT_NEW</th>\n",
       "    </tr>\n",
       "  </thead>\n",
       "  <tbody>\n",
       "    <tr>\n",
       "      <th>0</th>\n",
       "      <td>40.900749</td>\n",
       "      <td>0.818182</td>\n",
       "      <td>95.40</td>\n",
       "      <td>0.00</td>\n",
       "      <td>95.40</td>\n",
       "      <td>0.000000</td>\n",
       "      <td>0.166667</td>\n",
       "      <td>0.000000</td>\n",
       "      <td>0.083333</td>\n",
       "      <td>0.000000</td>\n",
       "      <td>0</td>\n",
       "      <td>2</td>\n",
       "      <td>201.802084</td>\n",
       "      <td>0.000000</td>\n",
       "      <td>12</td>\n",
       "      <td>139.509787</td>\n",
       "      <td>1000.0</td>\n",
       "    </tr>\n",
       "    <tr>\n",
       "      <th>1</th>\n",
       "      <td>3202.467416</td>\n",
       "      <td>0.909091</td>\n",
       "      <td>0.00</td>\n",
       "      <td>0.00</td>\n",
       "      <td>0.00</td>\n",
       "      <td>6442.945483</td>\n",
       "      <td>0.000000</td>\n",
       "      <td>0.000000</td>\n",
       "      <td>0.000000</td>\n",
       "      <td>0.250000</td>\n",
       "      <td>4</td>\n",
       "      <td>0</td>\n",
       "      <td>4103.032597</td>\n",
       "      <td>0.222222</td>\n",
       "      <td>12</td>\n",
       "      <td>1072.340217</td>\n",
       "      <td>7000.0</td>\n",
       "    </tr>\n",
       "    <tr>\n",
       "      <th>2</th>\n",
       "      <td>2495.148862</td>\n",
       "      <td>1.000000</td>\n",
       "      <td>773.17</td>\n",
       "      <td>773.17</td>\n",
       "      <td>0.00</td>\n",
       "      <td>0.000000</td>\n",
       "      <td>1.000000</td>\n",
       "      <td>1.000000</td>\n",
       "      <td>0.000000</td>\n",
       "      <td>0.000000</td>\n",
       "      <td>0</td>\n",
       "      <td>12</td>\n",
       "      <td>622.066742</td>\n",
       "      <td>0.000000</td>\n",
       "      <td>12</td>\n",
       "      <td>627.284787</td>\n",
       "      <td>7500.0</td>\n",
       "    </tr>\n",
       "    <tr>\n",
       "      <th>3</th>\n",
       "      <td>1666.670542</td>\n",
       "      <td>0.636364</td>\n",
       "      <td>1499.00</td>\n",
       "      <td>1499.00</td>\n",
       "      <td>0.00</td>\n",
       "      <td>205.788017</td>\n",
       "      <td>0.083333</td>\n",
       "      <td>0.083333</td>\n",
       "      <td>0.000000</td>\n",
       "      <td>0.083333</td>\n",
       "      <td>1</td>\n",
       "      <td>1</td>\n",
       "      <td>0.000000</td>\n",
       "      <td>0.000000</td>\n",
       "      <td>12</td>\n",
       "      <td>312.343947</td>\n",
       "      <td>7500.0</td>\n",
       "    </tr>\n",
       "    <tr>\n",
       "      <th>4</th>\n",
       "      <td>817.714335</td>\n",
       "      <td>1.000000</td>\n",
       "      <td>16.00</td>\n",
       "      <td>16.00</td>\n",
       "      <td>0.00</td>\n",
       "      <td>0.000000</td>\n",
       "      <td>0.083333</td>\n",
       "      <td>0.083333</td>\n",
       "      <td>0.000000</td>\n",
       "      <td>0.000000</td>\n",
       "      <td>0</td>\n",
       "      <td>1</td>\n",
       "      <td>678.334763</td>\n",
       "      <td>0.000000</td>\n",
       "      <td>12</td>\n",
       "      <td>244.791237</td>\n",
       "      <td>1200.0</td>\n",
       "    </tr>\n",
       "    <tr>\n",
       "      <th>...</th>\n",
       "      <td>...</td>\n",
       "      <td>...</td>\n",
       "      <td>...</td>\n",
       "      <td>...</td>\n",
       "      <td>...</td>\n",
       "      <td>...</td>\n",
       "      <td>...</td>\n",
       "      <td>...</td>\n",
       "      <td>...</td>\n",
       "      <td>...</td>\n",
       "      <td>...</td>\n",
       "      <td>...</td>\n",
       "      <td>...</td>\n",
       "      <td>...</td>\n",
       "      <td>...</td>\n",
       "      <td>...</td>\n",
       "      <td>...</td>\n",
       "    </tr>\n",
       "    <tr>\n",
       "      <th>8945</th>\n",
       "      <td>28.493517</td>\n",
       "      <td>1.000000</td>\n",
       "      <td>291.12</td>\n",
       "      <td>0.00</td>\n",
       "      <td>291.12</td>\n",
       "      <td>0.000000</td>\n",
       "      <td>1.000000</td>\n",
       "      <td>0.000000</td>\n",
       "      <td>0.833333</td>\n",
       "      <td>0.000000</td>\n",
       "      <td>0</td>\n",
       "      <td>6</td>\n",
       "      <td>325.594462</td>\n",
       "      <td>0.500000</td>\n",
       "      <td>6</td>\n",
       "      <td>48.886365</td>\n",
       "      <td>1000.0</td>\n",
       "    </tr>\n",
       "    <tr>\n",
       "      <th>8946</th>\n",
       "      <td>19.183215</td>\n",
       "      <td>1.000000</td>\n",
       "      <td>300.00</td>\n",
       "      <td>0.00</td>\n",
       "      <td>300.00</td>\n",
       "      <td>0.000000</td>\n",
       "      <td>1.000000</td>\n",
       "      <td>0.000000</td>\n",
       "      <td>0.833333</td>\n",
       "      <td>0.000000</td>\n",
       "      <td>0</td>\n",
       "      <td>6</td>\n",
       "      <td>275.861322</td>\n",
       "      <td>0.000000</td>\n",
       "      <td>6</td>\n",
       "      <td>312.343947</td>\n",
       "      <td>1000.0</td>\n",
       "    </tr>\n",
       "    <tr>\n",
       "      <th>8947</th>\n",
       "      <td>23.398673</td>\n",
       "      <td>0.833333</td>\n",
       "      <td>144.40</td>\n",
       "      <td>0.00</td>\n",
       "      <td>144.40</td>\n",
       "      <td>0.000000</td>\n",
       "      <td>0.833333</td>\n",
       "      <td>0.000000</td>\n",
       "      <td>0.666667</td>\n",
       "      <td>0.000000</td>\n",
       "      <td>0</td>\n",
       "      <td>5</td>\n",
       "      <td>81.270775</td>\n",
       "      <td>0.250000</td>\n",
       "      <td>6</td>\n",
       "      <td>82.418369</td>\n",
       "      <td>1000.0</td>\n",
       "    </tr>\n",
       "    <tr>\n",
       "      <th>8948</th>\n",
       "      <td>13.457564</td>\n",
       "      <td>0.833333</td>\n",
       "      <td>0.00</td>\n",
       "      <td>0.00</td>\n",
       "      <td>0.00</td>\n",
       "      <td>36.558778</td>\n",
       "      <td>0.000000</td>\n",
       "      <td>0.000000</td>\n",
       "      <td>0.000000</td>\n",
       "      <td>0.166667</td>\n",
       "      <td>2</td>\n",
       "      <td>0</td>\n",
       "      <td>52.549959</td>\n",
       "      <td>0.250000</td>\n",
       "      <td>6</td>\n",
       "      <td>55.755628</td>\n",
       "      <td>500.0</td>\n",
       "    </tr>\n",
       "    <tr>\n",
       "      <th>8949</th>\n",
       "      <td>372.708075</td>\n",
       "      <td>0.666667</td>\n",
       "      <td>1093.25</td>\n",
       "      <td>1093.25</td>\n",
       "      <td>0.00</td>\n",
       "      <td>127.040008</td>\n",
       "      <td>0.666667</td>\n",
       "      <td>0.666667</td>\n",
       "      <td>0.000000</td>\n",
       "      <td>0.333333</td>\n",
       "      <td>2</td>\n",
       "      <td>23</td>\n",
       "      <td>63.165404</td>\n",
       "      <td>0.000000</td>\n",
       "      <td>6</td>\n",
       "      <td>88.288956</td>\n",
       "      <td>1200.0</td>\n",
       "    </tr>\n",
       "  </tbody>\n",
       "</table>\n",
       "<p>8950 rows × 17 columns</p>\n",
       "</div>"
      ],
      "text/plain": [
       "          BALANCE  BALANCE_FREQUENCY  PURCHASES  ONEOFF_PURCHASES  \\\n",
       "0       40.900749           0.818182      95.40              0.00   \n",
       "1     3202.467416           0.909091       0.00              0.00   \n",
       "2     2495.148862           1.000000     773.17            773.17   \n",
       "3     1666.670542           0.636364    1499.00           1499.00   \n",
       "4      817.714335           1.000000      16.00             16.00   \n",
       "...           ...                ...        ...               ...   \n",
       "8945    28.493517           1.000000     291.12              0.00   \n",
       "8946    19.183215           1.000000     300.00              0.00   \n",
       "8947    23.398673           0.833333     144.40              0.00   \n",
       "8948    13.457564           0.833333       0.00              0.00   \n",
       "8949   372.708075           0.666667    1093.25           1093.25   \n",
       "\n",
       "      INSTALLMENTS_PURCHASES  CASH_ADVANCE  PURCHASES_FREQUENCY  \\\n",
       "0                      95.40      0.000000             0.166667   \n",
       "1                       0.00   6442.945483             0.000000   \n",
       "2                       0.00      0.000000             1.000000   \n",
       "3                       0.00    205.788017             0.083333   \n",
       "4                       0.00      0.000000             0.083333   \n",
       "...                      ...           ...                  ...   \n",
       "8945                  291.12      0.000000             1.000000   \n",
       "8946                  300.00      0.000000             1.000000   \n",
       "8947                  144.40      0.000000             0.833333   \n",
       "8948                    0.00     36.558778             0.000000   \n",
       "8949                    0.00    127.040008             0.666667   \n",
       "\n",
       "      ONEOFF_PURCHASES_FREQUENCY  PURCHASES_INSTALLMENTS_FREQUENCY  \\\n",
       "0                       0.000000                          0.083333   \n",
       "1                       0.000000                          0.000000   \n",
       "2                       1.000000                          0.000000   \n",
       "3                       0.083333                          0.000000   \n",
       "4                       0.083333                          0.000000   \n",
       "...                          ...                               ...   \n",
       "8945                    0.000000                          0.833333   \n",
       "8946                    0.000000                          0.833333   \n",
       "8947                    0.000000                          0.666667   \n",
       "8948                    0.000000                          0.000000   \n",
       "8949                    0.666667                          0.000000   \n",
       "\n",
       "      CASH_ADVANCE_FREQUENCY  CASH_ADVANCE_TRX  PURCHASES_TRX     PAYMENTS  \\\n",
       "0                   0.000000                 0              2   201.802084   \n",
       "1                   0.250000                 4              0  4103.032597   \n",
       "2                   0.000000                 0             12   622.066742   \n",
       "3                   0.083333                 1              1     0.000000   \n",
       "4                   0.000000                 0              1   678.334763   \n",
       "...                      ...               ...            ...          ...   \n",
       "8945                0.000000                 0              6   325.594462   \n",
       "8946                0.000000                 0              6   275.861322   \n",
       "8947                0.000000                 0              5    81.270775   \n",
       "8948                0.166667                 2              0    52.549959   \n",
       "8949                0.333333                 2             23    63.165404   \n",
       "\n",
       "      PRC_FULL_PAYMENT  TENURE  MINIMUM_PAYMENTS_NEW  CREDIT_LIMIT_NEW  \n",
       "0             0.000000      12            139.509787            1000.0  \n",
       "1             0.222222      12           1072.340217            7000.0  \n",
       "2             0.000000      12            627.284787            7500.0  \n",
       "3             0.000000      12            312.343947            7500.0  \n",
       "4             0.000000      12            244.791237            1200.0  \n",
       "...                ...     ...                   ...               ...  \n",
       "8945          0.500000       6             48.886365            1000.0  \n",
       "8946          0.000000       6            312.343947            1000.0  \n",
       "8947          0.250000       6             82.418369            1000.0  \n",
       "8948          0.250000       6             55.755628             500.0  \n",
       "8949          0.000000       6             88.288956            1200.0  \n",
       "\n",
       "[8950 rows x 17 columns]"
      ]
     },
     "execution_count": 71,
     "metadata": {},
     "output_type": "execute_result"
    }
   ],
   "source": [
    "df"
   ]
  },
  {
   "cell_type": "markdown",
   "id": "86c8b666-ca98-497c-b2d8-25a44c2ba729",
   "metadata": {
    "tags": []
   },
   "source": [
    "#### preparacion de los datos y construccion del modelo"
   ]
  },
  {
   "cell_type": "code",
   "execution_count": 55,
   "id": "1397f732-ac06-4ad2-a6f1-f7778bf0cfc4",
   "metadata": {},
   "outputs": [],
   "source": [
    "from sklearn.model_selection import train_test_split\n",
    "train_df, test_df = train_test_split(df,test_size=0.2,random_state=42)"
   ]
  },
  {
   "cell_type": "code",
   "execution_count": 56,
   "id": "4734448e-4137-4a41-9091-b763b9ac5786",
   "metadata": {},
   "outputs": [],
   "source": [
    "from sklearn.preprocessing import MinMaxScaler\n",
    "mm = MinMaxScaler()\n",
    "train_df = mm.fit_transform(train_df)\n",
    "test_df = mm.transform(test_df)"
   ]
  },
  {
   "cell_type": "code",
   "execution_count": 58,
   "id": "cdcb2501-f55e-48fa-8fcc-97bbe409a134",
   "metadata": {},
   "outputs": [],
   "source": [
    "from sklearn.preprocessing import PowerTransformer\n",
    "pt = PowerTransformer()\n",
    "train_df = pt.fit_transform(train_df)\n",
    "test_df = pt.transform(test_df)"
   ]
  },
  {
   "cell_type": "markdown",
   "id": "99dbaeae-2821-474b-9309-8e338c083740",
   "metadata": {},
   "source": [
    "#### Dbscan"
   ]
  },
  {
   "cell_type": "code",
   "execution_count": 59,
   "id": "21ce8a09-c89d-4746-be48-b8ad520c49b7",
   "metadata": {},
   "outputs": [],
   "source": [
    "from sklearn.cluster import DBSCAN"
   ]
  },
  {
   "cell_type": "code",
   "execution_count": 60,
   "id": "92e8b708-4b96-42d7-b65a-c662690a3867",
   "metadata": {},
   "outputs": [
    {
     "data": {
      "text/plain": [
       "array([ 1,  0,  0, ...,  0,  0, -1], dtype=int64)"
      ]
     },
     "execution_count": 60,
     "metadata": {},
     "output_type": "execute_result"
    }
   ],
   "source": [
    "dbscan = DBSCAN(eps=2,min_samples=6)\n",
    "dbscan.fit(train_df)\n",
    "y_dbscan_pred = dbscan.labels_\n",
    "y_dbscan_pred"
   ]
  },
  {
   "cell_type": "code",
   "execution_count": 61,
   "id": "51c75071-cda2-480f-a56c-58122fa39f33",
   "metadata": {},
   "outputs": [
    {
     "data": {
      "text/html": [
       "<div>\n",
       "<style scoped>\n",
       "    .dataframe tbody tr th:only-of-type {\n",
       "        vertical-align: middle;\n",
       "    }\n",
       "\n",
       "    .dataframe tbody tr th {\n",
       "        vertical-align: top;\n",
       "    }\n",
       "\n",
       "    .dataframe thead th {\n",
       "        text-align: right;\n",
       "    }\n",
       "</style>\n",
       "<table border=\"1\" class=\"dataframe\">\n",
       "  <thead>\n",
       "    <tr style=\"text-align: right;\">\n",
       "      <th></th>\n",
       "      <th>BALANCE</th>\n",
       "      <th>BALANCE_FREQUENCY</th>\n",
       "      <th>PURCHASES</th>\n",
       "      <th>ONEOFF_PURCHASES</th>\n",
       "      <th>INSTALLMENTS_PURCHASES</th>\n",
       "      <th>CASH_ADVANCE</th>\n",
       "      <th>PURCHASES_FREQUENCY</th>\n",
       "      <th>ONEOFF_PURCHASES_FREQUENCY</th>\n",
       "      <th>PURCHASES_INSTALLMENTS_FREQUENCY</th>\n",
       "      <th>CASH_ADVANCE_FREQUENCY</th>\n",
       "      <th>CASH_ADVANCE_TRX</th>\n",
       "      <th>PURCHASES_TRX</th>\n",
       "      <th>PAYMENTS</th>\n",
       "      <th>PRC_FULL_PAYMENT</th>\n",
       "      <th>TENURE</th>\n",
       "      <th>MINIMUM_PAYMENTS_NEW</th>\n",
       "      <th>CREDIT_LIMIT_NEW</th>\n",
       "      <th>clusters</th>\n",
       "    </tr>\n",
       "  </thead>\n",
       "  <tbody>\n",
       "    <tr>\n",
       "      <th>0</th>\n",
       "      <td>-0.937132</td>\n",
       "      <td>-1.267216</td>\n",
       "      <td>-0.029433</td>\n",
       "      <td>0.338526</td>\n",
       "      <td>-0.240386</td>\n",
       "      <td>-0.759264</td>\n",
       "      <td>0.759911</td>\n",
       "      <td>1.311241</td>\n",
       "      <td>0.943811</td>\n",
       "      <td>-0.879684</td>\n",
       "      <td>-0.811487</td>\n",
       "      <td>0.511013</td>\n",
       "      <td>-1.202855</td>\n",
       "      <td>-0.682927</td>\n",
       "      <td>-2.523257</td>\n",
       "      <td>-0.904943</td>\n",
       "      <td>-0.474651</td>\n",
       "      <td>1</td>\n",
       "    </tr>\n",
       "    <tr>\n",
       "      <th>1</th>\n",
       "      <td>1.291880</td>\n",
       "      <td>0.630684</td>\n",
       "      <td>-1.038959</td>\n",
       "      <td>-0.770843</td>\n",
       "      <td>-0.875991</td>\n",
       "      <td>-0.442225</td>\n",
       "      <td>-1.277682</td>\n",
       "      <td>-0.899467</td>\n",
       "      <td>-1.004129</td>\n",
       "      <td>0.119472</td>\n",
       "      <td>-0.225140</td>\n",
       "      <td>-1.112948</td>\n",
       "      <td>-0.282814</td>\n",
       "      <td>-0.682927</td>\n",
       "      <td>0.420804</td>\n",
       "      <td>1.573059</td>\n",
       "      <td>0.874702</td>\n",
       "      <td>0</td>\n",
       "    </tr>\n",
       "    <tr>\n",
       "      <th>2</th>\n",
       "      <td>-0.465038</td>\n",
       "      <td>0.630684</td>\n",
       "      <td>-1.038959</td>\n",
       "      <td>-0.770843</td>\n",
       "      <td>-0.875991</td>\n",
       "      <td>1.956628</td>\n",
       "      <td>-1.277682</td>\n",
       "      <td>-0.899467</td>\n",
       "      <td>-1.004129</td>\n",
       "      <td>1.843015</td>\n",
       "      <td>1.783117</td>\n",
       "      <td>-1.112948</td>\n",
       "      <td>1.755467</td>\n",
       "      <td>1.851019</td>\n",
       "      <td>0.420804</td>\n",
       "      <td>-0.374950</td>\n",
       "      <td>-1.328991</td>\n",
       "      <td>0</td>\n",
       "    </tr>\n",
       "    <tr>\n",
       "      <th>3</th>\n",
       "      <td>-1.148135</td>\n",
       "      <td>-1.698717</td>\n",
       "      <td>1.370433</td>\n",
       "      <td>-0.659492</td>\n",
       "      <td>1.955042</td>\n",
       "      <td>-0.759264</td>\n",
       "      <td>1.052468</td>\n",
       "      <td>-0.084946</td>\n",
       "      <td>1.183555</td>\n",
       "      <td>-0.879684</td>\n",
       "      <td>-0.811487</td>\n",
       "      <td>0.345413</td>\n",
       "      <td>0.663031</td>\n",
       "      <td>-0.682927</td>\n",
       "      <td>0.420804</td>\n",
       "      <td>-1.276909</td>\n",
       "      <td>-0.730514</td>\n",
       "      <td>0</td>\n",
       "    </tr>\n",
       "    <tr>\n",
       "      <th>4</th>\n",
       "      <td>1.388866</td>\n",
       "      <td>0.630684</td>\n",
       "      <td>-0.912679</td>\n",
       "      <td>-0.576602</td>\n",
       "      <td>-0.875991</td>\n",
       "      <td>1.679374</td>\n",
       "      <td>-1.014267</td>\n",
       "      <td>-0.084946</td>\n",
       "      <td>-1.004129</td>\n",
       "      <td>1.124381</td>\n",
       "      <td>1.300071</td>\n",
       "      <td>-0.952862</td>\n",
       "      <td>-0.204360</td>\n",
       "      <td>-0.682927</td>\n",
       "      <td>0.420804</td>\n",
       "      <td>1.252173</td>\n",
       "      <td>0.756250</td>\n",
       "      <td>0</td>\n",
       "    </tr>\n",
       "    <tr>\n",
       "      <th>5</th>\n",
       "      <td>-0.978519</td>\n",
       "      <td>-1.972925</td>\n",
       "      <td>-0.513848</td>\n",
       "      <td>-0.770843</td>\n",
       "      <td>0.153759</td>\n",
       "      <td>0.846675</td>\n",
       "      <td>1.220853</td>\n",
       "      <td>-0.899467</td>\n",
       "      <td>1.377708</td>\n",
       "      <td>0.119472</td>\n",
       "      <td>0.236861</td>\n",
       "      <td>0.345413</td>\n",
       "      <td>0.173675</td>\n",
       "      <td>-0.682927</td>\n",
       "      <td>0.420804</td>\n",
       "      <td>-0.971059</td>\n",
       "      <td>-1.199044</td>\n",
       "      <td>0</td>\n",
       "    </tr>\n",
       "    <tr>\n",
       "      <th>6</th>\n",
       "      <td>-1.132653</td>\n",
       "      <td>0.630684</td>\n",
       "      <td>-0.284999</td>\n",
       "      <td>-0.770843</td>\n",
       "      <td>0.522080</td>\n",
       "      <td>-0.759264</td>\n",
       "      <td>1.220853</td>\n",
       "      <td>-0.899467</td>\n",
       "      <td>1.235844</td>\n",
       "      <td>-0.879684</td>\n",
       "      <td>-0.811487</td>\n",
       "      <td>-0.042362</td>\n",
       "      <td>-0.973483</td>\n",
       "      <td>1.770979</td>\n",
       "      <td>-2.538000</td>\n",
       "      <td>-0.908083</td>\n",
       "      <td>-1.328991</td>\n",
       "      <td>1</td>\n",
       "    </tr>\n",
       "    <tr>\n",
       "      <th>7</th>\n",
       "      <td>0.784516</td>\n",
       "      <td>0.630684</td>\n",
       "      <td>1.955706</td>\n",
       "      <td>2.101295</td>\n",
       "      <td>1.192952</td>\n",
       "      <td>-0.759264</td>\n",
       "      <td>1.220853</td>\n",
       "      <td>1.672441</td>\n",
       "      <td>0.458988</td>\n",
       "      <td>-0.879684</td>\n",
       "      <td>-0.811487</td>\n",
       "      <td>1.077363</td>\n",
       "      <td>1.435215</td>\n",
       "      <td>-0.682927</td>\n",
       "      <td>0.420804</td>\n",
       "      <td>0.122970</td>\n",
       "      <td>0.982936</td>\n",
       "      <td>0</td>\n",
       "    </tr>\n",
       "    <tr>\n",
       "      <th>8</th>\n",
       "      <td>0.270674</td>\n",
       "      <td>0.630684</td>\n",
       "      <td>-1.002768</td>\n",
       "      <td>-0.714616</td>\n",
       "      <td>-0.875991</td>\n",
       "      <td>-0.759264</td>\n",
       "      <td>-1.014267</td>\n",
       "      <td>-0.084946</td>\n",
       "      <td>-1.004129</td>\n",
       "      <td>-0.879684</td>\n",
       "      <td>-0.811487</td>\n",
       "      <td>-0.952862</td>\n",
       "      <td>-0.991293</td>\n",
       "      <td>-0.682927</td>\n",
       "      <td>0.420804</td>\n",
       "      <td>-0.054464</td>\n",
       "      <td>-1.014119</td>\n",
       "      <td>0</td>\n",
       "    </tr>\n",
       "    <tr>\n",
       "      <th>9</th>\n",
       "      <td>-0.669240</td>\n",
       "      <td>-1.065671</td>\n",
       "      <td>0.219068</td>\n",
       "      <td>-0.005898</td>\n",
       "      <td>0.714638</td>\n",
       "      <td>-0.759264</td>\n",
       "      <td>0.878811</td>\n",
       "      <td>1.627952</td>\n",
       "      <td>1.070284</td>\n",
       "      <td>-0.879684</td>\n",
       "      <td>-0.811487</td>\n",
       "      <td>1.496932</td>\n",
       "      <td>0.593315</td>\n",
       "      <td>0.457313</td>\n",
       "      <td>0.420804</td>\n",
       "      <td>-0.591884</td>\n",
       "      <td>0.155435</td>\n",
       "      <td>0</td>\n",
       "    </tr>\n",
       "  </tbody>\n",
       "</table>\n",
       "</div>"
      ],
      "text/plain": [
       "    BALANCE  BALANCE_FREQUENCY  PURCHASES  ONEOFF_PURCHASES  \\\n",
       "0 -0.937132          -1.267216  -0.029433          0.338526   \n",
       "1  1.291880           0.630684  -1.038959         -0.770843   \n",
       "2 -0.465038           0.630684  -1.038959         -0.770843   \n",
       "3 -1.148135          -1.698717   1.370433         -0.659492   \n",
       "4  1.388866           0.630684  -0.912679         -0.576602   \n",
       "5 -0.978519          -1.972925  -0.513848         -0.770843   \n",
       "6 -1.132653           0.630684  -0.284999         -0.770843   \n",
       "7  0.784516           0.630684   1.955706          2.101295   \n",
       "8  0.270674           0.630684  -1.002768         -0.714616   \n",
       "9 -0.669240          -1.065671   0.219068         -0.005898   \n",
       "\n",
       "   INSTALLMENTS_PURCHASES  CASH_ADVANCE  PURCHASES_FREQUENCY  \\\n",
       "0               -0.240386     -0.759264             0.759911   \n",
       "1               -0.875991     -0.442225            -1.277682   \n",
       "2               -0.875991      1.956628            -1.277682   \n",
       "3                1.955042     -0.759264             1.052468   \n",
       "4               -0.875991      1.679374            -1.014267   \n",
       "5                0.153759      0.846675             1.220853   \n",
       "6                0.522080     -0.759264             1.220853   \n",
       "7                1.192952     -0.759264             1.220853   \n",
       "8               -0.875991     -0.759264            -1.014267   \n",
       "9                0.714638     -0.759264             0.878811   \n",
       "\n",
       "   ONEOFF_PURCHASES_FREQUENCY  PURCHASES_INSTALLMENTS_FREQUENCY  \\\n",
       "0                    1.311241                          0.943811   \n",
       "1                   -0.899467                         -1.004129   \n",
       "2                   -0.899467                         -1.004129   \n",
       "3                   -0.084946                          1.183555   \n",
       "4                   -0.084946                         -1.004129   \n",
       "5                   -0.899467                          1.377708   \n",
       "6                   -0.899467                          1.235844   \n",
       "7                    1.672441                          0.458988   \n",
       "8                   -0.084946                         -1.004129   \n",
       "9                    1.627952                          1.070284   \n",
       "\n",
       "   CASH_ADVANCE_FREQUENCY  CASH_ADVANCE_TRX  PURCHASES_TRX  PAYMENTS  \\\n",
       "0               -0.879684         -0.811487       0.511013 -1.202855   \n",
       "1                0.119472         -0.225140      -1.112948 -0.282814   \n",
       "2                1.843015          1.783117      -1.112948  1.755467   \n",
       "3               -0.879684         -0.811487       0.345413  0.663031   \n",
       "4                1.124381          1.300071      -0.952862 -0.204360   \n",
       "5                0.119472          0.236861       0.345413  0.173675   \n",
       "6               -0.879684         -0.811487      -0.042362 -0.973483   \n",
       "7               -0.879684         -0.811487       1.077363  1.435215   \n",
       "8               -0.879684         -0.811487      -0.952862 -0.991293   \n",
       "9               -0.879684         -0.811487       1.496932  0.593315   \n",
       "\n",
       "   PRC_FULL_PAYMENT    TENURE  MINIMUM_PAYMENTS_NEW  CREDIT_LIMIT_NEW  \\\n",
       "0         -0.682927 -2.523257             -0.904943         -0.474651   \n",
       "1         -0.682927  0.420804              1.573059          0.874702   \n",
       "2          1.851019  0.420804             -0.374950         -1.328991   \n",
       "3         -0.682927  0.420804             -1.276909         -0.730514   \n",
       "4         -0.682927  0.420804              1.252173          0.756250   \n",
       "5         -0.682927  0.420804             -0.971059         -1.199044   \n",
       "6          1.770979 -2.538000             -0.908083         -1.328991   \n",
       "7         -0.682927  0.420804              0.122970          0.982936   \n",
       "8         -0.682927  0.420804             -0.054464         -1.014119   \n",
       "9          0.457313  0.420804             -0.591884          0.155435   \n",
       "\n",
       "   clusters  \n",
       "0         1  \n",
       "1         0  \n",
       "2         0  \n",
       "3         0  \n",
       "4         0  \n",
       "5         0  \n",
       "6         1  \n",
       "7         0  \n",
       "8         0  \n",
       "9         0  "
      ]
     },
     "execution_count": 61,
     "metadata": {},
     "output_type": "execute_result"
    }
   ],
   "source": [
    "dbscan_df = pd.DataFrame(train_df,columns = df.columns)\n",
    "dbscan_df['clusters'] = y_dbscan_pred\n",
    "dbscan_df.head(10)"
   ]
  },
  {
   "cell_type": "code",
   "execution_count": 62,
   "id": "371b65d2-2da2-4281-b4ea-a7c816a6f1e5",
   "metadata": {},
   "outputs": [
    {
     "data": {
      "text/html": [
       "<div>\n",
       "<style scoped>\n",
       "    .dataframe tbody tr th:only-of-type {\n",
       "        vertical-align: middle;\n",
       "    }\n",
       "\n",
       "    .dataframe tbody tr th {\n",
       "        vertical-align: top;\n",
       "    }\n",
       "\n",
       "    .dataframe thead th {\n",
       "        text-align: right;\n",
       "    }\n",
       "</style>\n",
       "<table border=\"1\" class=\"dataframe\">\n",
       "  <thead>\n",
       "    <tr style=\"text-align: right;\">\n",
       "      <th></th>\n",
       "      <th>BALANCE</th>\n",
       "      <th>BALANCE_FREQUENCY</th>\n",
       "      <th>PURCHASES</th>\n",
       "      <th>ONEOFF_PURCHASES</th>\n",
       "      <th>INSTALLMENTS_PURCHASES</th>\n",
       "      <th>CASH_ADVANCE</th>\n",
       "      <th>PURCHASES_FREQUENCY</th>\n",
       "      <th>ONEOFF_PURCHASES_FREQUENCY</th>\n",
       "      <th>PURCHASES_INSTALLMENTS_FREQUENCY</th>\n",
       "      <th>CASH_ADVANCE_FREQUENCY</th>\n",
       "      <th>CASH_ADVANCE_TRX</th>\n",
       "      <th>PURCHASES_TRX</th>\n",
       "      <th>PAYMENTS</th>\n",
       "      <th>PRC_FULL_PAYMENT</th>\n",
       "      <th>TENURE</th>\n",
       "      <th>MINIMUM_PAYMENTS_NEW</th>\n",
       "      <th>CREDIT_LIMIT_NEW</th>\n",
       "      <th>clusters</th>\n",
       "    </tr>\n",
       "  </thead>\n",
       "  <tbody>\n",
       "    <tr>\n",
       "      <th>0</th>\n",
       "      <td>-0.937132</td>\n",
       "      <td>-1.267216</td>\n",
       "      <td>-0.029433</td>\n",
       "      <td>0.338526</td>\n",
       "      <td>-0.240386</td>\n",
       "      <td>-0.759264</td>\n",
       "      <td>0.759911</td>\n",
       "      <td>1.311241</td>\n",
       "      <td>0.943811</td>\n",
       "      <td>-0.879684</td>\n",
       "      <td>-0.811487</td>\n",
       "      <td>0.511013</td>\n",
       "      <td>-1.202855</td>\n",
       "      <td>-0.682927</td>\n",
       "      <td>-2.523257</td>\n",
       "      <td>-0.904943</td>\n",
       "      <td>-0.474651</td>\n",
       "      <td>1</td>\n",
       "    </tr>\n",
       "    <tr>\n",
       "      <th>1</th>\n",
       "      <td>1.291880</td>\n",
       "      <td>0.630684</td>\n",
       "      <td>-1.038959</td>\n",
       "      <td>-0.770843</td>\n",
       "      <td>-0.875991</td>\n",
       "      <td>-0.442225</td>\n",
       "      <td>-1.277682</td>\n",
       "      <td>-0.899467</td>\n",
       "      <td>-1.004129</td>\n",
       "      <td>0.119472</td>\n",
       "      <td>-0.225140</td>\n",
       "      <td>-1.112948</td>\n",
       "      <td>-0.282814</td>\n",
       "      <td>-0.682927</td>\n",
       "      <td>0.420804</td>\n",
       "      <td>1.573059</td>\n",
       "      <td>0.874702</td>\n",
       "      <td>0</td>\n",
       "    </tr>\n",
       "    <tr>\n",
       "      <th>2</th>\n",
       "      <td>-0.465038</td>\n",
       "      <td>0.630684</td>\n",
       "      <td>-1.038959</td>\n",
       "      <td>-0.770843</td>\n",
       "      <td>-0.875991</td>\n",
       "      <td>1.956628</td>\n",
       "      <td>-1.277682</td>\n",
       "      <td>-0.899467</td>\n",
       "      <td>-1.004129</td>\n",
       "      <td>1.843015</td>\n",
       "      <td>1.783117</td>\n",
       "      <td>-1.112948</td>\n",
       "      <td>1.755467</td>\n",
       "      <td>1.851019</td>\n",
       "      <td>0.420804</td>\n",
       "      <td>-0.374950</td>\n",
       "      <td>-1.328991</td>\n",
       "      <td>0</td>\n",
       "    </tr>\n",
       "    <tr>\n",
       "      <th>3</th>\n",
       "      <td>-1.148135</td>\n",
       "      <td>-1.698717</td>\n",
       "      <td>1.370433</td>\n",
       "      <td>-0.659492</td>\n",
       "      <td>1.955042</td>\n",
       "      <td>-0.759264</td>\n",
       "      <td>1.052468</td>\n",
       "      <td>-0.084946</td>\n",
       "      <td>1.183555</td>\n",
       "      <td>-0.879684</td>\n",
       "      <td>-0.811487</td>\n",
       "      <td>0.345413</td>\n",
       "      <td>0.663031</td>\n",
       "      <td>-0.682927</td>\n",
       "      <td>0.420804</td>\n",
       "      <td>-1.276909</td>\n",
       "      <td>-0.730514</td>\n",
       "      <td>0</td>\n",
       "    </tr>\n",
       "    <tr>\n",
       "      <th>4</th>\n",
       "      <td>1.388866</td>\n",
       "      <td>0.630684</td>\n",
       "      <td>-0.912679</td>\n",
       "      <td>-0.576602</td>\n",
       "      <td>-0.875991</td>\n",
       "      <td>1.679374</td>\n",
       "      <td>-1.014267</td>\n",
       "      <td>-0.084946</td>\n",
       "      <td>-1.004129</td>\n",
       "      <td>1.124381</td>\n",
       "      <td>1.300071</td>\n",
       "      <td>-0.952862</td>\n",
       "      <td>-0.204360</td>\n",
       "      <td>-0.682927</td>\n",
       "      <td>0.420804</td>\n",
       "      <td>1.252173</td>\n",
       "      <td>0.756250</td>\n",
       "      <td>0</td>\n",
       "    </tr>\n",
       "    <tr>\n",
       "      <th>5</th>\n",
       "      <td>-0.978519</td>\n",
       "      <td>-1.972925</td>\n",
       "      <td>-0.513848</td>\n",
       "      <td>-0.770843</td>\n",
       "      <td>0.153759</td>\n",
       "      <td>0.846675</td>\n",
       "      <td>1.220853</td>\n",
       "      <td>-0.899467</td>\n",
       "      <td>1.377708</td>\n",
       "      <td>0.119472</td>\n",
       "      <td>0.236861</td>\n",
       "      <td>0.345413</td>\n",
       "      <td>0.173675</td>\n",
       "      <td>-0.682927</td>\n",
       "      <td>0.420804</td>\n",
       "      <td>-0.971059</td>\n",
       "      <td>-1.199044</td>\n",
       "      <td>0</td>\n",
       "    </tr>\n",
       "    <tr>\n",
       "      <th>6</th>\n",
       "      <td>-1.132653</td>\n",
       "      <td>0.630684</td>\n",
       "      <td>-0.284999</td>\n",
       "      <td>-0.770843</td>\n",
       "      <td>0.522080</td>\n",
       "      <td>-0.759264</td>\n",
       "      <td>1.220853</td>\n",
       "      <td>-0.899467</td>\n",
       "      <td>1.235844</td>\n",
       "      <td>-0.879684</td>\n",
       "      <td>-0.811487</td>\n",
       "      <td>-0.042362</td>\n",
       "      <td>-0.973483</td>\n",
       "      <td>1.770979</td>\n",
       "      <td>-2.538000</td>\n",
       "      <td>-0.908083</td>\n",
       "      <td>-1.328991</td>\n",
       "      <td>1</td>\n",
       "    </tr>\n",
       "    <tr>\n",
       "      <th>7</th>\n",
       "      <td>0.784516</td>\n",
       "      <td>0.630684</td>\n",
       "      <td>1.955706</td>\n",
       "      <td>2.101295</td>\n",
       "      <td>1.192952</td>\n",
       "      <td>-0.759264</td>\n",
       "      <td>1.220853</td>\n",
       "      <td>1.672441</td>\n",
       "      <td>0.458988</td>\n",
       "      <td>-0.879684</td>\n",
       "      <td>-0.811487</td>\n",
       "      <td>1.077363</td>\n",
       "      <td>1.435215</td>\n",
       "      <td>-0.682927</td>\n",
       "      <td>0.420804</td>\n",
       "      <td>0.122970</td>\n",
       "      <td>0.982936</td>\n",
       "      <td>0</td>\n",
       "    </tr>\n",
       "    <tr>\n",
       "      <th>8</th>\n",
       "      <td>0.270674</td>\n",
       "      <td>0.630684</td>\n",
       "      <td>-1.002768</td>\n",
       "      <td>-0.714616</td>\n",
       "      <td>-0.875991</td>\n",
       "      <td>-0.759264</td>\n",
       "      <td>-1.014267</td>\n",
       "      <td>-0.084946</td>\n",
       "      <td>-1.004129</td>\n",
       "      <td>-0.879684</td>\n",
       "      <td>-0.811487</td>\n",
       "      <td>-0.952862</td>\n",
       "      <td>-0.991293</td>\n",
       "      <td>-0.682927</td>\n",
       "      <td>0.420804</td>\n",
       "      <td>-0.054464</td>\n",
       "      <td>-1.014119</td>\n",
       "      <td>0</td>\n",
       "    </tr>\n",
       "    <tr>\n",
       "      <th>9</th>\n",
       "      <td>-0.669240</td>\n",
       "      <td>-1.065671</td>\n",
       "      <td>0.219068</td>\n",
       "      <td>-0.005898</td>\n",
       "      <td>0.714638</td>\n",
       "      <td>-0.759264</td>\n",
       "      <td>0.878811</td>\n",
       "      <td>1.627952</td>\n",
       "      <td>1.070284</td>\n",
       "      <td>-0.879684</td>\n",
       "      <td>-0.811487</td>\n",
       "      <td>1.496932</td>\n",
       "      <td>0.593315</td>\n",
       "      <td>0.457313</td>\n",
       "      <td>0.420804</td>\n",
       "      <td>-0.591884</td>\n",
       "      <td>0.155435</td>\n",
       "      <td>0</td>\n",
       "    </tr>\n",
       "  </tbody>\n",
       "</table>\n",
       "</div>"
      ],
      "text/plain": [
       "    BALANCE  BALANCE_FREQUENCY  PURCHASES  ONEOFF_PURCHASES  \\\n",
       "0 -0.937132          -1.267216  -0.029433          0.338526   \n",
       "1  1.291880           0.630684  -1.038959         -0.770843   \n",
       "2 -0.465038           0.630684  -1.038959         -0.770843   \n",
       "3 -1.148135          -1.698717   1.370433         -0.659492   \n",
       "4  1.388866           0.630684  -0.912679         -0.576602   \n",
       "5 -0.978519          -1.972925  -0.513848         -0.770843   \n",
       "6 -1.132653           0.630684  -0.284999         -0.770843   \n",
       "7  0.784516           0.630684   1.955706          2.101295   \n",
       "8  0.270674           0.630684  -1.002768         -0.714616   \n",
       "9 -0.669240          -1.065671   0.219068         -0.005898   \n",
       "\n",
       "   INSTALLMENTS_PURCHASES  CASH_ADVANCE  PURCHASES_FREQUENCY  \\\n",
       "0               -0.240386     -0.759264             0.759911   \n",
       "1               -0.875991     -0.442225            -1.277682   \n",
       "2               -0.875991      1.956628            -1.277682   \n",
       "3                1.955042     -0.759264             1.052468   \n",
       "4               -0.875991      1.679374            -1.014267   \n",
       "5                0.153759      0.846675             1.220853   \n",
       "6                0.522080     -0.759264             1.220853   \n",
       "7                1.192952     -0.759264             1.220853   \n",
       "8               -0.875991     -0.759264            -1.014267   \n",
       "9                0.714638     -0.759264             0.878811   \n",
       "\n",
       "   ONEOFF_PURCHASES_FREQUENCY  PURCHASES_INSTALLMENTS_FREQUENCY  \\\n",
       "0                    1.311241                          0.943811   \n",
       "1                   -0.899467                         -1.004129   \n",
       "2                   -0.899467                         -1.004129   \n",
       "3                   -0.084946                          1.183555   \n",
       "4                   -0.084946                         -1.004129   \n",
       "5                   -0.899467                          1.377708   \n",
       "6                   -0.899467                          1.235844   \n",
       "7                    1.672441                          0.458988   \n",
       "8                   -0.084946                         -1.004129   \n",
       "9                    1.627952                          1.070284   \n",
       "\n",
       "   CASH_ADVANCE_FREQUENCY  CASH_ADVANCE_TRX  PURCHASES_TRX  PAYMENTS  \\\n",
       "0               -0.879684         -0.811487       0.511013 -1.202855   \n",
       "1                0.119472         -0.225140      -1.112948 -0.282814   \n",
       "2                1.843015          1.783117      -1.112948  1.755467   \n",
       "3               -0.879684         -0.811487       0.345413  0.663031   \n",
       "4                1.124381          1.300071      -0.952862 -0.204360   \n",
       "5                0.119472          0.236861       0.345413  0.173675   \n",
       "6               -0.879684         -0.811487      -0.042362 -0.973483   \n",
       "7               -0.879684         -0.811487       1.077363  1.435215   \n",
       "8               -0.879684         -0.811487      -0.952862 -0.991293   \n",
       "9               -0.879684         -0.811487       1.496932  0.593315   \n",
       "\n",
       "   PRC_FULL_PAYMENT    TENURE  MINIMUM_PAYMENTS_NEW  CREDIT_LIMIT_NEW  \\\n",
       "0         -0.682927 -2.523257             -0.904943         -0.474651   \n",
       "1         -0.682927  0.420804              1.573059          0.874702   \n",
       "2          1.851019  0.420804             -0.374950         -1.328991   \n",
       "3         -0.682927  0.420804             -1.276909         -0.730514   \n",
       "4         -0.682927  0.420804              1.252173          0.756250   \n",
       "5         -0.682927  0.420804             -0.971059         -1.199044   \n",
       "6          1.770979 -2.538000             -0.908083         -1.328991   \n",
       "7         -0.682927  0.420804              0.122970          0.982936   \n",
       "8         -0.682927  0.420804             -0.054464         -1.014119   \n",
       "9          0.457313  0.420804             -0.591884          0.155435   \n",
       "\n",
       "   clusters  \n",
       "0         1  \n",
       "1         0  \n",
       "2         0  \n",
       "3         0  \n",
       "4         0  \n",
       "5         0  \n",
       "6         1  \n",
       "7         0  \n",
       "8         0  \n",
       "9         0  "
      ]
     },
     "execution_count": 62,
     "metadata": {},
     "output_type": "execute_result"
    }
   ],
   "source": [
    "dbscan_df = pd.DataFrame(train_df,columns = df.columns)\n",
    "dbscan_df['clusters'] = y_dbscan_pred\n",
    "dbscan_df.head(10)"
   ]
  },
  {
   "cell_type": "code",
   "execution_count": 63,
   "id": "907384a9-2e2d-462f-971f-9e161f916e08",
   "metadata": {},
   "outputs": [
    {
     "data": {
      "text/plain": [
       " 0    5904\n",
       " 1     876\n",
       "-1     361\n",
       " 2       8\n",
       " 4       6\n",
       " 3       5\n",
       "Name: clusters, dtype: int64"
      ]
     },
     "execution_count": 63,
     "metadata": {},
     "output_type": "execute_result"
    }
   ],
   "source": [
    "dbscan_df['clusters'].value_counts()"
   ]
  },
  {
   "cell_type": "markdown",
   "id": "fdb6f30e-2b1d-4215-a354-f9e6c8b0ff43",
   "metadata": {
    "jp-MarkdownHeadingCollapsed": true,
    "tags": []
   },
   "source": [
    "# Local Outlier Factor (LOF)"
   ]
  },
  {
   "cell_type": "markdown",
   "id": "97f170f4-d099-49e2-a43d-d0bda5df9b40",
   "metadata": {},
   "source": [
    "**El factor atípico local (LOF) mide la \"desviación local de la densidad\" de cada observación con respecto a sus vecinos. El LOF mide en qué medida la densidad de un punto de datos difiere de la densidad de sus k vecinos más cercanos mediante una relación entre la densidad local media de los k vecinos más cercanos y la densidad local del punto de datos. La densidad local de un punto de datos es simplemente la proximidad (o lejanía) media de sus k vecinos más próximos. La densidad local de cada punto de datos es diferente para cada punto, suponiendo una distribución no uniforme.**\n",
    "\n",
    "**Una de las ventajas de LOF es que tiene en cuenta tanto las propiedades locales como las globales de un conjunto de datos. Los valores atípicos no se identifican en términos absolutos, sino en relación con su vecindario local. Funciona bien cuando hay distintos conglomerados de densidades diferentes en un conjunto de datos.\n",
    "LOF es adecuado para conjuntos de datos de dimensiones moderadamente altas.**\n"
   ]
  },
  {
   "cell_type": "markdown",
   "id": "ca696e57-380b-4b9b-a952-c5eeb2909d54",
   "metadata": {
    "tags": []
   },
   "source": [
    "### Ejemplos gráficos"
   ]
  },
  {
   "cell_type": "markdown",
   "id": "4922dbc9-d5a8-4e64-a9c1-42e4dfbc1336",
   "metadata": {},
   "source": [
    "<img src=\"lof1.webp\">"
   ]
  },
  {
   "cell_type": "markdown",
   "id": "5b708c73-6485-4c3f-b45f-8946f4fd7c9d",
   "metadata": {},
   "source": [
    "**En el gráfico anterior, el conglomerado C1 contiene 400 puntos y el conglomerado C2 contiene 100 puntos. El conglomerado C2 es mucho más denso que el C1. Los puntos o1 y o2 son valores atípicos \"locales\". El punto o1 está bastante aislado del resto de puntos y es un valor atípico \"obvio\". El punto o2 también es un valor atípico local, porque aunque la distancia entre o2 y sus vecinos más cercanos es similar a las distancias entre los puntos del cluster C1, esta distancia es mucho mayor que las distancias entre los puntos del cercano cluster C2.**"
   ]
  },
  {
   "cell_type": "markdown",
   "id": "59dd3b7c-93cc-4533-b70d-7fefe565f608",
   "metadata": {},
   "source": [
    "<img src=\"lof2.webp\">"
   ]
  },
  {
   "cell_type": "markdown",
   "id": "bf1761f1-a5f2-4d3c-8e57-19818b63af39",
   "metadata": {},
   "source": [
    "**En el ejemplo anterior, los puntos de datos se representan como puntos negros. El tamaño del círculo rojo alrededor de cada punto indica la puntuación del valor atípico: un círculo más grande indica una puntuación más alta. El gráfico muestra que los puntos de datos que están más próximos entre sí tienen puntuaciones más bajas. Los puntos más alejados de sus vecinos tienen puntuaciones más altas.**"
   ]
  },
  {
   "cell_type": "markdown",
   "id": "17d7d912-2b70-44fa-8412-2059e92116b3",
   "metadata": {
    "tags": []
   },
   "source": [
    "### En términos matemáticos "
   ]
  },
  {
   "cell_type": "raw",
   "id": "675d1b2a-ccfd-4667-85a4-c92416542e7f",
   "metadata": {},
   "source": [
    "LOF(X)=[(LRD(1er vecino) + LRD(2º vecino ) + .................+ LRD(k-ésimo vecino))/LRD(X)]/k\n",
    "donde LRD es Distancia de Alcanzabilidad Local y se calcula de la siguiente manera.\n",
    "\n",
    "LRD(X) = 1/(suma de distancias de alcance (X, n))/k)\n",
    "donde n son los vecinos hasta k"
   ]
  },
  {
   "cell_type": "markdown",
   "id": "963a19ba-5e76-448a-b26b-174e714bf59a",
   "metadata": {},
   "source": [
    "**Como vemos el algoritmo tiene cuatro componentes diferentes que es muy importante entender.**\n",
    "\n",
    "* Hiperparámetro k: determina el número de vecinos\n",
    "* Reachability distance (RD):La distancia k se utiliza ahora para calcular la distancia de alcance. Esta medida de distancia es simplemente el máximo de la distancia de dos puntos y la distancia k del segundo punto. Básicamente, si el punto a está dentro de los k vecinos del punto b, la distancia-alcance(a,b) será la distancia-k de b. En caso contrario, será la distancia real de a y b. Se trata sólo de un \"factor de suavizado\". Para simplificar, consideremos que es la distancia habitual entre dos puntos. (Las métricas de distancias que podemos utilizar son las siguientes Euclidiana, Minkowski, Manhattan)\n",
    "* Local reachability distance: La LRD es la inversa de la distancia de alcance media de O respecto a sus vecinos. Los valores bajos de LRD implican que el cuerpo de datos más cercano está lejos del punto O. La LRD de un punto se utiliza para compararla con la LRD media de sus K vecinos.\n",
    "* Local Outlier Factor: El LOF de un punto indica la densidad de este punto en comparación con la densidad de sus vecinos. Si la densidad de un punto es mucho menor que las densidades de sus vecinos (LOF ≫1), el punto está lejos de las zonas densas y, por tanto, es un valor atípico."
   ]
  },
  {
   "cell_type": "markdown",
   "id": "65c02378-2955-40aa-a925-9da0175eb93b",
   "metadata": {
    "tags": []
   },
   "source": [
    "### Aplicación práctica del algoritmo"
   ]
  },
  {
   "cell_type": "code",
   "execution_count": 3,
   "id": "d93ff28d-e2e3-4f5f-925c-5a96b5b8001f",
   "metadata": {},
   "outputs": [
    {
     "data": {
      "text/html": [
       "<div>\n",
       "<style scoped>\n",
       "    .dataframe tbody tr th:only-of-type {\n",
       "        vertical-align: middle;\n",
       "    }\n",
       "\n",
       "    .dataframe tbody tr th {\n",
       "        vertical-align: top;\n",
       "    }\n",
       "\n",
       "    .dataframe thead th {\n",
       "        text-align: right;\n",
       "    }\n",
       "</style>\n",
       "<table border=\"1\" class=\"dataframe\">\n",
       "  <thead>\n",
       "    <tr style=\"text-align: right;\">\n",
       "      <th></th>\n",
       "      <th>0</th>\n",
       "      <th>1</th>\n",
       "      <th>2</th>\n",
       "      <th>3</th>\n",
       "      <th>4</th>\n",
       "      <th>5</th>\n",
       "    </tr>\n",
       "  </thead>\n",
       "  <tbody>\n",
       "    <tr>\n",
       "      <th>0</th>\n",
       "      <td>2.396090</td>\n",
       "      <td>2.092611</td>\n",
       "      <td>2.073392</td>\n",
       "      <td>1.988262</td>\n",
       "      <td>1.953473</td>\n",
       "      <td>2.450997</td>\n",
       "    </tr>\n",
       "    <tr>\n",
       "      <th>1</th>\n",
       "      <td>1.631040</td>\n",
       "      <td>1.746182</td>\n",
       "      <td>1.898050</td>\n",
       "      <td>2.380148</td>\n",
       "      <td>1.967332</td>\n",
       "      <td>1.858916</td>\n",
       "    </tr>\n",
       "    <tr>\n",
       "      <th>2</th>\n",
       "      <td>1.824683</td>\n",
       "      <td>2.131412</td>\n",
       "      <td>2.028829</td>\n",
       "      <td>1.703454</td>\n",
       "      <td>2.502966</td>\n",
       "      <td>2.119108</td>\n",
       "    </tr>\n",
       "    <tr>\n",
       "      <th>3</th>\n",
       "      <td>2.106098</td>\n",
       "      <td>2.165173</td>\n",
       "      <td>2.340826</td>\n",
       "      <td>2.170109</td>\n",
       "      <td>1.749139</td>\n",
       "      <td>1.678661</td>\n",
       "    </tr>\n",
       "    <tr>\n",
       "      <th>4</th>\n",
       "      <td>1.829647</td>\n",
       "      <td>1.775596</td>\n",
       "      <td>1.829438</td>\n",
       "      <td>2.054768</td>\n",
       "      <td>1.577190</td>\n",
       "      <td>1.594549</td>\n",
       "    </tr>\n",
       "  </tbody>\n",
       "</table>\n",
       "</div>"
      ],
      "text/plain": [
       "          0         1         2         3         4         5\n",
       "0  2.396090  2.092611  2.073392  1.988262  1.953473  2.450997\n",
       "1  1.631040  1.746182  1.898050  2.380148  1.967332  1.858916\n",
       "2  1.824683  2.131412  2.028829  1.703454  2.502966  2.119108\n",
       "3  2.106098  2.165173  2.340826  2.170109  1.749139  1.678661\n",
       "4  1.829647  1.775596  1.829438  2.054768  1.577190  1.594549"
      ]
     },
     "execution_count": 3,
     "metadata": {},
     "output_type": "execute_result"
    }
   ],
   "source": [
    "import numpy as np\n",
    "import pandas as pd\n",
    "import matplotlib.pyplot as plt\n",
    "from pyod.utils.data import generate_data\n",
    "contamination = 0.05 # poecentaje de outliers\n",
    "n_train = 500       # numero de puntos de entrenamiento\n",
    "n_test = 500        # numero de puntos de testeo\n",
    "n_features = 6      # numero de caracteristicas\n",
    "X_train, X_test, y_train, y_test = generate_data(\n",
    "    n_train=n_train, \n",
    "    n_test=n_test, \n",
    "    n_features= n_features, \n",
    "    contamination=contamination, \n",
    "    random_state=123)\n",
    "\n",
    "X_train_pd = pd.DataFrame(X_train)\n",
    "X_train_pd.head()"
   ]
  },
  {
   "cell_type": "code",
   "execution_count": 14,
   "id": "6d5d2d91-2b72-47d9-93a5-739823d61fa1",
   "metadata": {},
   "outputs": [
    {
     "data": {
      "image/png": "[encoded data removed]",
      "text/plain": [
       "<Figure size 432x288 with 1 Axes>"
      ]
     },
     "metadata": {
      "needs_background": "light"
     },
     "output_type": "display_data"
    }
   ],
   "source": [
    "sns.scatterplot(X_train_pd[0], X_train_pd[1], c=y_train, alpha=0.8)\n",
    "plt.title('Scatter plot')\n",
    "plt.show()"
   ]
  },
  {
   "cell_type": "code",
   "execution_count": 28,
   "id": "fab9a3d7-4bbd-40ae-8b48-c9f0ad10b8ee",
   "metadata": {},
   "outputs": [
    {
     "data": {
      "application/vnd.plotly.v1+json": {
       "config": {
        "plotlyServerURL": "https://plot.ly"
       },
       "data": [
        {
         "hovertemplate": "x=%{x}<br>y=%{y}<extra></extra>",
         "legendgroup": "",
         "marker": {
          "color": "#636efa",
          "symbol": "circle"
         },
         "mode": "markers",
         "name": "",
         "orientation": "v",
         "showlegend": false,
         "type": "scatter",
         "x": [
          2.3960901616860513,
          1.631040126424769,
          1.8246834650941115,
          2.106097834452592,
          1.8296465607177577,
          1.3733574040923984,
          1.9214728899908327,
          2.0030847780987435,
          1.5369392040565109,
          2.4728964307193757,
          2.0284904678131555,
          2.0652913045371237,
          1.7543443686574995,
          1.9037872961406324,
          2.116559708132555,
          2.0409767792058626,
          2.2139500612757446,
          1.7609586237401325,
          1.9696152491101966,
          2.3045775230403036,
          1.9695300810325131,
          2.0962663334681797,
          2.0139972086171323,
          2.2431896885880196,
          1.5649590686889785,
          1.8771778700387083,
          1.9345711071553773,
          1.9681615850926906,
          1.8152383149972642,
          1.9578217611206687,
          1.793310508785864,
          1.9049070982185152,
          1.9232924262993971,
          1.9522952192261118,
          2.0692913614423656,
          2.2518656907469805,
          1.7093123084469024,
          1.8561068484620458,
          1.6830578280296316,
          2.206865794977436,
          1.9223142913418965,
          1.9260823929112134,
          1.7103099876227845,
          2.0180085971230395,
          1.605082930734762,
          1.874429249347551,
          1.9409680475915934,
          2.173894943101776,
          1.8901764502206153,
          2.214473263574142,
          2.091264648649228,
          1.6670290113412007,
          2.3422321190884974,
          2.1659165989692415,
          2.1071006937685266,
          1.6789147938296238,
          2.13499773786438,
          1.6535884714777018,
          2.006656418573735,
          2.396674398709382,
          1.8461661114394152,
          2.2146425607970146,
          2.103178386725149,
          2.088731867154089,
          1.6857781224598298,
          1.9487193491925254,
          1.9021947678785747,
          1.9644895461926664,
          1.3707891294544658,
          1.7628555305977427,
          2.5359952592969117,
          2.2128462375971902,
          2.039182170276277,
          1.7348006147578552,
          2.1184712694165535,
          2.009591460515979,
          1.477140604279164,
          1.8781403284560125,
          1.7360897872000034,
          2.0131070153240826,
          2.3325380132769284,
          2.0162689353544776,
          1.9796433654754804,
          2.06874692314124,
          2.0590603421348725,
          1.9689073505478973,
          1.746251786902298,
          1.9707220372358087,
          2.27438974530769,
          2.016994748276552,
          1.5288442993051552,
          2.269039954689716,
          1.7949880511337584,
          1.9693209927573938,
          2.0224216112985385,
          2.342381643716935,
          2.0109712188481237,
          1.7676915149821188,
          2.171925646379043,
          2.3562957692881232,
          2.2149629484763538,
          1.7061614216430128,
          1.9434055267010966,
          1.9951974121721345,
          2.0615148968878296,
          1.9661052537625936,
          2.1458796297148472,
          1.7384575194323542,
          1.615734522600837,
          1.6531321450424474,
          2.08476650411178,
          1.9449990578178764,
          1.8151422508613133,
          2.072264292117196,
          2.125578996062544,
          2.0860886580410436,
          1.8699744408990977,
          2.1870021955662526,
          2.094058260937237,
          1.5470241427350884,
          1.8329851703869366,
          1.9063423850861398,
          2.1460102083124966,
          2.0068070884094076,
          1.670536011246293,
          1.9260249854195242,
          1.6999506378930227,
          1.8468376169498002,
          1.6982826699663962,
          1.9657339345348146,
          1.6932408070450842,
          1.8798187089262481,
          2.2323707469923795,
          2.0137866907930166,
          1.890940870930612,
          1.9898837401055838,
          1.7593300959775267,
          2.365294768900055,
          1.9211702402115767,
          2.4185709549652255,
          2.245714622784716,
          2.2957227625847,
          1.891775523840311,
          1.9807881971358043,
          1.999521166442452,
          1.8465834710711664,
          1.8184239970069533,
          2.0217093234723214,
          2.0888428960028835,
          1.906675493436692,
          1.7813404223310005,
          2.1287177603195504,
          2.0886816621124304,
          1.9458581649878393,
          1.9775104150933127,
          2.4148752837456646,
          2.247634407194776,
          2.121907305511045,
          2.1778867142139617,
          1.835002399610986,
          1.5577878292331637,
          2.1062967085786695,
          2.1454052526845646,
          2.0575464427122423,
          1.9279670751848084,
          1.6502706542593912,
          1.652612316720564,
          2.0881810896997828,
          2.175400100549391,
          2.247493782448065,
          2.3052563886569457,
          1.9776125626683598,
          2.2542900040609943,
          1.9827845258488062,
          2.1202295662134554,
          1.8709460599336596,
          2.0535364272040244,
          2.094631627162991,
          1.8287468255161026,
          1.9559933147879647,
          2.096831566995236,
          2.15803523491407,
          1.9087796958563559,
          2.1676637876743876,
          1.732994252085836,
          2.121390509297893,
          1.7050661603661905,
          1.5692080769319152,
          2.3391681172380863,
          2.0649179755505602,
          1.8918625704539143,
          1.9215975099736793,
          1.8798080613497048,
          2.4316389501778533,
          1.8680443163651315,
          2.1071927662059644,
          2.1864029984227455,
          1.8112072737270986,
          1.8539454679996172,
          2.425383889067149,
          2.266282830708164,
          1.8688168067742565,
          1.8355940619449869,
          1.9778739809154,
          1.9081533000485944,
          1.7764546133434012,
          1.8593801400831633,
          1.911558665700152,
          2.2186875573200253,
          1.880398808529164,
          1.9315602384035069,
          2.1827242412393075,
          2.1661594521641794,
          2.293793372401649,
          1.7738260425931875,
          1.5638681790840037,
          2.525204082358242,
          1.4356777109170378,
          1.9443591074751558,
          1.7507040474557687,
          1.8761319133630645,
          2.247808337409548,
          1.8812584281498497,
          1.9965039307460473,
          2.0657982825954653,
          1.9907422933729373,
          1.693068631256844,
          1.8186584533857615,
          1.7674305788734543,
          1.7510567265315635,
          1.6977197248278462,
          2.174015936646204,
          1.9548013898794607,
          2.391950000891514,
          2.2249625980871945,
          1.9780112883417673,
          1.8778224867214792,
          1.9084512405114824,
          2.031949288199635,
          2.087591007211812,
          1.8107073615083085,
          1.7844471250188805,
          1.8282267420067346,
          1.9572083611372264,
          1.545186504418356,
          1.9920267048002342,
          2.1430445734178276,
          2.375760185898791,
          1.8604837241588714,
          1.995606537517315,
          1.6256366505296984,
          1.8404934609553534,
          2.2401104564766237,
          1.863982929646683,
          2.238206604822833,
          2.1406209559558604,
          1.9004546899082677,
          2.0211953666160483,
          2.454821825729279,
          1.7980622083956335,
          2.050538700483694,
          1.6706560392093865,
          1.93643616801475,
          2.0675549671711084,
          2.1811610975795217,
          1.835478540565316,
          2.257380980189441,
          2.0640372322326215,
          1.9779515155251348,
          2.2894749979717206,
          2.108072468774771,
          1.9293635083059064,
          2.128998824671892,
          2.4082430202990914,
          1.6032684679748255,
          2.2130854419179236,
          1.6949688651607298,
          1.9853653112942469,
          1.9112231650924616,
          1.9427080532110315,
          2.162102532665172,
          1.6593482867812965,
          2.0094975572949463,
          2.4567961333399895,
          1.8756806935434498,
          1.7660632970863068,
          2.1632463648787725,
          1.5112824660444124,
          1.9670355422028079,
          1.7754599127522954,
          2.123082020867462,
          1.8412900893199795,
          1.997412819497051,
          1.9586939257172244,
          2.249282288805589,
          1.9768173386284706,
          2.0484156828241313,
          1.450322043783568,
          2.23253185382893,
          2.183322455883236,
          1.9667366571541103,
          1.9168889272736003,
          2.217238946223537,
          2.02411400526925,
          2.5677008147851828,
          2.7925693704541894,
          1.9023979093737475,
          2.254812600745315,
          1.9293375487963775,
          1.9642587397918956,
          1.6857263993110156,
          2.1047823971425172,
          2.13606081613223,
          2.054142825993055,
          2.1875387903758936,
          2.180624650198337,
          1.8963690605161143,
          2.097967121563664,
          1.848878425381871,
          2.4754807132572,
          1.8619092860315603,
          2.091790177169477,
          2.157030893279333,
          1.7321976629063072,
          2.16402388235293,
          2.1973624274621644,
          1.958431976796999,
          1.9800437363540362,
          2.4156951596045855,
          2.4269111402357106,
          1.9061631196606432,
          2.031107399829514,
          1.9001743232862378,
          1.9650898724875148,
          2.329369479892919,
          2.031064173203834,
          2.0238760000954543,
          1.6148661926756231,
          1.8523632667804701,
          1.6760214864321912,
          2.177962066054107,
          1.9829494348283927,
          2.5274548563287587,
          1.714200652199065,
          1.812243537183697,
          2.265066587988973,
          2.0803522187531973,
          1.8786247126647395,
          1.4195620096670623,
          2.3148895016426216,
          1.863963877576058,
          1.983926104169744,
          2.06712330989011,
          1.6482270280633977,
          2.123726390396545,
          2.0781076350020964,
          2.0390493265461407,
          2.173925427143034,
          1.8347405869132938,
          2.2072428755148357,
          1.9838052943496158,
          2.1740746055051243,
          2.0281126542707186,
          2.161800115568274,
          2.3793889867649147,
          2.1909610736054383,
          2.4845710323271657,
          1.9905260254775372,
          1.6815786059249471,
          1.9710321314864538,
          2.055318823473602,
          2.0798510789502918,
          1.6733490294235362,
          1.9872061912440626,
          2.224331532767318,
          1.8035271728692701,
          2.0952288699332624,
          2.018814608985732,
          2.215439138661715,
          1.907908995301319,
          1.9270508716817354,
          1.6348271809396566,
          1.9281742970118705,
          2.1089682036202055,
          1.7045199073344206,
          1.4638918435393429,
          2.0738344334960224,
          1.98585415160488,
          1.9234048824061587,
          1.8618815723344144,
          1.9994474994579527,
          1.7292302383238478,
          1.9724000465260463,
          2.2670701184098987,
          1.4190982581083313,
          1.8758763954279982,
          2.192230212444056,
          2.167040940410456,
          2.1848291818537,
          2.2702898511056726,
          1.963003532437456,
          2.0948715000980624,
          1.9221437026920425,
          1.9894797097450605,
          2.1827366056278397,
          1.9452304646778926,
          2.127726525361828,
          1.9629075506370801,
          1.8213196724917062,
          2.2093041282429393,
          1.597940173375585,
          1.8426283499921037,
          2.3591802042411496,
          2.1607322428292703,
          1.8092487159276394,
          2.7934249742275856,
          1.835249097039193,
          2.2435665587561635,
          1.9869254687926394,
          2.0613988816338242,
          2.1111703701358167,
          2.1681715828821058,
          2.3730761122103177,
          2.0507280523088975,
          2.2214902258240437,
          2.2631890345305603,
          2.084137472048797,
          2.0873303537667676,
          2.37897641741642,
          2.093916700262428,
          2.5612030127169625,
          2.172692412501844,
          2.2719013940023114,
          2.4101468989964183,
          2.2903629361518507,
          2.0723730039745174,
          1.8642942245423224,
          1.8890586442864281,
          2.1421023470456757,
          2.0194337866212475,
          1.8811284479704051,
          1.9529270002946555,
          1.9440185495776408,
          2.039482869790361,
          1.6458500233756124,
          1.9163192872022545,
          2.544152609415339,
          2.0163626733288806,
          2.266715545513463,
          2.0804513599236616,
          1.8976600221246915,
          1.4222789728399738,
          2.079103202394285,
          1.7347345591914354,
          2.1703178881789382,
          2.219620282392067,
          2.2689315835230572,
          1.8076418079379253,
          2.095691201574401,
          2.194497984721294,
          2.2342274692749466,
          2.2713693198029774,
          2.013840812144555,
          1.912105862934522,
          1.804650392259077,
          2.0137257593393856,
          1.9302135326694208,
          2.6060131715404538,
          2.185730945398811,
          1.9347346505689627,
          1.997786643884871,
          2.0076009245508475,
          2.0580643346075678,
          1.9507980066958217,
          2.1312596698052273,
          1.567085887839077,
          0.6342893248972299,
          0.08159994596274744,
          1.2511877524884638,
          1.4509751406499398,
          0.6047045464947365,
          1.2053601319329559,
          1.5021805121283878,
          0.8543155365465744,
          1.4582488967748701,
          -0.10133217171053,
          -1.9950084739682206,
          0.09019786332283797,
          -0.6214293945137661,
          -0.38510834011962514,
          1.2779327194758752,
          1.0222611184200763,
          1.262851106710769,
          0.754286637573736,
          -1.7281518508721279,
          0.9396800949638147,
          -0.04998955363413149,
          1.4558632311694848,
          -0.6099122277092959,
          -0.5833868685358854
         ],
         "xaxis": "x",
         "y": [
          2.0926111568427372,
          1.7461815883775464,
          2.1314124193239348,
          2.1651729878253363,
          1.7755964844486252,
          1.946646861406112,
          1.8348003383867642,
          2.0768711842258,
          2.132725361136016,
          2.0291097753937875,
          1.9549649506798557,
          2.197710761470962,
          2.265033287582408,
          2.230521972633941,
          2.3284343126468983,
          1.5113807888671031,
          2.099757802915983,
          1.894086810612947,
          2.001315626268095,
          2.063857712177945,
          1.8211276650170276,
          1.9542652266110512,
          1.9697234676167303,
          1.7152115266522543,
          1.5798404556283594,
          2.2373345354537975,
          1.7648800888268479,
          2.3099503324669683,
          2.3324673521960797,
          2.3811576696870436,
          2.0383736463044797,
          2.3098983814049965,
          1.7096220309812011,
          1.9262840006546946,
          1.9978587259710379,
          1.866729969510822,
          1.9158207685584545,
          1.6983381219453282,
          2.194776960778608,
          1.675959722219846,
          2.201103122222762,
          2.203251425963475,
          2.231103161711676,
          2.1440605307868608,
          1.7114922350545791,
          2.2381924739087165,
          2.1592940697187366,
          1.9213488516760449,
          1.926813219013709,
          1.548892576468974,
          2.369349802938604,
          2.100537931252708,
          1.9571056147835875,
          2.2403456903783003,
          1.9630745629640571,
          1.910267106442904,
          1.938830240605371,
          2.3108386906120524,
          2.2572540032194093,
          1.7676278508226955,
          1.653178536272793,
          1.925400721835605,
          2.037648083707699,
          2.209310222327836,
          2.1355474319104184,
          1.966254904933332,
          1.588689905553438,
          2.1762873799625804,
          1.9702693833102642,
          1.7089242768364898,
          1.8983594309677945,
          1.8355276695786173,
          1.8927725994382507,
          2.1797427110885796,
          2.2757367783805433,
          1.7003499019286532,
          2.1559404619391533,
          2.005429909167067,
          1.77759694975211,
          2.0302153237001237,
          2.018306647290407,
          1.7607195845737307,
          2.240086401667243,
          1.8364726394707893,
          2.3704431023290233,
          1.6996513375645819,
          2.286474011329107,
          2.238918812470513,
          2.161267553070282,
          2.050376269479843,
          1.9963158282041085,
          1.9534462381448736,
          1.971295251853107,
          2.350814867702097,
          1.958108855574052,
          2.252906419004566,
          1.8982273915663248,
          2.237500210360954,
          1.5638419152006295,
          2.031635298197644,
          2.0200395394384216,
          2.263551537264369,
          2.2745942158522725,
          2.006597699856275,
          2.0660514940486667,
          1.910486577027405,
          1.7674380194529637,
          1.632618180098594,
          2.0837007893038164,
          1.981554720940645,
          1.928566250359329,
          2.122035031777396,
          1.8288115401345513,
          2.0126701758540313,
          2.1373513842359113,
          2.183785928512322,
          2.5690814314030694,
          2.18157675254178,
          2.057111012841821,
          2.1749206166293433,
          1.8006778608165181,
          2.1304488471962606,
          2.071876301011542,
          1.907340285416441,
          1.659390200793494,
          1.9937212159924484,
          1.69871656342762,
          1.9505283947808454,
          1.7126138825232897,
          1.311893990819871,
          2.1460226044726647,
          1.67178296988396,
          1.681932768196965,
          1.8425074962950743,
          1.9465001031050033,
          1.9741214545317267,
          1.8813630048832823,
          1.7247113453570209,
          2.197969915966577,
          2.187759232224041,
          1.7204882701734987,
          1.8262072680142143,
          2.053473894780901,
          2.021134798998615,
          2.1503316388887974,
          2.0057151659166372,
          1.8639668586441591,
          1.8268386488108392,
          2.1200922651566376,
          1.974367119292121,
          1.605164429423517,
          2.390263500158236,
          2.1876419823805247,
          2.0492328985226256,
          2.266691333295775,
          1.9916290151777598,
          1.768585315314462,
          2.00144135096098,
          1.8910332939483128,
          2.177322212175631,
          1.916508376849011,
          2.1443737968408456,
          1.8928923775158015,
          2.4186266429562617,
          1.9242225171560705,
          2.3948204594678906,
          1.9023451302403762,
          2.077439117418555,
          1.8839008043639025,
          1.950755469487862,
          2.1706129562200003,
          2.05304127166339,
          1.8732598458712855,
          2.1593021430316766,
          1.9643928669572868,
          1.816173327113983,
          1.8837098359084463,
          2.0149550085459955,
          1.8215824789034376,
          1.6675770422512157,
          2.0378572878719106,
          2.4208184513071056,
          2.0356484423072922,
          2.1402406231176,
          1.9777092344734835,
          2.168095413676616,
          1.7320342200413767,
          2.084183071423416,
          2.2357576125568603,
          2.1094141139851135,
          2.315937241919596,
          1.7858766588343908,
          2.06959444395126,
          1.7560305355436174,
          1.5176375920054344,
          1.9139921838226581,
          2.5066954820599703,
          2.3553833676938014,
          1.8088102889765905,
          2.333515816424959,
          1.8590680000745,
          1.7917756376836265,
          1.727784461407326,
          1.6951101509702182,
          2.159803785674219,
          2.1589609082927974,
          2.407204591373367,
          2.4652018787239016,
          2.1066802316486273,
          1.9537783681492402,
          2.3913352030956627,
          2.1954293982840034,
          1.806719443856076,
          2.0254090295273,
          2.1462604987847955,
          2.106941439055858,
          2.349164164235807,
          1.7403245837979784,
          2.1430509002853606,
          1.6809764461264904,
          1.8125269337967123,
          2.022955937158388,
          2.1419457065890573,
          2.237795644305671,
          2.18218388707216,
          2.218065743832825,
          1.9105053094348874,
          1.9141644682320391,
          1.8221255640206349,
          2.081487977088286,
          1.871392704601556,
          1.8072720088892316,
          1.9272652652471642,
          2.32413319479346,
          1.5328925138403182,
          2.263451420568015,
          2.406623611307403,
          2.086091172253256,
          2.188169772624098,
          2.043454975655282,
          1.9608878430562853,
          1.8505914172230689,
          1.6398578429449162,
          1.9864145977888255,
          2.116475085651006,
          1.9437329651767414,
          2.350810606666469,
          1.8237710159200187,
          1.9108162181498132,
          1.7938507316666064,
          2.1846193567659316,
          1.8401678363464062,
          1.6409971333729632,
          2.095017930344823,
          1.7737374043618543,
          1.8136463495859136,
          1.97701369893064,
          1.5101957696186008,
          2.083256676002896,
          2.1994309958929668,
          1.8413709776103357,
          2.324223342694247,
          2.0113068673963115,
          2.034849753288252,
          1.7266490098879579,
          1.8097680377566838,
          1.883913671525923,
          2.0241844934803863,
          1.856871026767875,
          1.7100978011920092,
          1.8828922216042803,
          1.7398341856802175,
          2.2092042754821546,
          1.9828097627423773,
          1.9312790196634633,
          1.7912941750762417,
          1.9964966225768548,
          1.6500566564478096,
          2.3202358986867293,
          2.035077028896672,
          1.9119958165909507,
          2.002982039876404,
          2.295901714920295,
          1.9654881138009432,
          2.220067841443938,
          2.30404581103472,
          1.918756977063789,
          1.813580914662054,
          1.8322171914439158,
          2.0180463996098483,
          1.9487228422214244,
          1.8288372346780333,
          2.1085998042864125,
          1.9642936981463548,
          1.881911847910054,
          2.2436741188888902,
          2.0515661750814242,
          2.3156011324364507,
          2.284975414438525,
          2.1471402184898825,
          1.904099396912543,
          1.7476657322427103,
          2.080807644915221,
          2.1703438477662322,
          1.9309093843142688,
          1.8891614262470036,
          1.994099690109854,
          2.339465861128547,
          1.9800852482282243,
          1.9597662904565443,
          1.8376828979571806,
          2.1945876179727812,
          2.034956766480919,
          1.91155476263673,
          1.7708064319931438,
          2.0760894806143786,
          2.030358376497503,
          2.3110401421232196,
          1.9350786675882443,
          2.1510576339820413,
          2.030485713555388,
          2.1872040292708474,
          2.0793580239527087,
          2.3978795578436767,
          1.7619107933076175,
          1.968013886813253,
          1.971197055255528,
          2.5203352614438868,
          2.2950346705043305,
          2.3210075157326466,
          1.8511513822293884,
          1.756294727356711,
          1.9314450214546934,
          1.8584589911178686,
          1.772250080411634,
          2.2701068641658386,
          1.987348911124763,
          2.3972363164474935,
          2.1033202581910553,
          2.2640084438466763,
          1.8211738715554804,
          2.366374123460322,
          1.7189944491392217,
          2.015445561648023,
          2.0731035333344874,
          2.1675335528743593,
          1.9561979953739999,
          1.9155435759659662,
          1.8580009945277944,
          2.236940244156888,
          2.491632259143652,
          1.9991391372013052,
          1.8979452322557833,
          2.231760394626738,
          1.966102368727928,
          1.9136754880071878,
          2.2488516836007633,
          2.2999357265810465,
          2.186946725046606,
          1.7427310753691614,
          2.245572646727619,
          2.2183975838660994,
          2.191995106617514,
          1.998211684824836,
          2.367483394056083,
          1.7996399899207391,
          2.0038205569680274,
          1.8915548584030102,
          2.0958802154296183,
          1.696918112923109,
          1.8464338197277557,
          1.9485193039237467,
          2.109435449037164,
          1.6643743402660307,
          1.673199277682065,
          2.3436695806818624,
          2.35443625750067,
          2.318894816010647,
          1.950237443746115,
          2.0632459818411464,
          2.0711424405295396,
          2.3213782407913013,
          1.9963414291864992,
          2.052514391927227,
          2.0884166709563403,
          2.028809092650349,
          1.6814701453971632,
          2.2351815361261917,
          1.902914348663216,
          2.049560915357657,
          2.224546105717805,
          2.0980451589333518,
          1.8030610089511716,
          1.7156516587964967,
          2.2735409016818395,
          1.7687291679161437,
          1.9182124586435634,
          2.019039336928053,
          1.9775851535332933,
          2.257829717861834,
          2.013374839585815,
          2.1373804149859654,
          1.6512151196897529,
          1.9003439519973526,
          2.649767667420881,
          2.204495684786802,
          2.19958466035437,
          2.248278093369713,
          1.8910502825909263,
          1.9934768072313191,
          1.8348111561120595,
          1.6430189126958092,
          2.083134288617288,
          2.0407160181983706,
          2.229196301816955,
          2.2030266571435453,
          2.326415898696369,
          2.2803093411955566,
          2.105925612517323,
          1.9940077281854411,
          2.006183812479817,
          1.8205681225678834,
          2.0620613471658436,
          2.636705544052596,
          1.4165043567454763,
          1.9213790494285696,
          2.1093607065660187,
          2.001787599924869,
          1.8143207837373636,
          1.9995446959425769,
          2.143514591097999,
          1.9245148724183647,
          2.078666533140978,
          2.0426870215559165,
          1.7809792727583174,
          2.1891625424627077,
          1.9121750060725178,
          2.113982214330444,
          2.160544484118028,
          2.1210552384420485,
          1.9764746135219893,
          2.1573231216772615,
          1.378000970136961,
          1.7972582290666421,
          1.8243147819668186,
          1.6017937583679398,
          2.1321059932589854,
          1.959743579429386,
          1.5872933413780332,
          2.238687208080287,
          1.547722441978758,
          2.2666138072033495,
          2.325815760305409,
          2.1997985434057488,
          2.12596894796125,
          1.8492227669826704,
          1.8661595350057634,
          1.7514224839709922,
          1.8206297477069904,
          2.2687189362620592,
          1.8260631177112707,
          1.7385490964396602,
          1.657185196231641,
          2.392632573507128,
          1.8081188972700328,
          1.9149025592731626,
          1.841024166218701,
          2.0545060653604272,
          1.837926904935225,
          2.1332274056230656,
          1.9702350833090352,
          2.204856651740592,
          2.1718632703026657,
          2.1338699921178956,
          1.9535117962630508,
          -0.7279246184909911,
          -0.6733796906330318,
          -0.9642902766347774,
          0.13435840118306563,
          -0.08843927573143917,
          -1.5521220040144739,
          1.173092821189008,
          -0.0570123875874371,
          -1.5683433316443418,
          -1.440222913792359,
          0.4284991636800677,
          1.0605401375735113,
          -0.5267607935855709,
          1.049450255051723,
          1.2758254808764722,
          0.6159442801194372,
          0.7744858489422861,
          0.6028034764874244,
          -1.7961229985452092,
          1.5143523581981202,
          0.6548418260598234,
          -0.9692330595183458,
          -1.2225434078279154,
          -1.9096672669686918,
          -1.020490334735117
         ],
         "yaxis": "y"
        },
        {
         "alignmentgroup": "True",
         "boxpoints": "all",
         "fillcolor": "rgba(255,255,255,0)",
         "hoveron": "points",
         "hovertemplate": "y=%{y}<extra></extra>",
         "jitter": 0,
         "legendgroup": "",
         "line": {
          "color": "rgba(255,255,255,0)"
         },
         "marker": {
          "color": "#636efa",
          "symbol": "line-ew-open"
         },
         "name": "",
         "offsetgroup": "",
         "showlegend": false,
         "type": "box",
         "xaxis": "x2",
         "y": [
          2.0926111568427372,
          1.7461815883775464,
          2.1314124193239348,
          2.1651729878253363,
          1.7755964844486252,
          1.946646861406112,
          1.8348003383867642,
          2.0768711842258,
          2.132725361136016,
          2.0291097753937875,
          1.9549649506798557,
          2.197710761470962,
          2.265033287582408,
          2.230521972633941,
          2.3284343126468983,
          1.5113807888671031,
          2.099757802915983,
          1.894086810612947,
          2.001315626268095,
          2.063857712177945,
          1.8211276650170276,
          1.9542652266110512,
          1.9697234676167303,
          1.7152115266522543,
          1.5798404556283594,
          2.2373345354537975,
          1.7648800888268479,
          2.3099503324669683,
          2.3324673521960797,
          2.3811576696870436,
          2.0383736463044797,
          2.3098983814049965,
          1.7096220309812011,
          1.9262840006546946,
          1.9978587259710379,
          1.866729969510822,
          1.9158207685584545,
          1.6983381219453282,
          2.194776960778608,
          1.675959722219846,
          2.201103122222762,
          2.203251425963475,
          2.231103161711676,
          2.1440605307868608,
          1.7114922350545791,
          2.2381924739087165,
          2.1592940697187366,
          1.9213488516760449,
          1.926813219013709,
          1.548892576468974,
          2.369349802938604,
          2.100537931252708,
          1.9571056147835875,
          2.2403456903783003,
          1.9630745629640571,
          1.910267106442904,
          1.938830240605371,
          2.3108386906120524,
          2.2572540032194093,
          1.7676278508226955,
          1.653178536272793,
          1.925400721835605,
          2.037648083707699,
          2.209310222327836,
          2.1355474319104184,
          1.966254904933332,
          1.588689905553438,
          2.1762873799625804,
          1.9702693833102642,
          1.7089242768364898,
          1.8983594309677945,
          1.8355276695786173,
          1.8927725994382507,
          2.1797427110885796,
          2.2757367783805433,
          1.7003499019286532,
          2.1559404619391533,
          2.005429909167067,
          1.77759694975211,
          2.0302153237001237,
          2.018306647290407,
          1.7607195845737307,
          2.240086401667243,
          1.8364726394707893,
          2.3704431023290233,
          1.6996513375645819,
          2.286474011329107,
          2.238918812470513,
          2.161267553070282,
          2.050376269479843,
          1.9963158282041085,
          1.9534462381448736,
          1.971295251853107,
          2.350814867702097,
          1.958108855574052,
          2.252906419004566,
          1.8982273915663248,
          2.237500210360954,
          1.5638419152006295,
          2.031635298197644,
          2.0200395394384216,
          2.263551537264369,
          2.2745942158522725,
          2.006597699856275,
          2.0660514940486667,
          1.910486577027405,
          1.7674380194529637,
          1.632618180098594,
          2.0837007893038164,
          1.981554720940645,
          1.928566250359329,
          2.122035031777396,
          1.8288115401345513,
          2.0126701758540313,
          2.1373513842359113,
          2.183785928512322,
          2.5690814314030694,
          2.18157675254178,
          2.057111012841821,
          2.1749206166293433,
          1.8006778608165181,
          2.1304488471962606,
          2.071876301011542,
          1.907340285416441,
          1.659390200793494,
          1.9937212159924484,
          1.69871656342762,
          1.9505283947808454,
          1.7126138825232897,
          1.311893990819871,
          2.1460226044726647,
          1.67178296988396,
          1.681932768196965,
          1.8425074962950743,
          1.9465001031050033,
          1.9741214545317267,
          1.8813630048832823,
          1.7247113453570209,
          2.197969915966577,
          2.187759232224041,
          1.7204882701734987,
          1.8262072680142143,
          2.053473894780901,
          2.021134798998615,
          2.1503316388887974,
          2.0057151659166372,
          1.8639668586441591,
          1.8268386488108392,
          2.1200922651566376,
          1.974367119292121,
          1.605164429423517,
          2.390263500158236,
          2.1876419823805247,
          2.0492328985226256,
          2.266691333295775,
          1.9916290151777598,
          1.768585315314462,
          2.00144135096098,
          1.8910332939483128,
          2.177322212175631,
          1.916508376849011,
          2.1443737968408456,
          1.8928923775158015,
          2.4186266429562617,
          1.9242225171560705,
          2.3948204594678906,
          1.9023451302403762,
          2.077439117418555,
          1.8839008043639025,
          1.950755469487862,
          2.1706129562200003,
          2.05304127166339,
          1.8732598458712855,
          2.1593021430316766,
          1.9643928669572868,
          1.816173327113983,
          1.8837098359084463,
          2.0149550085459955,
          1.8215824789034376,
          1.6675770422512157,
          2.0378572878719106,
          2.4208184513071056,
          2.0356484423072922,
          2.1402406231176,
          1.9777092344734835,
          2.168095413676616,
          1.7320342200413767,
          2.084183071423416,
          2.2357576125568603,
          2.1094141139851135,
          2.315937241919596,
          1.7858766588343908,
          2.06959444395126,
          1.7560305355436174,
          1.5176375920054344,
          1.9139921838226581,
          2.5066954820599703,
          2.3553833676938014,
          1.8088102889765905,
          2.333515816424959,
          1.8590680000745,
          1.7917756376836265,
          1.727784461407326,
          1.6951101509702182,
          2.159803785674219,
          2.1589609082927974,
          2.407204591373367,
          2.4652018787239016,
          2.1066802316486273,
          1.9537783681492402,
          2.3913352030956627,
          2.1954293982840034,
          1.806719443856076,
          2.0254090295273,
          2.1462604987847955,
          2.106941439055858,
          2.349164164235807,
          1.7403245837979784,
          2.1430509002853606,
          1.6809764461264904,
          1.8125269337967123,
          2.022955937158388,
          2.1419457065890573,
          2.237795644305671,
          2.18218388707216,
          2.218065743832825,
          1.9105053094348874,
          1.9141644682320391,
          1.8221255640206349,
          2.081487977088286,
          1.871392704601556,
          1.8072720088892316,
          1.9272652652471642,
          2.32413319479346,
          1.5328925138403182,
          2.263451420568015,
          2.406623611307403,
          2.086091172253256,
          2.188169772624098,
          2.043454975655282,
          1.9608878430562853,
          1.8505914172230689,
          1.6398578429449162,
          1.9864145977888255,
          2.116475085651006,
          1.9437329651767414,
          2.350810606666469,
          1.8237710159200187,
          1.9108162181498132,
          1.7938507316666064,
          2.1846193567659316,
          1.8401678363464062,
          1.6409971333729632,
          2.095017930344823,
          1.7737374043618543,
          1.8136463495859136,
          1.97701369893064,
          1.5101957696186008,
          2.083256676002896,
          2.1994309958929668,
          1.8413709776103357,
          2.324223342694247,
          2.0113068673963115,
          2.034849753288252,
          1.7266490098879579,
          1.8097680377566838,
          1.883913671525923,
          2.0241844934803863,
          1.856871026767875,
          1.7100978011920092,
          1.8828922216042803,
          1.7398341856802175,
          2.2092042754821546,
          1.9828097627423773,
          1.9312790196634633,
          1.7912941750762417,
          1.9964966225768548,
          1.6500566564478096,
          2.3202358986867293,
          2.035077028896672,
          1.9119958165909507,
          2.002982039876404,
          2.295901714920295,
          1.9654881138009432,
          2.220067841443938,
          2.30404581103472,
          1.918756977063789,
          1.813580914662054,
          1.8322171914439158,
          2.0180463996098483,
          1.9487228422214244,
          1.8288372346780333,
          2.1085998042864125,
          1.9642936981463548,
          1.881911847910054,
          2.2436741188888902,
          2.0515661750814242,
          2.3156011324364507,
          2.284975414438525,
          2.1471402184898825,
          1.904099396912543,
          1.7476657322427103,
          2.080807644915221,
          2.1703438477662322,
          1.9309093843142688,
          1.8891614262470036,
          1.994099690109854,
          2.339465861128547,
          1.9800852482282243,
          1.9597662904565443,
          1.8376828979571806,
          2.1945876179727812,
          2.034956766480919,
          1.91155476263673,
          1.7708064319931438,
          2.0760894806143786,
          2.030358376497503,
          2.3110401421232196,
          1.9350786675882443,
          2.1510576339820413,
          2.030485713555388,
          2.1872040292708474,
          2.0793580239527087,
          2.3978795578436767,
          1.7619107933076175,
          1.968013886813253,
          1.971197055255528,
          2.5203352614438868,
          2.2950346705043305,
          2.3210075157326466,
          1.8511513822293884,
          1.756294727356711,
          1.9314450214546934,
          1.8584589911178686,
          1.772250080411634,
          2.2701068641658386,
          1.987348911124763,
          2.3972363164474935,
          2.1033202581910553,
          2.2640084438466763,
          1.8211738715554804,
          2.366374123460322,
          1.7189944491392217,
          2.015445561648023,
          2.0731035333344874,
          2.1675335528743593,
          1.9561979953739999,
          1.9155435759659662,
          1.8580009945277944,
          2.236940244156888,
          2.491632259143652,
          1.9991391372013052,
          1.8979452322557833,
          2.231760394626738,
          1.966102368727928,
          1.9136754880071878,
          2.2488516836007633,
          2.2999357265810465,
          2.186946725046606,
          1.7427310753691614,
          2.245572646727619,
          2.2183975838660994,
          2.191995106617514,
          1.998211684824836,
          2.367483394056083,
          1.7996399899207391,
          2.0038205569680274,
          1.8915548584030102,
          2.0958802154296183,
          1.696918112923109,
          1.8464338197277557,
          1.9485193039237467,
          2.109435449037164,
          1.6643743402660307,
          1.673199277682065,
          2.3436695806818624,
          2.35443625750067,
          2.318894816010647,
          1.950237443746115,
          2.0632459818411464,
          2.0711424405295396,
          2.3213782407913013,
          1.9963414291864992,
          2.052514391927227,
          2.0884166709563403,
          2.028809092650349,
          1.6814701453971632,
          2.2351815361261917,
          1.902914348663216,
          2.049560915357657,
          2.224546105717805,
          2.0980451589333518,
          1.8030610089511716,
          1.7156516587964967,
          2.2735409016818395,
          1.7687291679161437,
          1.9182124586435634,
          2.019039336928053,
          1.9775851535332933,
          2.257829717861834,
          2.013374839585815,
          2.1373804149859654,
          1.6512151196897529,
          1.9003439519973526,
          2.649767667420881,
          2.204495684786802,
          2.19958466035437,
          2.248278093369713,
          1.8910502825909263,
          1.9934768072313191,
          1.8348111561120595,
          1.6430189126958092,
          2.083134288617288,
          2.0407160181983706,
          2.229196301816955,
          2.2030266571435453,
          2.326415898696369,
          2.2803093411955566,
          2.105925612517323,
          1.9940077281854411,
          2.006183812479817,
          1.8205681225678834,
          2.0620613471658436,
          2.636705544052596,
          1.4165043567454763,
          1.9213790494285696,
          2.1093607065660187,
          2.001787599924869,
          1.8143207837373636,
          1.9995446959425769,
          2.143514591097999,
          1.9245148724183647,
          2.078666533140978,
          2.0426870215559165,
          1.7809792727583174,
          2.1891625424627077,
          1.9121750060725178,
          2.113982214330444,
          2.160544484118028,
          2.1210552384420485,
          1.9764746135219893,
          2.1573231216772615,
          1.378000970136961,
          1.7972582290666421,
          1.8243147819668186,
          1.6017937583679398,
          2.1321059932589854,
          1.959743579429386,
          1.5872933413780332,
          2.238687208080287,
          1.547722441978758,
          2.2666138072033495,
          2.325815760305409,
          2.1997985434057488,
          2.12596894796125,
          1.8492227669826704,
          1.8661595350057634,
          1.7514224839709922,
          1.8206297477069904,
          2.2687189362620592,
          1.8260631177112707,
          1.7385490964396602,
          1.657185196231641,
          2.392632573507128,
          1.8081188972700328,
          1.9149025592731626,
          1.841024166218701,
          2.0545060653604272,
          1.837926904935225,
          2.1332274056230656,
          1.9702350833090352,
          2.204856651740592,
          2.1718632703026657,
          2.1338699921178956,
          1.9535117962630508,
          -0.7279246184909911,
          -0.6733796906330318,
          -0.9642902766347774,
          0.13435840118306563,
          -0.08843927573143917,
          -1.5521220040144739,
          1.173092821189008,
          -0.0570123875874371,
          -1.5683433316443418,
          -1.440222913792359,
          0.4284991636800677,
          1.0605401375735113,
          -0.5267607935855709,
          1.049450255051723,
          1.2758254808764722,
          0.6159442801194372,
          0.7744858489422861,
          0.6028034764874244,
          -1.7961229985452092,
          1.5143523581981202,
          0.6548418260598234,
          -0.9692330595183458,
          -1.2225434078279154,
          -1.9096672669686918,
          -1.020490334735117
         ],
         "yaxis": "y2"
        }
       ],
       "layout": {
        "autosize": true,
        "legend": {
         "tracegroupgap": 0
        },
        "margin": {
         "t": 60
        },
        "template": {
         "data": {
          "bar": [
           {
            "error_x": {
             "color": "#2a3f5f"
            },
            "error_y": {
             "color": "#2a3f5f"
            },
            "marker": {
             "line": {
              "color": "#E5ECF6",
              "width": 0.5
             },
             "pattern": {
              "fillmode": "overlay",
              "size": 10,
              "solidity": 0.2
             }
            },
            "type": "bar"
           }
          ],
          "barpolar": [
           {
            "marker": {
             "line": {
              "color": "#E5ECF6",
              "width": 0.5
             },
             "pattern": {
              "fillmode": "overlay",
              "size": 10,
              "solidity": 0.2
             }
            },
            "type": "barpolar"
           }
          ],
          "carpet": [
           {
            "aaxis": {
             "endlinecolor": "#2a3f5f",
             "gridcolor": "white",
             "linecolor": "white",
             "minorgridcolor": "white",
             "startlinecolor": "#2a3f5f"
            },
            "baxis": {
             "endlinecolor": "#2a3f5f",
             "gridcolor": "white",
             "linecolor": "white",
             "minorgridcolor": "white",
             "startlinecolor": "#2a3f5f"
            },
            "type": "carpet"
           }
          ],
          "choropleth": [
           {
            "colorbar": {
             "outlinewidth": 0,
             "ticks": ""
            },
            "type": "choropleth"
           }
          ],
          "contour": [
           {
            "colorbar": {
             "outlinewidth": 0,
             "ticks": ""
            },
            "colorscale": [
             [
              0,
              "#0d0887"
             ],
             [
              0.1111111111111111,
              "#46039f"
             ],
             [
              0.2222222222222222,
              "#7201a8"
             ],
             [
              0.3333333333333333,
              "#9c179e"
             ],
             [
              0.4444444444444444,
              "#bd3786"
             ],
             [
              0.5555555555555556,
              "#d8576b"
             ],
             [
              0.6666666666666666,
              "#ed7953"
             ],
             [
              0.7777777777777778,
              "#fb9f3a"
             ],
             [
              0.8888888888888888,
              "#fdca26"
             ],
             [
              1,
              "#f0f921"
             ]
            ],
            "type": "contour"
           }
          ],
          "contourcarpet": [
           {
            "colorbar": {
             "outlinewidth": 0,
             "ticks": ""
            },
            "type": "contourcarpet"
           }
          ],
          "heatmap": [
           {
            "colorbar": {
             "outlinewidth": 0,
             "ticks": ""
            },
            "colorscale": [
             [
              0,
              "#0d0887"
             ],
             [
              0.1111111111111111,
              "#46039f"
             ],
             [
              0.2222222222222222,
              "#7201a8"
             ],
             [
              0.3333333333333333,
              "#9c179e"
             ],
             [
              0.4444444444444444,
              "#bd3786"
             ],
             [
              0.5555555555555556,
              "#d8576b"
             ],
             [
              0.6666666666666666,
              "#ed7953"
             ],
             [
              0.7777777777777778,
              "#fb9f3a"
             ],
             [
              0.8888888888888888,
              "#fdca26"
             ],
             [
              1,
              "#f0f921"
             ]
            ],
            "type": "heatmap"
           }
          ],
          "heatmapgl": [
           {
            "colorbar": {
             "outlinewidth": 0,
             "ticks": ""
            },
            "colorscale": [
             [
              0,
              "#0d0887"
             ],
             [
              0.1111111111111111,
              "#46039f"
             ],
             [
              0.2222222222222222,
              "#7201a8"
             ],
             [
              0.3333333333333333,
              "#9c179e"
             ],
             [
              0.4444444444444444,
              "#bd3786"
             ],
             [
              0.5555555555555556,
              "#d8576b"
             ],
             [
              0.6666666666666666,
              "#ed7953"
             ],
             [
              0.7777777777777778,
              "#fb9f3a"
             ],
             [
              0.8888888888888888,
              "#fdca26"
             ],
             [
              1,
              "#f0f921"
             ]
            ],
            "type": "heatmapgl"
           }
          ],
          "histogram": [
           {
            "marker": {
             "pattern": {
              "fillmode": "overlay",
              "size": 10,
              "solidity": 0.2
             }
            },
            "type": "histogram"
           }
          ],
          "histogram2d": [
           {
            "colorbar": {
             "outlinewidth": 0,
             "ticks": ""
            },
            "colorscale": [
             [
              0,
              "#0d0887"
             ],
             [
              0.1111111111111111,
              "#46039f"
             ],
             [
              0.2222222222222222,
              "#7201a8"
             ],
             [
              0.3333333333333333,
              "#9c179e"
             ],
             [
              0.4444444444444444,
              "#bd3786"
             ],
             [
              0.5555555555555556,
              "#d8576b"
             ],
             [
              0.6666666666666666,
              "#ed7953"
             ],
             [
              0.7777777777777778,
              "#fb9f3a"
             ],
             [
              0.8888888888888888,
              "#fdca26"
             ],
             [
              1,
              "#f0f921"
             ]
            ],
            "type": "histogram2d"
           }
          ],
          "histogram2dcontour": [
           {
            "colorbar": {
             "outlinewidth": 0,
             "ticks": ""
            },
            "colorscale": [
             [
              0,
              "#0d0887"
             ],
             [
              0.1111111111111111,
              "#46039f"
             ],
             [
              0.2222222222222222,
              "#7201a8"
             ],
             [
              0.3333333333333333,
              "#9c179e"
             ],
             [
              0.4444444444444444,
              "#bd3786"
             ],
             [
              0.5555555555555556,
              "#d8576b"
             ],
             [
              0.6666666666666666,
              "#ed7953"
             ],
             [
              0.7777777777777778,
              "#fb9f3a"
             ],
             [
              0.8888888888888888,
              "#fdca26"
             ],
             [
              1,
              "#f0f921"
             ]
            ],
            "type": "histogram2dcontour"
           }
          ],
          "mesh3d": [
           {
            "colorbar": {
             "outlinewidth": 0,
             "ticks": ""
            },
            "type": "mesh3d"
           }
          ],
          "parcoords": [
           {
            "line": {
             "colorbar": {
              "outlinewidth": 0,
              "ticks": ""
             }
            },
            "type": "parcoords"
           }
          ],
          "pie": [
           {
            "automargin": true,
            "type": "pie"
           }
          ],
          "scatter": [
           {
            "fillpattern": {
             "fillmode": "overlay",
             "size": 10,
             "solidity": 0.2
            },
            "type": "scatter"
           }
          ],
          "scatter3d": [
           {
            "line": {
             "colorbar": {
              "outlinewidth": 0,
              "ticks": ""
             }
            },
            "marker": {
             "colorbar": {
              "outlinewidth": 0,
              "ticks": ""
             }
            },
            "type": "scatter3d"
           }
          ],
          "scattercarpet": [
           {
            "marker": {
             "colorbar": {
              "outlinewidth": 0,
              "ticks": ""
             }
            },
            "type": "scattercarpet"
           }
          ],
          "scattergeo": [
           {
            "marker": {
             "colorbar": {
              "outlinewidth": 0,
              "ticks": ""
             }
            },
            "type": "scattergeo"
           }
          ],
          "scattergl": [
           {
            "marker": {
             "colorbar": {
              "outlinewidth": 0,
              "ticks": ""
             }
            },
            "type": "scattergl"
           }
          ],
          "scattermapbox": [
           {
            "marker": {
             "colorbar": {
              "outlinewidth": 0,
              "ticks": ""
             }
            },
            "type": "scattermapbox"
           }
          ],
          "scatterpolar": [
           {
            "marker": {
             "colorbar": {
              "outlinewidth": 0,
              "ticks": ""
             }
            },
            "type": "scatterpolar"
           }
          ],
          "scatterpolargl": [
           {
            "marker": {
             "colorbar": {
              "outlinewidth": 0,
              "ticks": ""
             }
            },
            "type": "scatterpolargl"
           }
          ],
          "scatterternary": [
           {
            "marker": {
             "colorbar": {
              "outlinewidth": 0,
              "ticks": ""
             }
            },
            "type": "scatterternary"
           }
          ],
          "surface": [
           {
            "colorbar": {
             "outlinewidth": 0,
             "ticks": ""
            },
            "colorscale": [
             [
              0,
              "#0d0887"
             ],
             [
              0.1111111111111111,
              "#46039f"
             ],
             [
              0.2222222222222222,
              "#7201a8"
             ],
             [
              0.3333333333333333,
              "#9c179e"
             ],
             [
              0.4444444444444444,
              "#bd3786"
             ],
             [
              0.5555555555555556,
              "#d8576b"
             ],
             [
              0.6666666666666666,
              "#ed7953"
             ],
             [
              0.7777777777777778,
              "#fb9f3a"
             ],
             [
              0.8888888888888888,
              "#fdca26"
             ],
             [
              1,
              "#f0f921"
             ]
            ],
            "type": "surface"
           }
          ],
          "table": [
           {
            "cells": {
             "fill": {
              "color": "#EBF0F8"
             },
             "line": {
              "color": "white"
             }
            },
            "header": {
             "fill": {
              "color": "#C8D4E3"
             },
             "line": {
              "color": "white"
             }
            },
            "type": "table"
           }
          ]
         },
         "layout": {
          "annotationdefaults": {
           "arrowcolor": "#2a3f5f",
           "arrowhead": 0,
           "arrowwidth": 1
          },
          "autotypenumbers": "strict",
          "coloraxis": {
           "colorbar": {
            "outlinewidth": 0,
            "ticks": ""
           }
          },
          "colorscale": {
           "diverging": [
            [
             0,
             "#8e0152"
            ],
            [
             0.1,
             "#c51b7d"
            ],
            [
             0.2,
             "#de77ae"
            ],
            [
             0.3,
             "#f1b6da"
            ],
            [
             0.4,
             "#fde0ef"
            ],
            [
             0.5,
             "#f7f7f7"
            ],
            [
             0.6,
             "#e6f5d0"
            ],
            [
             0.7,
             "#b8e186"
            ],
            [
             0.8,
             "#7fbc41"
            ],
            [
             0.9,
             "#4d9221"
            ],
            [
             1,
             "#276419"
            ]
           ],
           "sequential": [
            [
             0,
             "#0d0887"
            ],
            [
             0.1111111111111111,
             "#46039f"
            ],
            [
             0.2222222222222222,
             "#7201a8"
            ],
            [
             0.3333333333333333,
             "#9c179e"
            ],
            [
             0.4444444444444444,
             "#bd3786"
            ],
            [
             0.5555555555555556,
             "#d8576b"
            ],
            [
             0.6666666666666666,
             "#ed7953"
            ],
            [
             0.7777777777777778,
             "#fb9f3a"
            ],
            [
             0.8888888888888888,
             "#fdca26"
            ],
            [
             1,
             "#f0f921"
            ]
           ],
           "sequentialminus": [
            [
             0,
             "#0d0887"
            ],
            [
             0.1111111111111111,
             "#46039f"
            ],
            [
             0.2222222222222222,
             "#7201a8"
            ],
            [
             0.3333333333333333,
             "#9c179e"
            ],
            [
             0.4444444444444444,
             "#bd3786"
            ],
            [
             0.5555555555555556,
             "#d8576b"
            ],
            [
             0.6666666666666666,
             "#ed7953"
            ],
            [
             0.7777777777777778,
             "#fb9f3a"
            ],
            [
             0.8888888888888888,
             "#fdca26"
            ],
            [
             1,
             "#f0f921"
            ]
           ]
          },
          "colorway": [
           "#636efa",
           "#EF553B",
           "#00cc96",
           "#ab63fa",
           "#FFA15A",
           "#19d3f3",
           "#FF6692",
           "#B6E880",
           "#FF97FF",
           "#FECB52"
          ],
          "font": {
           "color": "#2a3f5f"
          },
          "geo": {
           "bgcolor": "white",
           "lakecolor": "white",
           "landcolor": "#E5ECF6",
           "showlakes": true,
           "showland": true,
           "subunitcolor": "white"
          },
          "hoverlabel": {
           "align": "left"
          },
          "hovermode": "closest",
          "mapbox": {
           "style": "light"
          },
          "paper_bgcolor": "white",
          "plot_bgcolor": "#E5ECF6",
          "polar": {
           "angularaxis": {
            "gridcolor": "white",
            "linecolor": "white",
            "ticks": ""
           },
           "bgcolor": "#E5ECF6",
           "radialaxis": {
            "gridcolor": "white",
            "linecolor": "white",
            "ticks": ""
           }
          },
          "scene": {
           "xaxis": {
            "backgroundcolor": "#E5ECF6",
            "gridcolor": "white",
            "gridwidth": 2,
            "linecolor": "white",
            "showbackground": true,
            "ticks": "",
            "zerolinecolor": "white"
           },
           "yaxis": {
            "backgroundcolor": "#E5ECF6",
            "gridcolor": "white",
            "gridwidth": 2,
            "linecolor": "white",
            "showbackground": true,
            "ticks": "",
            "zerolinecolor": "white"
           },
           "zaxis": {
            "backgroundcolor": "#E5ECF6",
            "gridcolor": "white",
            "gridwidth": 2,
            "linecolor": "white",
            "showbackground": true,
            "ticks": "",
            "zerolinecolor": "white"
           }
          },
          "shapedefaults": {
           "line": {
            "color": "#2a3f5f"
           }
          },
          "ternary": {
           "aaxis": {
            "gridcolor": "white",
            "linecolor": "white",
            "ticks": ""
           },
           "baxis": {
            "gridcolor": "white",
            "linecolor": "white",
            "ticks": ""
           },
           "bgcolor": "#E5ECF6",
           "caxis": {
            "gridcolor": "white",
            "linecolor": "white",
            "ticks": ""
           }
          },
          "title": {
           "x": 0.05
          },
          "xaxis": {
           "automargin": true,
           "gridcolor": "white",
           "linecolor": "white",
           "ticks": "",
           "title": {
            "standoff": 15
           },
           "zerolinecolor": "white",
           "zerolinewidth": 2
          },
          "yaxis": {
           "automargin": true,
           "gridcolor": "white",
           "linecolor": "white",
           "ticks": "",
           "title": {
            "standoff": 15
           },
           "zerolinecolor": "white",
           "zerolinewidth": 2
          }
         }
        },
        "xaxis": {
         "anchor": "y",
         "autorange": true,
         "domain": [
          0,
          0.8358
         ],
         "range": [
          -2.2875822178457343,
          3.0859987181050994
         ],
         "title": {
          "text": "x"
         },
         "type": "linear"
        },
        "xaxis2": {
         "anchor": "y2",
         "autorange": true,
         "domain": [
          0.8408,
          1
         ],
         "matches": "x2",
         "range": [
          -0.5190315721093579,
          0.5
         ],
         "showgrid": false,
         "showline": false,
         "showticklabels": false,
         "ticks": "",
         "type": "category"
        },
        "yaxis": {
         "anchor": "x",
         "autorange": true,
         "domain": [
          0,
          1
         ],
         "range": [
          -2.2626943813111917,
          3.002794781763381
         ],
         "title": {
          "text": "y"
         },
         "type": "linear"
        },
        "yaxis2": {
         "anchor": "x2",
         "autorange": true,
         "domain": [
          0,
          1
         ],
         "matches": "y",
         "range": [
          -2.2626943813111917,
          3.002794781763381
         ],
         "showgrid": true,
         "showticklabels": false,
         "type": "linear"
        }
       }
      },
      "image/png": "[encoded data removed]",
      "text/html": [
       "<div>                            <div id=\"441c36d3-8898-43a7-971f-fe2fc43844cf\" class=\"plotly-graph-div\" style=\"height:525px; width:100%;\"></div>            <script type=\"text/javascript\">                require([\"plotly\"], function(Plotly) {                    window.PLOTLYENV=window.PLOTLYENV || {};                                    if (document.getElementById(\"441c36d3-8898-43a7-971f-fe2fc43844cf\")) {                    Plotly.newPlot(                        \"441c36d3-8898-43a7-971f-fe2fc43844cf\",                        [{\"hovertemplate\":\"x=%{x}<br>y=%{y}<extra></extra>\",\"legendgroup\":\"\",\"marker\":{\"color\":\"#636efa\",\"symbol\":\"circle\"},\"mode\":\"markers\",\"name\":\"\",\"orientation\":\"v\",\"showlegend\":false,\"x\":[2.3960901616860513,1.631040126424769,1.8246834650941115,2.106097834452592,1.8296465607177577,1.3733574040923984,1.9214728899908327,2.0030847780987435,1.5369392040565109,2.4728964307193757,2.0284904678131555,2.0652913045371237,1.7543443686574995,1.9037872961406324,2.116559708132555,2.0409767792058626,2.2139500612757446,1.7609586237401325,1.9696152491101966,2.3045775230403036,1.9695300810325131,2.0962663334681797,2.0139972086171323,2.2431896885880196,1.5649590686889785,1.8771778700387083,1.9345711071553773,1.9681615850926906,1.8152383149972642,1.9578217611206687,1.793310508785864,1.9049070982185152,1.9232924262993971,1.9522952192261118,2.0692913614423656,2.2518656907469805,1.7093123084469024,1.8561068484620458,1.6830578280296316,2.206865794977436,1.9223142913418965,1.9260823929112134,1.7103099876227845,2.0180085971230395,1.605082930734762,1.874429249347551,1.9409680475915934,2.173894943101776,1.8901764502206153,2.214473263574142,2.091264648649228,1.6670290113412007,2.3422321190884974,2.1659165989692415,2.1071006937685266,1.6789147938296238,2.13499773786438,1.6535884714777018,2.006656418573735,2.396674398709382,1.8461661114394152,2.2146425607970146,2.103178386725149,2.088731867154089,1.6857781224598298,1.9487193491925254,1.9021947678785747,1.9644895461926664,1.3707891294544658,1.7628555305977427,2.5359952592969117,2.2128462375971902,2.039182170276277,1.7348006147578552,2.1184712694165535,2.009591460515979,1.477140604279164,1.8781403284560125,1.7360897872000034,2.0131070153240826,2.3325380132769284,2.0162689353544776,1.9796433654754804,2.06874692314124,2.0590603421348725,1.9689073505478973,1.746251786902298,1.9707220372358087,2.27438974530769,2.016994748276552,1.5288442993051552,2.269039954689716,1.7949880511337584,1.9693209927573938,2.0224216112985385,2.342381643716935,2.0109712188481237,1.7676915149821188,2.171925646379043,2.3562957692881232,2.2149629484763538,1.7061614216430128,1.9434055267010966,1.9951974121721345,2.0615148968878296,1.9661052537625936,2.1458796297148472,1.7384575194323542,1.615734522600837,1.6531321450424474,2.08476650411178,1.9449990578178764,1.8151422508613133,2.072264292117196,2.125578996062544,2.0860886580410436,1.8699744408990977,2.1870021955662526,2.094058260937237,1.5470241427350884,1.8329851703869366,1.9063423850861398,2.1460102083124966,2.0068070884094076,1.670536011246293,1.9260249854195242,1.6999506378930227,1.8468376169498002,1.6982826699663962,1.9657339345348146,1.6932408070450842,1.8798187089262481,2.2323707469923795,2.0137866907930166,1.890940870930612,1.9898837401055838,1.7593300959775267,2.365294768900055,1.9211702402115767,2.4185709549652255,2.245714622784716,2.2957227625847,1.891775523840311,1.9807881971358043,1.999521166442452,1.8465834710711664,1.8184239970069533,2.0217093234723214,2.0888428960028835,1.906675493436692,1.7813404223310005,2.1287177603195504,2.0886816621124304,1.9458581649878393,1.9775104150933127,2.4148752837456646,2.247634407194776,2.121907305511045,2.1778867142139617,1.835002399610986,1.5577878292331637,2.1062967085786695,2.1454052526845646,2.0575464427122423,1.9279670751848084,1.6502706542593912,1.652612316720564,2.0881810896997828,2.175400100549391,2.247493782448065,2.3052563886569457,1.9776125626683598,2.2542900040609943,1.9827845258488062,2.1202295662134554,1.8709460599336596,2.0535364272040244,2.094631627162991,1.8287468255161026,1.9559933147879647,2.096831566995236,2.15803523491407,1.9087796958563559,2.1676637876743876,1.732994252085836,2.121390509297893,1.7050661603661905,1.5692080769319152,2.3391681172380863,2.0649179755505602,1.8918625704539143,1.9215975099736793,1.8798080613497048,2.4316389501778533,1.8680443163651315,2.1071927662059644,2.1864029984227455,1.8112072737270986,1.8539454679996172,2.425383889067149,2.266282830708164,1.8688168067742565,1.8355940619449869,1.9778739809154,1.9081533000485944,1.7764546133434012,1.8593801400831633,1.911558665700152,2.2186875573200253,1.880398808529164,1.9315602384035069,2.1827242412393075,2.1661594521641794,2.293793372401649,1.7738260425931875,1.5638681790840037,2.525204082358242,1.4356777109170378,1.9443591074751558,1.7507040474557687,1.8761319133630645,2.247808337409548,1.8812584281498497,1.9965039307460473,2.0657982825954653,1.9907422933729373,1.693068631256844,1.8186584533857615,1.7674305788734543,1.7510567265315635,1.6977197248278462,2.174015936646204,1.9548013898794607,2.391950000891514,2.2249625980871945,1.9780112883417673,1.8778224867214792,1.9084512405114824,2.031949288199635,2.087591007211812,1.8107073615083085,1.7844471250188805,1.8282267420067346,1.9572083611372264,1.545186504418356,1.9920267048002342,2.1430445734178276,2.375760185898791,1.8604837241588714,1.995606537517315,1.6256366505296984,1.8404934609553534,2.2401104564766237,1.863982929646683,2.238206604822833,2.1406209559558604,1.9004546899082677,2.0211953666160483,2.454821825729279,1.7980622083956335,2.050538700483694,1.6706560392093865,1.93643616801475,2.0675549671711084,2.1811610975795217,1.835478540565316,2.257380980189441,2.0640372322326215,1.9779515155251348,2.2894749979717206,2.108072468774771,1.9293635083059064,2.128998824671892,2.4082430202990914,1.6032684679748255,2.2130854419179236,1.6949688651607298,1.9853653112942469,1.9112231650924616,1.9427080532110315,2.162102532665172,1.6593482867812965,2.0094975572949463,2.4567961333399895,1.8756806935434498,1.7660632970863068,2.1632463648787725,1.5112824660444124,1.9670355422028079,1.7754599127522954,2.123082020867462,1.8412900893199795,1.997412819497051,1.9586939257172244,2.249282288805589,1.9768173386284706,2.0484156828241313,1.450322043783568,2.23253185382893,2.183322455883236,1.9667366571541103,1.9168889272736003,2.217238946223537,2.02411400526925,2.5677008147851828,2.7925693704541894,1.9023979093737475,2.254812600745315,1.9293375487963775,1.9642587397918956,1.6857263993110156,2.1047823971425172,2.13606081613223,2.054142825993055,2.1875387903758936,2.180624650198337,1.8963690605161143,2.097967121563664,1.848878425381871,2.4754807132572,1.8619092860315603,2.091790177169477,2.157030893279333,1.7321976629063072,2.16402388235293,2.1973624274621644,1.958431976796999,1.9800437363540362,2.4156951596045855,2.4269111402357106,1.9061631196606432,2.031107399829514,1.9001743232862378,1.9650898724875148,2.329369479892919,2.031064173203834,2.0238760000954543,1.6148661926756231,1.8523632667804701,1.6760214864321912,2.177962066054107,1.9829494348283927,2.5274548563287587,1.714200652199065,1.812243537183697,2.265066587988973,2.0803522187531973,1.8786247126647395,1.4195620096670623,2.3148895016426216,1.863963877576058,1.983926104169744,2.06712330989011,1.6482270280633977,2.123726390396545,2.0781076350020964,2.0390493265461407,2.173925427143034,1.8347405869132938,2.2072428755148357,1.9838052943496158,2.1740746055051243,2.0281126542707186,2.161800115568274,2.3793889867649147,2.1909610736054383,2.4845710323271657,1.9905260254775372,1.6815786059249471,1.9710321314864538,2.055318823473602,2.0798510789502918,1.6733490294235362,1.9872061912440626,2.224331532767318,1.8035271728692701,2.0952288699332624,2.018814608985732,2.215439138661715,1.907908995301319,1.9270508716817354,1.6348271809396566,1.9281742970118705,2.1089682036202055,1.7045199073344206,1.4638918435393429,2.0738344334960224,1.98585415160488,1.9234048824061587,1.8618815723344144,1.9994474994579527,1.7292302383238478,1.9724000465260463,2.2670701184098987,1.4190982581083313,1.8758763954279982,2.192230212444056,2.167040940410456,2.1848291818537,2.2702898511056726,1.963003532437456,2.0948715000980624,1.9221437026920425,1.9894797097450605,2.1827366056278397,1.9452304646778926,2.127726525361828,1.9629075506370801,1.8213196724917062,2.2093041282429393,1.597940173375585,1.8426283499921037,2.3591802042411496,2.1607322428292703,1.8092487159276394,2.7934249742275856,1.835249097039193,2.2435665587561635,1.9869254687926394,2.0613988816338242,2.1111703701358167,2.1681715828821058,2.3730761122103177,2.0507280523088975,2.2214902258240437,2.2631890345305603,2.084137472048797,2.0873303537667676,2.37897641741642,2.093916700262428,2.5612030127169625,2.172692412501844,2.2719013940023114,2.4101468989964183,2.2903629361518507,2.0723730039745174,1.8642942245423224,1.8890586442864281,2.1421023470456757,2.0194337866212475,1.8811284479704051,1.9529270002946555,1.9440185495776408,2.039482869790361,1.6458500233756124,1.9163192872022545,2.544152609415339,2.0163626733288806,2.266715545513463,2.0804513599236616,1.8976600221246915,1.4222789728399738,2.079103202394285,1.7347345591914354,2.1703178881789382,2.219620282392067,2.2689315835230572,1.8076418079379253,2.095691201574401,2.194497984721294,2.2342274692749466,2.2713693198029774,2.013840812144555,1.912105862934522,1.804650392259077,2.0137257593393856,1.9302135326694208,2.6060131715404538,2.185730945398811,1.9347346505689627,1.997786643884871,2.0076009245508475,2.0580643346075678,1.9507980066958217,2.1312596698052273,1.567085887839077,0.6342893248972299,0.08159994596274744,1.2511877524884638,1.4509751406499398,0.6047045464947365,1.2053601319329559,1.5021805121283878,0.8543155365465744,1.4582488967748701,-0.10133217171053,-1.9950084739682206,0.09019786332283797,-0.6214293945137661,-0.38510834011962514,1.2779327194758752,1.0222611184200763,1.262851106710769,0.754286637573736,-1.7281518508721279,0.9396800949638147,-0.04998955363413149,1.4558632311694848,-0.6099122277092959,-0.5833868685358854],\"xaxis\":\"x\",\"y\":[2.0926111568427372,1.7461815883775464,2.1314124193239348,2.1651729878253363,1.7755964844486252,1.946646861406112,1.8348003383867642,2.0768711842258,2.132725361136016,2.0291097753937875,1.9549649506798557,2.197710761470962,2.265033287582408,2.230521972633941,2.3284343126468983,1.5113807888671031,2.099757802915983,1.894086810612947,2.001315626268095,2.063857712177945,1.8211276650170276,1.9542652266110512,1.9697234676167303,1.7152115266522543,1.5798404556283594,2.2373345354537975,1.7648800888268479,2.3099503324669683,2.3324673521960797,2.3811576696870436,2.0383736463044797,2.3098983814049965,1.7096220309812011,1.9262840006546946,1.9978587259710379,1.866729969510822,1.9158207685584545,1.6983381219453282,2.194776960778608,1.675959722219846,2.201103122222762,2.203251425963475,2.231103161711676,2.1440605307868608,1.7114922350545791,2.2381924739087165,2.1592940697187366,1.9213488516760449,1.926813219013709,1.548892576468974,2.369349802938604,2.100537931252708,1.9571056147835875,2.2403456903783003,1.9630745629640571,1.910267106442904,1.938830240605371,2.3108386906120524,2.2572540032194093,1.7676278508226955,1.653178536272793,1.925400721835605,2.037648083707699,2.209310222327836,2.1355474319104184,1.966254904933332,1.588689905553438,2.1762873799625804,1.9702693833102642,1.7089242768364898,1.8983594309677945,1.8355276695786173,1.8927725994382507,2.1797427110885796,2.2757367783805433,1.7003499019286532,2.1559404619391533,2.005429909167067,1.77759694975211,2.0302153237001237,2.018306647290407,1.7607195845737307,2.240086401667243,1.8364726394707893,2.3704431023290233,1.6996513375645819,2.286474011329107,2.238918812470513,2.161267553070282,2.050376269479843,1.9963158282041085,1.9534462381448736,1.971295251853107,2.350814867702097,1.958108855574052,2.252906419004566,1.8982273915663248,2.237500210360954,1.5638419152006295,2.031635298197644,2.0200395394384216,2.263551537264369,2.2745942158522725,2.006597699856275,2.0660514940486667,1.910486577027405,1.7674380194529637,1.632618180098594,2.0837007893038164,1.981554720940645,1.928566250359329,2.122035031777396,1.8288115401345513,2.0126701758540313,2.1373513842359113,2.183785928512322,2.5690814314030694,2.18157675254178,2.057111012841821,2.1749206166293433,1.8006778608165181,2.1304488471962606,2.071876301011542,1.907340285416441,1.659390200793494,1.9937212159924484,1.69871656342762,1.9505283947808454,1.7126138825232897,1.311893990819871,2.1460226044726647,1.67178296988396,1.681932768196965,1.8425074962950743,1.9465001031050033,1.9741214545317267,1.8813630048832823,1.7247113453570209,2.197969915966577,2.187759232224041,1.7204882701734987,1.8262072680142143,2.053473894780901,2.021134798998615,2.1503316388887974,2.0057151659166372,1.8639668586441591,1.8268386488108392,2.1200922651566376,1.974367119292121,1.605164429423517,2.390263500158236,2.1876419823805247,2.0492328985226256,2.266691333295775,1.9916290151777598,1.768585315314462,2.00144135096098,1.8910332939483128,2.177322212175631,1.916508376849011,2.1443737968408456,1.8928923775158015,2.4186266429562617,1.9242225171560705,2.3948204594678906,1.9023451302403762,2.077439117418555,1.8839008043639025,1.950755469487862,2.1706129562200003,2.05304127166339,1.8732598458712855,2.1593021430316766,1.9643928669572868,1.816173327113983,1.8837098359084463,2.0149550085459955,1.8215824789034376,1.6675770422512157,2.0378572878719106,2.4208184513071056,2.0356484423072922,2.1402406231176,1.9777092344734835,2.168095413676616,1.7320342200413767,2.084183071423416,2.2357576125568603,2.1094141139851135,2.315937241919596,1.7858766588343908,2.06959444395126,1.7560305355436174,1.5176375920054344,1.9139921838226581,2.5066954820599703,2.3553833676938014,1.8088102889765905,2.333515816424959,1.8590680000745,1.7917756376836265,1.727784461407326,1.6951101509702182,2.159803785674219,2.1589609082927974,2.407204591373367,2.4652018787239016,2.1066802316486273,1.9537783681492402,2.3913352030956627,2.1954293982840034,1.806719443856076,2.0254090295273,2.1462604987847955,2.106941439055858,2.349164164235807,1.7403245837979784,2.1430509002853606,1.6809764461264904,1.8125269337967123,2.022955937158388,2.1419457065890573,2.237795644305671,2.18218388707216,2.218065743832825,1.9105053094348874,1.9141644682320391,1.8221255640206349,2.081487977088286,1.871392704601556,1.8072720088892316,1.9272652652471642,2.32413319479346,1.5328925138403182,2.263451420568015,2.406623611307403,2.086091172253256,2.188169772624098,2.043454975655282,1.9608878430562853,1.8505914172230689,1.6398578429449162,1.9864145977888255,2.116475085651006,1.9437329651767414,2.350810606666469,1.8237710159200187,1.9108162181498132,1.7938507316666064,2.1846193567659316,1.8401678363464062,1.6409971333729632,2.095017930344823,1.7737374043618543,1.8136463495859136,1.97701369893064,1.5101957696186008,2.083256676002896,2.1994309958929668,1.8413709776103357,2.324223342694247,2.0113068673963115,2.034849753288252,1.7266490098879579,1.8097680377566838,1.883913671525923,2.0241844934803863,1.856871026767875,1.7100978011920092,1.8828922216042803,1.7398341856802175,2.2092042754821546,1.9828097627423773,1.9312790196634633,1.7912941750762417,1.9964966225768548,1.6500566564478096,2.3202358986867293,2.035077028896672,1.9119958165909507,2.002982039876404,2.295901714920295,1.9654881138009432,2.220067841443938,2.30404581103472,1.918756977063789,1.813580914662054,1.8322171914439158,2.0180463996098483,1.9487228422214244,1.8288372346780333,2.1085998042864125,1.9642936981463548,1.881911847910054,2.2436741188888902,2.0515661750814242,2.3156011324364507,2.284975414438525,2.1471402184898825,1.904099396912543,1.7476657322427103,2.080807644915221,2.1703438477662322,1.9309093843142688,1.8891614262470036,1.994099690109854,2.339465861128547,1.9800852482282243,1.9597662904565443,1.8376828979571806,2.1945876179727812,2.034956766480919,1.91155476263673,1.7708064319931438,2.0760894806143786,2.030358376497503,2.3110401421232196,1.9350786675882443,2.1510576339820413,2.030485713555388,2.1872040292708474,2.0793580239527087,2.3978795578436767,1.7619107933076175,1.968013886813253,1.971197055255528,2.5203352614438868,2.2950346705043305,2.3210075157326466,1.8511513822293884,1.756294727356711,1.9314450214546934,1.8584589911178686,1.772250080411634,2.2701068641658386,1.987348911124763,2.3972363164474935,2.1033202581910553,2.2640084438466763,1.8211738715554804,2.366374123460322,1.7189944491392217,2.015445561648023,2.0731035333344874,2.1675335528743593,1.9561979953739999,1.9155435759659662,1.8580009945277944,2.236940244156888,2.491632259143652,1.9991391372013052,1.8979452322557833,2.231760394626738,1.966102368727928,1.9136754880071878,2.2488516836007633,2.2999357265810465,2.186946725046606,1.7427310753691614,2.245572646727619,2.2183975838660994,2.191995106617514,1.998211684824836,2.367483394056083,1.7996399899207391,2.0038205569680274,1.8915548584030102,2.0958802154296183,1.696918112923109,1.8464338197277557,1.9485193039237467,2.109435449037164,1.6643743402660307,1.673199277682065,2.3436695806818624,2.35443625750067,2.318894816010647,1.950237443746115,2.0632459818411464,2.0711424405295396,2.3213782407913013,1.9963414291864992,2.052514391927227,2.0884166709563403,2.028809092650349,1.6814701453971632,2.2351815361261917,1.902914348663216,2.049560915357657,2.224546105717805,2.0980451589333518,1.8030610089511716,1.7156516587964967,2.2735409016818395,1.7687291679161437,1.9182124586435634,2.019039336928053,1.9775851535332933,2.257829717861834,2.013374839585815,2.1373804149859654,1.6512151196897529,1.9003439519973526,2.649767667420881,2.204495684786802,2.19958466035437,2.248278093369713,1.8910502825909263,1.9934768072313191,1.8348111561120595,1.6430189126958092,2.083134288617288,2.0407160181983706,2.229196301816955,2.2030266571435453,2.326415898696369,2.2803093411955566,2.105925612517323,1.9940077281854411,2.006183812479817,1.8205681225678834,2.0620613471658436,2.636705544052596,1.4165043567454763,1.9213790494285696,2.1093607065660187,2.001787599924869,1.8143207837373636,1.9995446959425769,2.143514591097999,1.9245148724183647,2.078666533140978,2.0426870215559165,1.7809792727583174,2.1891625424627077,1.9121750060725178,2.113982214330444,2.160544484118028,2.1210552384420485,1.9764746135219893,2.1573231216772615,1.378000970136961,1.7972582290666421,1.8243147819668186,1.6017937583679398,2.1321059932589854,1.959743579429386,1.5872933413780332,2.238687208080287,1.547722441978758,2.2666138072033495,2.325815760305409,2.1997985434057488,2.12596894796125,1.8492227669826704,1.8661595350057634,1.7514224839709922,1.8206297477069904,2.2687189362620592,1.8260631177112707,1.7385490964396602,1.657185196231641,2.392632573507128,1.8081188972700328,1.9149025592731626,1.841024166218701,2.0545060653604272,1.837926904935225,2.1332274056230656,1.9702350833090352,2.204856651740592,2.1718632703026657,2.1338699921178956,1.9535117962630508,-0.7279246184909911,-0.6733796906330318,-0.9642902766347774,0.13435840118306563,-0.08843927573143917,-1.5521220040144739,1.173092821189008,-0.0570123875874371,-1.5683433316443418,-1.440222913792359,0.4284991636800677,1.0605401375735113,-0.5267607935855709,1.049450255051723,1.2758254808764722,0.6159442801194372,0.7744858489422861,0.6028034764874244,-1.7961229985452092,1.5143523581981202,0.6548418260598234,-0.9692330595183458,-1.2225434078279154,-1.9096672669686918,-1.020490334735117],\"yaxis\":\"y\",\"type\":\"scatter\"},{\"alignmentgroup\":\"True\",\"boxpoints\":\"all\",\"fillcolor\":\"rgba(255,255,255,0)\",\"hoveron\":\"points\",\"hovertemplate\":\"y=%{y}<extra></extra>\",\"jitter\":0,\"legendgroup\":\"\",\"line\":{\"color\":\"rgba(255,255,255,0)\"},\"marker\":{\"color\":\"#636efa\",\"symbol\":\"line-ew-open\"},\"name\":\"\",\"offsetgroup\":\"\",\"showlegend\":false,\"xaxis\":\"x2\",\"y\":[2.0926111568427372,1.7461815883775464,2.1314124193239348,2.1651729878253363,1.7755964844486252,1.946646861406112,1.8348003383867642,2.0768711842258,2.132725361136016,2.0291097753937875,1.9549649506798557,2.197710761470962,2.265033287582408,2.230521972633941,2.3284343126468983,1.5113807888671031,2.099757802915983,1.894086810612947,2.001315626268095,2.063857712177945,1.8211276650170276,1.9542652266110512,1.9697234676167303,1.7152115266522543,1.5798404556283594,2.2373345354537975,1.7648800888268479,2.3099503324669683,2.3324673521960797,2.3811576696870436,2.0383736463044797,2.3098983814049965,1.7096220309812011,1.9262840006546946,1.9978587259710379,1.866729969510822,1.9158207685584545,1.6983381219453282,2.194776960778608,1.675959722219846,2.201103122222762,2.203251425963475,2.231103161711676,2.1440605307868608,1.7114922350545791,2.2381924739087165,2.1592940697187366,1.9213488516760449,1.926813219013709,1.548892576468974,2.369349802938604,2.100537931252708,1.9571056147835875,2.2403456903783003,1.9630745629640571,1.910267106442904,1.938830240605371,2.3108386906120524,2.2572540032194093,1.7676278508226955,1.653178536272793,1.925400721835605,2.037648083707699,2.209310222327836,2.1355474319104184,1.966254904933332,1.588689905553438,2.1762873799625804,1.9702693833102642,1.7089242768364898,1.8983594309677945,1.8355276695786173,1.8927725994382507,2.1797427110885796,2.2757367783805433,1.7003499019286532,2.1559404619391533,2.005429909167067,1.77759694975211,2.0302153237001237,2.018306647290407,1.7607195845737307,2.240086401667243,1.8364726394707893,2.3704431023290233,1.6996513375645819,2.286474011329107,2.238918812470513,2.161267553070282,2.050376269479843,1.9963158282041085,1.9534462381448736,1.971295251853107,2.350814867702097,1.958108855574052,2.252906419004566,1.8982273915663248,2.237500210360954,1.5638419152006295,2.031635298197644,2.0200395394384216,2.263551537264369,2.2745942158522725,2.006597699856275,2.0660514940486667,1.910486577027405,1.7674380194529637,1.632618180098594,2.0837007893038164,1.981554720940645,1.928566250359329,2.122035031777396,1.8288115401345513,2.0126701758540313,2.1373513842359113,2.183785928512322,2.5690814314030694,2.18157675254178,2.057111012841821,2.1749206166293433,1.8006778608165181,2.1304488471962606,2.071876301011542,1.907340285416441,1.659390200793494,1.9937212159924484,1.69871656342762,1.9505283947808454,1.7126138825232897,1.311893990819871,2.1460226044726647,1.67178296988396,1.681932768196965,1.8425074962950743,1.9465001031050033,1.9741214545317267,1.8813630048832823,1.7247113453570209,2.197969915966577,2.187759232224041,1.7204882701734987,1.8262072680142143,2.053473894780901,2.021134798998615,2.1503316388887974,2.0057151659166372,1.8639668586441591,1.8268386488108392,2.1200922651566376,1.974367119292121,1.605164429423517,2.390263500158236,2.1876419823805247,2.0492328985226256,2.266691333295775,1.9916290151777598,1.768585315314462,2.00144135096098,1.8910332939483128,2.177322212175631,1.916508376849011,2.1443737968408456,1.8928923775158015,2.4186266429562617,1.9242225171560705,2.3948204594678906,1.9023451302403762,2.077439117418555,1.8839008043639025,1.950755469487862,2.1706129562200003,2.05304127166339,1.8732598458712855,2.1593021430316766,1.9643928669572868,1.816173327113983,1.8837098359084463,2.0149550085459955,1.8215824789034376,1.6675770422512157,2.0378572878719106,2.4208184513071056,2.0356484423072922,2.1402406231176,1.9777092344734835,2.168095413676616,1.7320342200413767,2.084183071423416,2.2357576125568603,2.1094141139851135,2.315937241919596,1.7858766588343908,2.06959444395126,1.7560305355436174,1.5176375920054344,1.9139921838226581,2.5066954820599703,2.3553833676938014,1.8088102889765905,2.333515816424959,1.8590680000745,1.7917756376836265,1.727784461407326,1.6951101509702182,2.159803785674219,2.1589609082927974,2.407204591373367,2.4652018787239016,2.1066802316486273,1.9537783681492402,2.3913352030956627,2.1954293982840034,1.806719443856076,2.0254090295273,2.1462604987847955,2.106941439055858,2.349164164235807,1.7403245837979784,2.1430509002853606,1.6809764461264904,1.8125269337967123,2.022955937158388,2.1419457065890573,2.237795644305671,2.18218388707216,2.218065743832825,1.9105053094348874,1.9141644682320391,1.8221255640206349,2.081487977088286,1.871392704601556,1.8072720088892316,1.9272652652471642,2.32413319479346,1.5328925138403182,2.263451420568015,2.406623611307403,2.086091172253256,2.188169772624098,2.043454975655282,1.9608878430562853,1.8505914172230689,1.6398578429449162,1.9864145977888255,2.116475085651006,1.9437329651767414,2.350810606666469,1.8237710159200187,1.9108162181498132,1.7938507316666064,2.1846193567659316,1.8401678363464062,1.6409971333729632,2.095017930344823,1.7737374043618543,1.8136463495859136,1.97701369893064,1.5101957696186008,2.083256676002896,2.1994309958929668,1.8413709776103357,2.324223342694247,2.0113068673963115,2.034849753288252,1.7266490098879579,1.8097680377566838,1.883913671525923,2.0241844934803863,1.856871026767875,1.7100978011920092,1.8828922216042803,1.7398341856802175,2.2092042754821546,1.9828097627423773,1.9312790196634633,1.7912941750762417,1.9964966225768548,1.6500566564478096,2.3202358986867293,2.035077028896672,1.9119958165909507,2.002982039876404,2.295901714920295,1.9654881138009432,2.220067841443938,2.30404581103472,1.918756977063789,1.813580914662054,1.8322171914439158,2.0180463996098483,1.9487228422214244,1.8288372346780333,2.1085998042864125,1.9642936981463548,1.881911847910054,2.2436741188888902,2.0515661750814242,2.3156011324364507,2.284975414438525,2.1471402184898825,1.904099396912543,1.7476657322427103,2.080807644915221,2.1703438477662322,1.9309093843142688,1.8891614262470036,1.994099690109854,2.339465861128547,1.9800852482282243,1.9597662904565443,1.8376828979571806,2.1945876179727812,2.034956766480919,1.91155476263673,1.7708064319931438,2.0760894806143786,2.030358376497503,2.3110401421232196,1.9350786675882443,2.1510576339820413,2.030485713555388,2.1872040292708474,2.0793580239527087,2.3978795578436767,1.7619107933076175,1.968013886813253,1.971197055255528,2.5203352614438868,2.2950346705043305,2.3210075157326466,1.8511513822293884,1.756294727356711,1.9314450214546934,1.8584589911178686,1.772250080411634,2.2701068641658386,1.987348911124763,2.3972363164474935,2.1033202581910553,2.2640084438466763,1.8211738715554804,2.366374123460322,1.7189944491392217,2.015445561648023,2.0731035333344874,2.1675335528743593,1.9561979953739999,1.9155435759659662,1.8580009945277944,2.236940244156888,2.491632259143652,1.9991391372013052,1.8979452322557833,2.231760394626738,1.966102368727928,1.9136754880071878,2.2488516836007633,2.2999357265810465,2.186946725046606,1.7427310753691614,2.245572646727619,2.2183975838660994,2.191995106617514,1.998211684824836,2.367483394056083,1.7996399899207391,2.0038205569680274,1.8915548584030102,2.0958802154296183,1.696918112923109,1.8464338197277557,1.9485193039237467,2.109435449037164,1.6643743402660307,1.673199277682065,2.3436695806818624,2.35443625750067,2.318894816010647,1.950237443746115,2.0632459818411464,2.0711424405295396,2.3213782407913013,1.9963414291864992,2.052514391927227,2.0884166709563403,2.028809092650349,1.6814701453971632,2.2351815361261917,1.902914348663216,2.049560915357657,2.224546105717805,2.0980451589333518,1.8030610089511716,1.7156516587964967,2.2735409016818395,1.7687291679161437,1.9182124586435634,2.019039336928053,1.9775851535332933,2.257829717861834,2.013374839585815,2.1373804149859654,1.6512151196897529,1.9003439519973526,2.649767667420881,2.204495684786802,2.19958466035437,2.248278093369713,1.8910502825909263,1.9934768072313191,1.8348111561120595,1.6430189126958092,2.083134288617288,2.0407160181983706,2.229196301816955,2.2030266571435453,2.326415898696369,2.2803093411955566,2.105925612517323,1.9940077281854411,2.006183812479817,1.8205681225678834,2.0620613471658436,2.636705544052596,1.4165043567454763,1.9213790494285696,2.1093607065660187,2.001787599924869,1.8143207837373636,1.9995446959425769,2.143514591097999,1.9245148724183647,2.078666533140978,2.0426870215559165,1.7809792727583174,2.1891625424627077,1.9121750060725178,2.113982214330444,2.160544484118028,2.1210552384420485,1.9764746135219893,2.1573231216772615,1.378000970136961,1.7972582290666421,1.8243147819668186,1.6017937583679398,2.1321059932589854,1.959743579429386,1.5872933413780332,2.238687208080287,1.547722441978758,2.2666138072033495,2.325815760305409,2.1997985434057488,2.12596894796125,1.8492227669826704,1.8661595350057634,1.7514224839709922,1.8206297477069904,2.2687189362620592,1.8260631177112707,1.7385490964396602,1.657185196231641,2.392632573507128,1.8081188972700328,1.9149025592731626,1.841024166218701,2.0545060653604272,1.837926904935225,2.1332274056230656,1.9702350833090352,2.204856651740592,2.1718632703026657,2.1338699921178956,1.9535117962630508,-0.7279246184909911,-0.6733796906330318,-0.9642902766347774,0.13435840118306563,-0.08843927573143917,-1.5521220040144739,1.173092821189008,-0.0570123875874371,-1.5683433316443418,-1.440222913792359,0.4284991636800677,1.0605401375735113,-0.5267607935855709,1.049450255051723,1.2758254808764722,0.6159442801194372,0.7744858489422861,0.6028034764874244,-1.7961229985452092,1.5143523581981202,0.6548418260598234,-0.9692330595183458,-1.2225434078279154,-1.9096672669686918,-1.020490334735117],\"yaxis\":\"y2\",\"type\":\"box\"}],                        {\"template\":{\"data\":{\"histogram2dcontour\":[{\"type\":\"histogram2dcontour\",\"colorbar\":{\"outlinewidth\":0,\"ticks\":\"\"},\"colorscale\":[[0.0,\"#0d0887\"],[0.1111111111111111,\"#46039f\"],[0.2222222222222222,\"#7201a8\"],[0.3333333333333333,\"#9c179e\"],[0.4444444444444444,\"#bd3786\"],[0.5555555555555556,\"#d8576b\"],[0.6666666666666666,\"#ed7953\"],[0.7777777777777778,\"#fb9f3a\"],[0.8888888888888888,\"#fdca26\"],[1.0,\"#f0f921\"]]}],\"choropleth\":[{\"type\":\"choropleth\",\"colorbar\":{\"outlinewidth\":0,\"ticks\":\"\"}}],\"histogram2d\":[{\"type\":\"histogram2d\",\"colorbar\":{\"outlinewidth\":0,\"ticks\":\"\"},\"colorscale\":[[0.0,\"#0d0887\"],[0.1111111111111111,\"#46039f\"],[0.2222222222222222,\"#7201a8\"],[0.3333333333333333,\"#9c179e\"],[0.4444444444444444,\"#bd3786\"],[0.5555555555555556,\"#d8576b\"],[0.6666666666666666,\"#ed7953\"],[0.7777777777777778,\"#fb9f3a\"],[0.8888888888888888,\"#fdca26\"],[1.0,\"#f0f921\"]]}],\"heatmap\":[{\"type\":\"heatmap\",\"colorbar\":{\"outlinewidth\":0,\"ticks\":\"\"},\"colorscale\":[[0.0,\"#0d0887\"],[0.1111111111111111,\"#46039f\"],[0.2222222222222222,\"#7201a8\"],[0.3333333333333333,\"#9c179e\"],[0.4444444444444444,\"#bd3786\"],[0.5555555555555556,\"#d8576b\"],[0.6666666666666666,\"#ed7953\"],[0.7777777777777778,\"#fb9f3a\"],[0.8888888888888888,\"#fdca26\"],[1.0,\"#f0f921\"]]}],\"heatmapgl\":[{\"type\":\"heatmapgl\",\"colorbar\":{\"outlinewidth\":0,\"ticks\":\"\"},\"colorscale\":[[0.0,\"#0d0887\"],[0.1111111111111111,\"#46039f\"],[0.2222222222222222,\"#7201a8\"],[0.3333333333333333,\"#9c179e\"],[0.4444444444444444,\"#bd3786\"],[0.5555555555555556,\"#d8576b\"],[0.6666666666666666,\"#ed7953\"],[0.7777777777777778,\"#fb9f3a\"],[0.8888888888888888,\"#fdca26\"],[1.0,\"#f0f921\"]]}],\"contourcarpet\":[{\"type\":\"contourcarpet\",\"colorbar\":{\"outlinewidth\":0,\"ticks\":\"\"}}],\"contour\":[{\"type\":\"contour\",\"colorbar\":{\"outlinewidth\":0,\"ticks\":\"\"},\"colorscale\":[[0.0,\"#0d0887\"],[0.1111111111111111,\"#46039f\"],[0.2222222222222222,\"#7201a8\"],[0.3333333333333333,\"#9c179e\"],[0.4444444444444444,\"#bd3786\"],[0.5555555555555556,\"#d8576b\"],[0.6666666666666666,\"#ed7953\"],[0.7777777777777778,\"#fb9f3a\"],[0.8888888888888888,\"#fdca26\"],[1.0,\"#f0f921\"]]}],\"surface\":[{\"type\":\"surface\",\"colorbar\":{\"outlinewidth\":0,\"ticks\":\"\"},\"colorscale\":[[0.0,\"#0d0887\"],[0.1111111111111111,\"#46039f\"],[0.2222222222222222,\"#7201a8\"],[0.3333333333333333,\"#9c179e\"],[0.4444444444444444,\"#bd3786\"],[0.5555555555555556,\"#d8576b\"],[0.6666666666666666,\"#ed7953\"],[0.7777777777777778,\"#fb9f3a\"],[0.8888888888888888,\"#fdca26\"],[1.0,\"#f0f921\"]]}],\"mesh3d\":[{\"type\":\"mesh3d\",\"colorbar\":{\"outlinewidth\":0,\"ticks\":\"\"}}],\"scatter\":[{\"fillpattern\":{\"fillmode\":\"overlay\",\"size\":10,\"solidity\":0.2},\"type\":\"scatter\"}],\"parcoords\":[{\"type\":\"parcoords\",\"line\":{\"colorbar\":{\"outlinewidth\":0,\"ticks\":\"\"}}}],\"scatterpolargl\":[{\"type\":\"scatterpolargl\",\"marker\":{\"colorbar\":{\"outlinewidth\":0,\"ticks\":\"\"}}}],\"bar\":[{\"error_x\":{\"color\":\"#2a3f5f\"},\"error_y\":{\"color\":\"#2a3f5f\"},\"marker\":{\"line\":{\"color\":\"#E5ECF6\",\"width\":0.5},\"pattern\":{\"fillmode\":\"overlay\",\"size\":10,\"solidity\":0.2}},\"type\":\"bar\"}],\"scattergeo\":[{\"type\":\"scattergeo\",\"marker\":{\"colorbar\":{\"outlinewidth\":0,\"ticks\":\"\"}}}],\"scatterpolar\":[{\"type\":\"scatterpolar\",\"marker\":{\"colorbar\":{\"outlinewidth\":0,\"ticks\":\"\"}}}],\"histogram\":[{\"marker\":{\"pattern\":{\"fillmode\":\"overlay\",\"size\":10,\"solidity\":0.2}},\"type\":\"histogram\"}],\"scattergl\":[{\"type\":\"scattergl\",\"marker\":{\"colorbar\":{\"outlinewidth\":0,\"ticks\":\"\"}}}],\"scatter3d\":[{\"type\":\"scatter3d\",\"line\":{\"colorbar\":{\"outlinewidth\":0,\"ticks\":\"\"}},\"marker\":{\"colorbar\":{\"outlinewidth\":0,\"ticks\":\"\"}}}],\"scattermapbox\":[{\"type\":\"scattermapbox\",\"marker\":{\"colorbar\":{\"outlinewidth\":0,\"ticks\":\"\"}}}],\"scatterternary\":[{\"type\":\"scatterternary\",\"marker\":{\"colorbar\":{\"outlinewidth\":0,\"ticks\":\"\"}}}],\"scattercarpet\":[{\"type\":\"scattercarpet\",\"marker\":{\"colorbar\":{\"outlinewidth\":0,\"ticks\":\"\"}}}],\"carpet\":[{\"aaxis\":{\"endlinecolor\":\"#2a3f5f\",\"gridcolor\":\"white\",\"linecolor\":\"white\",\"minorgridcolor\":\"white\",\"startlinecolor\":\"#2a3f5f\"},\"baxis\":{\"endlinecolor\":\"#2a3f5f\",\"gridcolor\":\"white\",\"linecolor\":\"white\",\"minorgridcolor\":\"white\",\"startlinecolor\":\"#2a3f5f\"},\"type\":\"carpet\"}],\"table\":[{\"cells\":{\"fill\":{\"color\":\"#EBF0F8\"},\"line\":{\"color\":\"white\"}},\"header\":{\"fill\":{\"color\":\"#C8D4E3\"},\"line\":{\"color\":\"white\"}},\"type\":\"table\"}],\"barpolar\":[{\"marker\":{\"line\":{\"color\":\"#E5ECF6\",\"width\":0.5},\"pattern\":{\"fillmode\":\"overlay\",\"size\":10,\"solidity\":0.2}},\"type\":\"barpolar\"}],\"pie\":[{\"automargin\":true,\"type\":\"pie\"}]},\"layout\":{\"autotypenumbers\":\"strict\",\"colorway\":[\"#636efa\",\"#EF553B\",\"#00cc96\",\"#ab63fa\",\"#FFA15A\",\"#19d3f3\",\"#FF6692\",\"#B6E880\",\"#FF97FF\",\"#FECB52\"],\"font\":{\"color\":\"#2a3f5f\"},\"hovermode\":\"closest\",\"hoverlabel\":{\"align\":\"left\"},\"paper_bgcolor\":\"white\",\"plot_bgcolor\":\"#E5ECF6\",\"polar\":{\"bgcolor\":\"#E5ECF6\",\"angularaxis\":{\"gridcolor\":\"white\",\"linecolor\":\"white\",\"ticks\":\"\"},\"radialaxis\":{\"gridcolor\":\"white\",\"linecolor\":\"white\",\"ticks\":\"\"}},\"ternary\":{\"bgcolor\":\"#E5ECF6\",\"aaxis\":{\"gridcolor\":\"white\",\"linecolor\":\"white\",\"ticks\":\"\"},\"baxis\":{\"gridcolor\":\"white\",\"linecolor\":\"white\",\"ticks\":\"\"},\"caxis\":{\"gridcolor\":\"white\",\"linecolor\":\"white\",\"ticks\":\"\"}},\"coloraxis\":{\"colorbar\":{\"outlinewidth\":0,\"ticks\":\"\"}},\"colorscale\":{\"sequential\":[[0.0,\"#0d0887\"],[0.1111111111111111,\"#46039f\"],[0.2222222222222222,\"#7201a8\"],[0.3333333333333333,\"#9c179e\"],[0.4444444444444444,\"#bd3786\"],[0.5555555555555556,\"#d8576b\"],[0.6666666666666666,\"#ed7953\"],[0.7777777777777778,\"#fb9f3a\"],[0.8888888888888888,\"#fdca26\"],[1.0,\"#f0f921\"]],\"sequentialminus\":[[0.0,\"#0d0887\"],[0.1111111111111111,\"#46039f\"],[0.2222222222222222,\"#7201a8\"],[0.3333333333333333,\"#9c179e\"],[0.4444444444444444,\"#bd3786\"],[0.5555555555555556,\"#d8576b\"],[0.6666666666666666,\"#ed7953\"],[0.7777777777777778,\"#fb9f3a\"],[0.8888888888888888,\"#fdca26\"],[1.0,\"#f0f921\"]],\"diverging\":[[0,\"#8e0152\"],[0.1,\"#c51b7d\"],[0.2,\"#de77ae\"],[0.3,\"#f1b6da\"],[0.4,\"#fde0ef\"],[0.5,\"#f7f7f7\"],[0.6,\"#e6f5d0\"],[0.7,\"#b8e186\"],[0.8,\"#7fbc41\"],[0.9,\"#4d9221\"],[1,\"#276419\"]]},\"xaxis\":{\"gridcolor\":\"white\",\"linecolor\":\"white\",\"ticks\":\"\",\"title\":{\"standoff\":15},\"zerolinecolor\":\"white\",\"automargin\":true,\"zerolinewidth\":2},\"yaxis\":{\"gridcolor\":\"white\",\"linecolor\":\"white\",\"ticks\":\"\",\"title\":{\"standoff\":15},\"zerolinecolor\":\"white\",\"automargin\":true,\"zerolinewidth\":2},\"scene\":{\"xaxis\":{\"backgroundcolor\":\"#E5ECF6\",\"gridcolor\":\"white\",\"linecolor\":\"white\",\"showbackground\":true,\"ticks\":\"\",\"zerolinecolor\":\"white\",\"gridwidth\":2},\"yaxis\":{\"backgroundcolor\":\"#E5ECF6\",\"gridcolor\":\"white\",\"linecolor\":\"white\",\"showbackground\":true,\"ticks\":\"\",\"zerolinecolor\":\"white\",\"gridwidth\":2},\"zaxis\":{\"backgroundcolor\":\"#E5ECF6\",\"gridcolor\":\"white\",\"linecolor\":\"white\",\"showbackground\":true,\"ticks\":\"\",\"zerolinecolor\":\"white\",\"gridwidth\":2}},\"shapedefaults\":{\"line\":{\"color\":\"#2a3f5f\"}},\"annotationdefaults\":{\"arrowcolor\":\"#2a3f5f\",\"arrowhead\":0,\"arrowwidth\":1},\"geo\":{\"bgcolor\":\"white\",\"landcolor\":\"#E5ECF6\",\"subunitcolor\":\"white\",\"showland\":true,\"showlakes\":true,\"lakecolor\":\"white\"},\"title\":{\"x\":0.05},\"mapbox\":{\"style\":\"light\"}}},\"xaxis\":{\"anchor\":\"y\",\"domain\":[0.0,0.8358],\"title\":{\"text\":\"x\"}},\"yaxis\":{\"anchor\":\"x\",\"domain\":[0.0,1.0],\"title\":{\"text\":\"y\"}},\"xaxis2\":{\"anchor\":\"y2\",\"domain\":[0.8408,1.0],\"matches\":\"x2\",\"showticklabels\":false,\"showline\":false,\"ticks\":\"\",\"showgrid\":false},\"yaxis2\":{\"anchor\":\"x2\",\"domain\":[0.0,1.0],\"matches\":\"y\",\"showticklabels\":false,\"showgrid\":true},\"legend\":{\"tracegroupgap\":0},\"margin\":{\"t\":60}},                        {\"responsive\": true}                    ).then(function(){\n",
       "                            \n",
       "var gd = document.getElementById('441c36d3-8898-43a7-971f-fe2fc43844cf');\n",
       "var x = new MutationObserver(function (mutations, observer) {{\n",
       "        var display = window.getComputedStyle(gd).display;\n",
       "        if (!display || display === 'none') {{\n",
       "            console.log([gd, 'removed!']);\n",
       "            Plotly.purge(gd);\n",
       "            observer.disconnect();\n",
       "        }}\n",
       "}});\n",
       "\n",
       "// Listen for the removal of the full notebook cells\n",
       "var notebookContainer = gd.closest('#notebook-container');\n",
       "if (notebookContainer) {{\n",
       "    x.observe(notebookContainer, {childList: true});\n",
       "}}\n",
       "\n",
       "// Listen for the clearing of the current output cell\n",
       "var outputEl = gd.closest('.output');\n",
       "if (outputEl) {{\n",
       "    x.observe(outputEl, {childList: true});\n",
       "}}\n",
       "\n",
       "                        })                };                });            </script>        </div>"
      ]
     },
     "metadata": {},
     "output_type": "display_data"
    }
   ],
   "source": [
    "px.scatter(x = X_train_pd[0], y = X_train_pd[1], marginal_y=\"rug\")"
   ]
  },
  {
   "cell_type": "code",
   "execution_count": 15,
   "id": "476faa21-24d4-4e78-9620-9b151db9afcf",
   "metadata": {},
   "outputs": [
    {
     "name": "stdout",
     "output_type": "stream",
     "text": [
      "The training data: {0: 477, 1: 23}\n",
      "The training data: {0: 472, 1: 28}\n",
      "The threshold for the defined comtanimation rate: 1.321258785666126\n"
     ]
    }
   ],
   "source": [
    "from pyod.models.lof import LOF\n",
    "lof = LOF(contamination=0.05) \n",
    "lof.fit(X_train)\n",
    "\n",
    "# Training data\n",
    "y_train_scores = lof.decision_function(X_train)\n",
    "y_train_pred = lof.predict(X_train)\n",
    "\n",
    "# Test data\n",
    "y_test_scores = lof.decision_function(X_test)\n",
    "y_test_pred = lof.predict(X_test) # etiquetas de outliers (0 o 1)\n",
    "\n",
    "def count_stat(vector):\n",
    "    # Como son '0' y '1', podemos ejecutar una estadística de conteo. \n",
    "    unique, counts = np.unique(vector, return_counts=True)\n",
    "    return dict(zip(unique, counts))\n",
    "\n",
    "print(\"training data:\", count_stat(y_train_pred))\n",
    "print(\"test data:\", count_stat(y_test_pred))\n",
    "# Threshold para la tasa de contaminación definida:\n",
    "print(\"threshold:\" , lof.threshold_)"
   ]
  },
  {
   "cell_type": "code",
   "execution_count": 16,
   "id": "b3dbf2e4-51c8-495e-8b29-8b9dc725e9ce",
   "metadata": {},
   "outputs": [
    {
     "data": {
      "text/plain": [
       "{'algorithm': 'auto',\n",
       " 'contamination': 0.05,\n",
       " 'leaf_size': 30,\n",
       " 'metric': 'minkowski',\n",
       " 'metric_params': None,\n",
       " 'n_jobs': 1,\n",
       " 'n_neighbors': 20,\n",
       " 'novelty': True,\n",
       " 'p': 2}"
      ]
     },
     "execution_count": 16,
     "metadata": {},
     "output_type": "execute_result"
    }
   ],
   "source": [
    "lof.get_params()"
   ]
  },
  {
   "cell_type": "code",
   "execution_count": 17,
   "id": "6bb2b53f-7a4f-4f0e-8782-b3bdd7c20d54",
   "metadata": {},
   "outputs": [
    {
     "data": {
      "text/html": [
       "<div>\n",
       "<style scoped>\n",
       "    .dataframe tbody tr th:only-of-type {\n",
       "        vertical-align: middle;\n",
       "    }\n",
       "\n",
       "    .dataframe tbody tr th {\n",
       "        vertical-align: top;\n",
       "    }\n",
       "\n",
       "    .dataframe thead th {\n",
       "        text-align: right;\n",
       "    }\n",
       "</style>\n",
       "<table border=\"1\" class=\"dataframe\">\n",
       "  <thead>\n",
       "    <tr style=\"text-align: right;\">\n",
       "      <th></th>\n",
       "      <th>Group</th>\n",
       "      <th>Count</th>\n",
       "      <th>Count %</th>\n",
       "      <th>0</th>\n",
       "      <th>1</th>\n",
       "      <th>2</th>\n",
       "      <th>3</th>\n",
       "      <th>4</th>\n",
       "      <th>5</th>\n",
       "      <th>Anomaly_Score</th>\n",
       "    </tr>\n",
       "  </thead>\n",
       "  <tbody>\n",
       "    <tr>\n",
       "      <th>0</th>\n",
       "      <td>Normal</td>\n",
       "      <td>477</td>\n",
       "      <td>95.4</td>\n",
       "      <td>1.94</td>\n",
       "      <td>1.92</td>\n",
       "      <td>1.90</td>\n",
       "      <td>1.89</td>\n",
       "      <td>1.92</td>\n",
       "      <td>1.9</td>\n",
       "      <td>1.07</td>\n",
       "    </tr>\n",
       "    <tr>\n",
       "      <th>1</th>\n",
       "      <td>Outlier</td>\n",
       "      <td>23</td>\n",
       "      <td>4.6</td>\n",
       "      <td>1.58</td>\n",
       "      <td>1.46</td>\n",
       "      <td>1.53</td>\n",
       "      <td>1.71</td>\n",
       "      <td>1.54</td>\n",
       "      <td>1.5</td>\n",
       "      <td>1.77</td>\n",
       "    </tr>\n",
       "  </tbody>\n",
       "</table>\n",
       "</div>"
      ],
      "text/plain": [
       "     Group  Count  Count %     0     1     2     3     4    5  Anomaly_Score\n",
       "0   Normal    477     95.4  1.94  1.92  1.90  1.89  1.92  1.9           1.07\n",
       "1  Outlier     23      4.6  1.58  1.46  1.53  1.71  1.54  1.5           1.77"
      ]
     },
     "execution_count": 17,
     "metadata": {},
     "output_type": "execute_result"
    }
   ],
   "source": [
    "threshold = lof.threshold_ \n",
    "\n",
    "def descriptive_stat_threshold(df,pred_score, threshold):\n",
    "    # Veamos cuántos '0 y' 1.\n",
    "    df = pd.DataFrame(df)\n",
    "    df['Anomaly_Score'] = pred_score\n",
    "    df['Group'] = np.where(df['Anomaly_Score']< threshold, 'Normal', 'Outlier')\n",
    "\n",
    "    # Ahora veamos las estadísticas resumidas:\n",
    "    cnt = df.groupby('Group')['Anomaly_Score'].count().reset_index().rename(columns={'Anomaly_Score':'Count'})\n",
    "    cnt['Count %'] = (cnt['Count'] / cnt['Count'].sum()) * 100 # The count and count %\n",
    "    stat = df.groupby('Group').mean().round(2).reset_index() # el avg.\n",
    "    stat = cnt.merge(stat, left_on='Group',right_on='Group') # Put the count and the avg. together\n",
    "    return (stat)\n",
    "\n",
    "descriptive_stat_threshold(X_train,y_train_scores, threshold)"
   ]
  },
  {
   "cell_type": "code",
   "execution_count": 18,
   "id": "7113a563-8446-49f6-9ee8-7a4fd21233c7",
   "metadata": {},
   "outputs": [
    {
     "data": {
      "text/html": [
       "<div>\n",
       "<style scoped>\n",
       "    .dataframe tbody tr th:only-of-type {\n",
       "        vertical-align: middle;\n",
       "    }\n",
       "\n",
       "    .dataframe tbody tr th {\n",
       "        vertical-align: top;\n",
       "    }\n",
       "\n",
       "    .dataframe thead th {\n",
       "        text-align: right;\n",
       "    }\n",
       "</style>\n",
       "<table border=\"1\" class=\"dataframe\">\n",
       "  <thead>\n",
       "    <tr style=\"text-align: right;\">\n",
       "      <th>Pred</th>\n",
       "      <th>0</th>\n",
       "      <th>1</th>\n",
       "    </tr>\n",
       "    <tr>\n",
       "      <th>Actual</th>\n",
       "      <th></th>\n",
       "      <th></th>\n",
       "    </tr>\n",
       "  </thead>\n",
       "  <tbody>\n",
       "    <tr>\n",
       "      <th>0.0</th>\n",
       "      <td>455</td>\n",
       "      <td>20</td>\n",
       "    </tr>\n",
       "    <tr>\n",
       "      <th>1.0</th>\n",
       "      <td>17</td>\n",
       "      <td>8</td>\n",
       "    </tr>\n",
       "  </tbody>\n",
       "</table>\n",
       "</div>"
      ],
      "text/plain": [
       "Pred      0   1\n",
       "Actual         \n",
       "0.0     455  20\n",
       "1.0      17   8"
      ]
     },
     "execution_count": 18,
     "metadata": {},
     "output_type": "execute_result"
    }
   ],
   "source": [
    "Actual_pred = pd.DataFrame({'Actual': y_test, 'Anomaly_Score': y_test_scores})\n",
    "Actual_pred['Pred'] = np.where(Actual_pred['Anomaly_Score']< threshold,0,1)\n",
    "pd.crosstab(Actual_pred['Actual'],Actual_pred['Pred'])"
   ]
  },
  {
   "cell_type": "code",
   "execution_count": 72,
   "id": "1032bef9-9492-470c-819e-846f1df9512e",
   "metadata": {},
   "outputs": [],
   "source": [
    "# asdasdasdasd (*)"
   ]
  }
 ],
 "metadata": {
  "kernelspec": {
   "display_name": "Python 3 (ipykernel)",
   "language": "python",
   "name": "python3"
  },
  "language_info": {
   "codemirror_mode": {
    "name": "ipython",
    "version": 3
   },
   "file_extension": ".py",
   "mimetype": "text/x-python",
   "name": "python",
   "nbconvert_exporter": "python",
   "pygments_lexer": "ipython3",
   "version": "3.8.13"
  }
 },
 "nbformat": 4,
 "nbformat_minor": 5
}
